{
 "cells": [
  {
   "cell_type": "code",
   "execution_count": 10,
   "metadata": {},
   "outputs": [
    {
     "name": "stdout",
     "output_type": "stream",
     "text": [
      "Requirement already satisfied: numpy in c:\\users\\julia\\appdata\\local\\programs\\python\\python310\\lib\\site-packages (from -r requirements.txt (line 1)) (1.26.4)\n",
      "Requirement already satisfied: pandas in c:\\users\\julia\\appdata\\local\\programs\\python\\python310\\lib\\site-packages (from -r requirements.txt (line 2)) (2.2.2)\n"
     ]
    },
    {
     "name": "stderr",
     "output_type": "stream",
     "text": [
      "ERROR: Could not find a version that satisfies the requirement glob (from versions: none)\n",
      "ERROR: No matching distribution found for glob\n"
     ]
    }
   ],
   "source": [
    "!pip install -r requirements.txt #Instalar as dependências do projeto\n"
   ]
  },
  {
   "cell_type": "code",
   "execution_count": 16,
   "metadata": {},
   "outputs": [
    {
     "name": "stdout",
     "output_type": "stream",
     "text": [
      "         id   acelX    acelY   acelZ    girX    girY     girZ  \\\n",
      "0      9949  3465.0  -2115.0   986.0  5168.0 -3162.0   3266.0   \n",
      "1      9950  3131.0  -1980.0   418.0  5120.0  1207.0  13692.0   \n",
      "2      9951  1438.0   -588.0  3494.0  5104.0  1932.0  -2646.0   \n",
      "3      9952  1281.0   -326.0  4320.0  5120.0 -5826.0  -5113.0   \n",
      "4      9953  1365.0   -840.0  2588.0  5072.0  1590.0  -1217.0   \n",
      "...     ...     ...      ...     ...     ...     ...      ...   \n",
      "1687  12134  2264.0   -816.0  2951.0  2560.0 -1090.0  -6560.0   \n",
      "1688  12135  2994.0  -2699.0   317.0  2672.0  -955.0   -827.0   \n",
      "1689  12136  3084.0  -1936.0  -443.0  2720.0 -6758.0   1650.0   \n",
      "1690  12202 -3316.0   1776.0  1006.0  2544.0 -2493.0  -6249.0   \n",
      "1691  12203  2232.0  16548.0  -484.0  2592.0  -219.0  -1811.0   \n",
      "\n",
      "      idTipoMovimento      mag  \n",
      "0                   2  -4032.0  \n",
      "1                   2  12110.0  \n",
      "2                   2  -3391.0  \n",
      "3                   2  -4015.0  \n",
      "4                   2  10230.0  \n",
      "...               ...      ...  \n",
      "1687                2  -5369.0  \n",
      "1688                2  -1731.0  \n",
      "1689                2   -953.0  \n",
      "1690                2 -24518.0  \n",
      "1691                2  14037.0  \n",
      "\n",
      "[1692 rows x 9 columns]\n"
     ]
    }
   ],
   "source": [
    "import pandas as pd\n",
    "\n",
    "raw = pd.read_csv(\"C:\\\\TCC\\\\dataset\\\\Andando-PausasNãoMarcadas.csv\") #Importando o dataset\n",
    "print(raw)\n"
   ]
  },
  {
   "cell_type": "code",
   "execution_count": 27,
   "metadata": {},
   "outputs": [
    {
     "name": "stdout",
     "output_type": "stream",
     "text": [
      "       acelX    acelY   acelZ movimento\n",
      "0     3465.0  -2115.0   986.0   andando\n",
      "1     3131.0  -1980.0   418.0   andando\n",
      "2     1438.0   -588.0  3494.0   andando\n",
      "3     1281.0   -326.0  4320.0   andando\n",
      "4     1365.0   -840.0  2588.0   andando\n",
      "...      ...      ...     ...       ...\n",
      "1687  2264.0   -816.0  2951.0   andando\n",
      "1688  2994.0  -2699.0   317.0   andando\n",
      "1689  3084.0  -1936.0  -443.0   andando\n",
      "1690 -3316.0   1776.0  1006.0   andando\n",
      "1691  2232.0  16548.0  -484.0   andando\n",
      "\n",
      "[1692 rows x 4 columns]\n"
     ]
    }
   ],
   "source": [
    "df = raw.iloc[:, 1:4]\n",
    "df['movimento'] = \"andando\" # Adicionando tag aos dados\n",
    "print(df)"
   ]
  }
 ],
 "metadata": {
  "kernelspec": {
   "display_name": "Python 3",
   "language": "python",
   "name": "python3"
  },
  "language_info": {
   "codemirror_mode": {
    "name": "ipython",
    "version": 3
   },
   "file_extension": ".py",
   "mimetype": "text/x-python",
   "name": "python",
   "nbconvert_exporter": "python",
   "pygments_lexer": "ipython3",
   "version": "3.10.11"
  }
 },
 "nbformat": 4,
 "nbformat_minor": 2
}
