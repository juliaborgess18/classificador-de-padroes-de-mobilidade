{
 "cells": [
  {
   "cell_type": "markdown",
   "metadata": {},
   "source": [
    "## Legenda\n",
    "1 - CORRENDO\n",
    "2 - ANDANDO\n",
    "3 - CAINDO"
   ]
  },
  {
   "cell_type": "markdown",
   "metadata": {},
   "source": [
    "### Import das bibliotecas utilizadas"
   ]
  },
  {
   "cell_type": "code",
   "execution_count": 3,
   "metadata": {},
   "outputs": [],
   "source": [
    "import pandas as pd\n",
    "import numpy as np\n",
    "import matplotlib.pyplot as plt"
   ]
  },
  {
   "cell_type": "markdown",
   "metadata": {},
   "source": [
    "### Seleciona acelX, acelY, acelZ e atividade"
   ]
  },
  {
   "cell_type": "code",
   "execution_count": 4,
   "metadata": {},
   "outputs": [],
   "source": [
    "df_andando  = pd.read_csv(\"C:\\\\classificador-de-padroes-de-mobilidade\\\\dataset\\\\raw\\\\Andando-PausasNãoMarcadas.csv\")\n",
    "df_correndo = pd.read_excel(\"C:\\\\classificador-de-padroes-de-mobilidade\\\\dataset\\\\raw\\\\Todas_as_Corridas.xlsx\")\n",
    "df_caindo   = pd.read_excel(\"C:\\\\classificador-de-padroes-de-mobilidade\\\\dataset\\\\raw\\\\Todas_as_Quedas.xlsx\")\n",
    "\n",
    "colunas_selecionadas = ['acelX', 'acelY', 'acelZ', 'idTipoMovimento']\n",
    "\n",
    "df_andando   = df_andando[colunas_selecionadas]\n",
    "df_caindo    = df_caindo[colunas_selecionadas]\n",
    "df_correndo  = df_correndo[colunas_selecionadas]\n",
    "\n",
    "# Selecionando somente as 500 primeiras linhas de cada dataset\n",
    "df_andando   = df_andando.head(500)\n",
    "df_caindo    = df_caindo.head(500)\n",
    "df_correndo  = df_correndo.head(500)"
   ]
  },
  {
   "cell_type": "markdown",
   "metadata": {},
   "source": [
    "### Adiciona cálculo da magnitude da aceleração"
   ]
  },
  {
   "cell_type": "code",
   "execution_count": 5,
   "metadata": {},
   "outputs": [],
   "source": [
    "df_andando['MAGNITUDE_ACEL']  = np.sqrt(df_andando['acelX']**2 + df_andando['acelY']**2 + df_andando['acelZ']**2)\n",
    "df_caindo['MAGNITUDE_ACEL']   = np.sqrt(df_caindo['acelX']**2 + df_caindo['acelY']**2 + df_caindo['acelZ']**2)\n",
    "df_correndo['MAGNITUDE_ACEL'] = np.sqrt(df_correndo['acelX']**2 + df_correndo['acelY']**2 + df_correndo['acelZ']**2)\n"
   ]
  },
  {
   "cell_type": "markdown",
   "metadata": {},
   "source": [
    "### Detectando limiares máximos e mínimos de cada dataframe"
   ]
  },
  {
   "cell_type": "code",
   "execution_count": 6,
   "metadata": {},
   "outputs": [
    {
     "name": "stdout",
     "output_type": "stream",
     "text": [
      "Valores para a condição 'Andando':\n",
      "- Mínimo: 2621.89\n",
      "- Máximo: 6936.07\n",
      "\n",
      "Valores para a condição 'Correndo':\n",
      "- Mínimo: 607.43\n",
      "- Máximo: 18624.61\n",
      "\n",
      "Valores para a condição 'Caindo':\n",
      "- Mínimo: 1252.15\n",
      "- Máximo: 22896.89\n"
     ]
    }
   ],
   "source": [
    "vl_min_andando  = df_andando['MAGNITUDE_ACEL'].min()\n",
    "vl_max_andando  = df_andando['MAGNITUDE_ACEL'].max()\n",
    "\n",
    "vl_min_correndo = df_correndo['MAGNITUDE_ACEL'].min()\n",
    "vl_max_correndo = df_correndo['MAGNITUDE_ACEL'].max()\n",
    "\n",
    "vl_min_caindo   = df_caindo['MAGNITUDE_ACEL'].min()\n",
    "vl_max_caindo   = df_caindo['MAGNITUDE_ACEL'].max()\n",
    "\n",
    "\n",
    "# Formatando a saída\n",
    "print(f\"Valores para a condição 'Andando':\")\n",
    "print(f\"- Mínimo: {vl_min_andando:.2f}\")\n",
    "print(f\"- Máximo: {vl_max_andando:.2f}\")\n",
    "\n",
    "print(f\"\\nValores para a condição 'Correndo':\")\n",
    "print(f\"- Mínimo: {vl_min_correndo:.2f}\")\n",
    "print(f\"- Máximo: {vl_max_correndo:.2f}\")\n",
    "\n",
    "print(f\"\\nValores para a condição 'Caindo':\")\n",
    "print(f\"- Mínimo: {vl_min_caindo:.2f}\")\n",
    "print(f\"- Máximo: {vl_max_caindo:.2f}\")\n"
   ]
  },
  {
   "cell_type": "markdown",
   "metadata": {},
   "source": [
    "### Calculando valor de média e desvio padrão para a magnitude"
   ]
  },
  {
   "cell_type": "code",
   "execution_count": 7,
   "metadata": {},
   "outputs": [
    {
     "name": "stdout",
     "output_type": "stream",
     "text": [
      "Média e Desvio Padrão da Magnitude da Aceleração:\n",
      "Andando: Média = 3873.58, Desvio Padrão = 670.36\n",
      "Correndo: Média = 5423.58, Desvio Padrão = 4367.87\n",
      "Caindo: Média = 4718.67, Desvio Padrão = 1975.92\n"
     ]
    }
   ],
   "source": [
    "media_andando    = df_andando['MAGNITUDE_ACEL'].mean()\n",
    "media_correndo   = df_correndo['MAGNITUDE_ACEL'].mean()\n",
    "media_caindo     = df_caindo['MAGNITUDE_ACEL'].mean()\n",
    "\n",
    "dev_pad_andando  = df_andando['MAGNITUDE_ACEL'].std()\n",
    "dev_pad_correndo = df_correndo['MAGNITUDE_ACEL'].std()\n",
    "dev_pad_caindo   = df_caindo['MAGNITUDE_ACEL'].std()\n",
    "\n",
    "#Formatando a saída\n",
    "print(f\"Média e Desvio Padrão da Magnitude da Aceleração:\")\n",
    "print(f\"Andando: Média = {media_andando:.2f}, Desvio Padrão = {dev_pad_andando:.2f}\")\n",
    "print(f\"Correndo: Média = {media_correndo:.2f}, Desvio Padrão = {dev_pad_correndo:.2f}\")\n",
    "print(f\"Caindo: Média = {media_caindo:.2f}, Desvio Padrão = {dev_pad_caindo:.2f}\")"
   ]
  },
  {
   "cell_type": "markdown",
   "metadata": {},
   "source": [
    "### Concatena e embaralha os datasets"
   ]
  },
  {
   "cell_type": "code",
   "execution_count": 57,
   "metadata": {},
   "outputs": [],
   "source": [
    "df_completo    = pd.concat([df_andando, df_caindo, df_correndo])\n",
    "df_embaralhado = df_completo.sample(frac=1).reset_index(drop=True)"
   ]
  },
  {
   "cell_type": "markdown",
   "metadata": {},
   "source": [
    "### Classificação"
   ]
  },
  {
   "cell_type": "code",
   "execution_count": 70,
   "metadata": {},
   "outputs": [],
   "source": [
    "media_df_embaralhado = df_embaralhado['MAGNITUDE_ACEL'].mean()\n",
    "des_pad_df_embaralhado = df_embaralhado['MAGNITUDE_ACEL'].std()\n",
    "\n",
    "def classifica_atividade(magnitude, mean, std):\n",
    "    if magnitude < mean - std:\n",
    "        return 2\n",
    "    elif mean - std <= magnitude < mean + std:\n",
    "        return 1\n",
    "    elif magnitude >= mean + std:\n",
    "        return 3\n",
    "    else:\n",
    "        return 0\n",
    "\n",
    "df_embaralhado['ATIVIDADE'] = df_embaralhado['MAGNITUDE_ACEL'].apply(lambda x: classifica_atividade(x, media_df_embaralhado, des_pad_df_embaralhado))"
   ]
  },
  {
   "cell_type": "markdown",
   "metadata": {},
   "source": [
    "### Acurácia"
   ]
  },
  {
   "cell_type": "code",
   "execution_count": 71,
   "metadata": {},
   "outputs": [
    {
     "name": "stdout",
     "output_type": "stream",
     "text": [
      "Acurácia: 0.20\n"
     ]
    }
   ],
   "source": [
    "from sklearn.metrics import precision_score\n",
    "\n",
    "# Verificar se as colunas de atividades preditas e reais existem\n",
    "if 'ATIVIDADE' in df_embaralhado.columns and 'idTipoMovimento' in df_embaralhado.columns:\n",
    "    # Contar o número total de previsões\n",
    "    total = len(df_embaralhado)\n",
    "    \n",
    "    # Contar o número de previsões corretas\n",
    "    corretas = (df_embaralhado['ATIVIDADE'] == df_embaralhado['idTipoMovimento']).sum()\n",
    "    \n",
    "    # Calcular a acurácia\n",
    "    acuracia = corretas / total\n",
    "    print(f\"Acurácia: {acuracia:.2f}\")\n",
    "else:\n",
    "    print(\"Colunas 'ATIVIDADE' ou 'ATIVIDADE_REAL' não encontradas no DataFrame.\")\n"
   ]
  },
  {
   "cell_type": "markdown",
   "metadata": {},
   "source": [
    "### Precisão"
   ]
  },
  {
   "cell_type": "code",
   "execution_count": 72,
   "metadata": {},
   "outputs": [
    {
     "name": "stdout",
     "output_type": "stream",
     "text": [
      "Precisão para a classe 1: 0.22\n",
      "Precisão para a classe 3: 0.18\n",
      "Precisão para a classe 2: 0.00\n"
     ]
    }
   ],
   "source": [
    "# Verificar se as colunas de atividades preditas e reais existem\n",
    "if 'ATIVIDADE' in df_embaralhado.columns and 'idTipoMovimento' in df_embaralhado.columns:\n",
    "    # Calcular a precisão para cada classe\n",
    "    precisao = {}\n",
    "    classes = df_embaralhado['ATIVIDADE'].unique()\n",
    "    \n",
    "    for classe in classes:\n",
    "        # Calcular precisão para a classe atual\n",
    "        y_true = (df_embaralhado['idTipoMovimento'] == classe).astype(int)\n",
    "        y_pred = (df_embaralhado['ATIVIDADE'] == classe).astype(int)\n",
    "        \n",
    "        precision = precision_score(y_true, y_pred)\n",
    "        precisao[classe] = precision\n",
    "    \n",
    "    # Exibir precisão para cada classe\n",
    "    for classe, prec in precisao.items():\n",
    "        print(f\"Precisão para a classe {classe}: {prec:.2f}\")\n",
    "else:\n",
    "    print(\"Colunas 'ATIVIDADE' ou 'ATIVIDADE_REAL' não encontradas no DataFrame.\")"
   ]
  }
 ],
 "metadata": {
  "kernelspec": {
   "display_name": "base",
   "language": "python",
   "name": "python3"
  },
  "language_info": {
   "codemirror_mode": {
    "name": "ipython",
    "version": 3
   },
   "file_extension": ".py",
   "mimetype": "text/x-python",
   "name": "python",
   "nbconvert_exporter": "python",
   "pygments_lexer": "ipython3",
   "version": "3.11.7"
  }
 },
 "nbformat": 4,
 "nbformat_minor": 2
}
