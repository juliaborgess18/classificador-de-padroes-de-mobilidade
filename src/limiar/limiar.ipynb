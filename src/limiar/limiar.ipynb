{
 "cells": [
  {
   "cell_type": "markdown",
   "metadata": {},
   "source": [
    "## Legenda\n",
    "1 - CORRENDO\n",
    "2 - ANDANDO\n",
    "3 - CAINDO"
   ]
  },
  {
   "cell_type": "markdown",
   "metadata": {},
   "source": [
    "### Import das bibliotecas utilizadas"
   ]
  },
  {
   "cell_type": "code",
   "execution_count": 2,
   "metadata": {},
   "outputs": [],
   "source": [
    "import pandas as pd\n",
    "import numpy as np\n",
    "import matplotlib.pyplot as plt"
   ]
  },
  {
   "cell_type": "markdown",
   "metadata": {},
   "source": [
    "### Seleciona acelX, acelY, acelZ e atividade"
   ]
  },
  {
   "cell_type": "code",
   "execution_count": 3,
   "metadata": {},
   "outputs": [],
   "source": [
    "df_andando  = pd.read_csv(\"C:\\\\classificador-de-padroes-de-mobilidade\\\\dataset\\\\raw\\\\Andando-PausasNãoMarcadas.csv\")\n",
    "df_correndo = pd.read_excel(\"C:\\\\classificador-de-padroes-de-mobilidade\\\\dataset\\\\raw\\\\Todas_as_Corridas.xlsx\")\n",
    "df_caindo   = pd.read_excel(\"C:\\\\classificador-de-padroes-de-mobilidade\\\\dataset\\\\raw\\\\Todas_as_Quedas.xlsx\")\n",
    "\n",
    "colunas_selecionadas = ['acelX', 'acelY', 'acelZ', 'idTipoMovimento']\n",
    "\n",
    "df_andando   = df_andando[colunas_selecionadas]\n",
    "df_caindo    = df_caindo[colunas_selecionadas]\n",
    "df_correndo  = df_correndo[colunas_selecionadas]\n",
    "\n",
    "# Selecionando somente as 500 primeiras linhas de cada dataset\n",
    "# df_andando   = df_andando.head(500)\n",
    "# df_caindo    = df_caindo.head(500)\n",
    "# df_correndo  = df_correndo.head(500)"
   ]
  },
  {
   "cell_type": "markdown",
   "metadata": {},
   "source": [
    "### Adiciona cálculo da magnitude da aceleração"
   ]
  },
  {
   "cell_type": "code",
   "execution_count": 4,
   "metadata": {},
   "outputs": [],
   "source": [
    "df_andando['MAGNITUDE_ACEL']  = np.sqrt(df_andando['acelX']**2 + df_andando['acelY']**2 + df_andando['acelZ']**2)\n",
    "df_caindo['MAGNITUDE_ACEL']   = np.sqrt(df_caindo['acelX']**2 + df_caindo['acelY']**2 + df_caindo['acelZ']**2)\n",
    "df_correndo['MAGNITUDE_ACEL'] = np.sqrt(df_correndo['acelX']**2 + df_correndo['acelY']**2 + df_correndo['acelZ']**2)\n"
   ]
  },
  {
   "cell_type": "markdown",
   "metadata": {},
   "source": [
    "### Detectando limiares máximos e mínimos de cada dataframe"
   ]
  },
  {
   "cell_type": "code",
   "execution_count": 5,
   "metadata": {},
   "outputs": [
    {
     "name": "stdout",
     "output_type": "stream",
     "text": [
      "Valores para a condição 'Andando':\n",
      "- Mínimo: 2174.21\n",
      "- Máximo: 16704.86\n",
      "\n",
      "Valores para a condição 'Correndo':\n",
      "- Mínimo: 607.43\n",
      "- Máximo: 18624.61\n",
      "\n",
      "Valores para a condição 'Caindo':\n",
      "- Mínimo: 1252.15\n",
      "- Máximo: 22896.89\n"
     ]
    }
   ],
   "source": [
    "vl_min_andando  = df_andando['MAGNITUDE_ACEL'].min()\n",
    "vl_max_andando  = df_andando['MAGNITUDE_ACEL'].max()\n",
    "\n",
    "vl_min_correndo = df_correndo['MAGNITUDE_ACEL'].min()\n",
    "vl_max_correndo = df_correndo['MAGNITUDE_ACEL'].max()\n",
    "\n",
    "vl_min_caindo   = df_caindo['MAGNITUDE_ACEL'].min()\n",
    "vl_max_caindo   = df_caindo['MAGNITUDE_ACEL'].max()\n",
    "\n",
    "\n",
    "# Formatando a saída\n",
    "print(f\"Valores para a condição 'Andando':\")\n",
    "print(f\"- Mínimo: {vl_min_andando:.2f}\")\n",
    "print(f\"- Máximo: {vl_max_andando:.2f}\")\n",
    "\n",
    "print(f\"\\nValores para a condição 'Correndo':\")\n",
    "print(f\"- Mínimo: {vl_min_correndo:.2f}\")\n",
    "print(f\"- Máximo: {vl_max_correndo:.2f}\")\n",
    "\n",
    "print(f\"\\nValores para a condição 'Caindo':\")\n",
    "print(f\"- Mínimo: {vl_min_caindo:.2f}\")\n",
    "print(f\"- Máximo: {vl_max_caindo:.2f}\")\n"
   ]
  },
  {
   "cell_type": "markdown",
   "metadata": {},
   "source": [
    "### Calculando valor de média e desvio padrão para a magnitude"
   ]
  },
  {
   "cell_type": "code",
   "execution_count": 6,
   "metadata": {},
   "outputs": [
    {
     "name": "stdout",
     "output_type": "stream",
     "text": [
      "Média e Desvio Padrão da Magnitude da Aceleração:\n",
      "Andando: Média = 3905.76, Desvio Padrão = 702.44\n",
      "Correndo: Média = 5376.86, Desvio Padrão = 4336.23\n",
      "Caindo: Média = 4718.67, Desvio Padrão = 1975.92\n"
     ]
    }
   ],
   "source": [
    "media_andando    = df_andando['MAGNITUDE_ACEL'].mean()\n",
    "media_correndo   = df_correndo['MAGNITUDE_ACEL'].mean()\n",
    "media_caindo     = df_caindo['MAGNITUDE_ACEL'].mean()\n",
    "\n",
    "dev_pad_andando  = df_andando['MAGNITUDE_ACEL'].std()\n",
    "dev_pad_correndo = df_correndo['MAGNITUDE_ACEL'].std()\n",
    "dev_pad_caindo   = df_caindo['MAGNITUDE_ACEL'].std()\n",
    "\n",
    "#Formatando a saída\n",
    "print(f\"Média e Desvio Padrão da Magnitude da Aceleração:\")\n",
    "print(f\"Andando: Média = {media_andando:.2f}, Desvio Padrão = {dev_pad_andando:.2f}\")\n",
    "print(f\"Correndo: Média = {media_correndo:.2f}, Desvio Padrão = {dev_pad_correndo:.2f}\")\n",
    "print(f\"Caindo: Média = {media_caindo:.2f}, Desvio Padrão = {dev_pad_caindo:.2f}\")"
   ]
  },
  {
   "cell_type": "markdown",
   "metadata": {},
   "source": [
    "### Concatena e embaralha os datasets"
   ]
  },
  {
   "cell_type": "code",
   "execution_count": 7,
   "metadata": {},
   "outputs": [],
   "source": [
    "df_completo  = pd.concat([df_andando, df_caindo, df_correndo])"
   ]
  },
  {
   "cell_type": "markdown",
   "metadata": {},
   "source": [
    "### Classificação"
   ]
  },
  {
   "cell_type": "code",
   "execution_count": 8,
   "metadata": {},
   "outputs": [],
   "source": [
    "media_df_embaralhado = df_completo['MAGNITUDE_ACEL'].mean()\n",
    "des_pad_df_embaralhado = df_completo['MAGNITUDE_ACEL'].std()\n",
    "\n",
    "def classifica_atividade(magnitude, mean, std):\n",
    "    if magnitude < mean - std:\n",
    "        return 2 \n",
    "    elif mean - std <= magnitude < mean + std:\n",
    "        return 1\n",
    "    elif magnitude >= mean + std:\n",
    "        return 3\n",
    "    else:\n",
    "        return 0\n",
    "\n",
    "df_completo['ATIVIDADE'] = df_completo['MAGNITUDE_ACEL'].apply(lambda x: classifica_atividade(x, media_df_embaralhado, des_pad_df_embaralhado))"
   ]
  },
  {
   "cell_type": "markdown",
   "metadata": {},
   "source": [
    "### Acurácia"
   ]
  },
  {
   "cell_type": "code",
   "execution_count": 9,
   "metadata": {},
   "outputs": [
    {
     "name": "stdout",
     "output_type": "stream",
     "text": [
      "Acurácia: 0.10\n"
     ]
    }
   ],
   "source": [
    "from sklearn.metrics import precision_score\n",
    "\n",
    "# Verificar se as colunas de atividades preditas e reais existem\n",
    "if 'ATIVIDADE' in df_completo.columns and 'idTipoMovimento' in df_completo.columns:\n",
    "    # Contar o número total de previsões\n",
    "    total = len(df_completo)\n",
    "    \n",
    "    # Contar o número de previsões corretas\n",
    "    corretas = (df_completo['ATIVIDADE'] == df_completo['idTipoMovimento']).sum()\n",
    "    \n",
    "    # Calcular a acurácia\n",
    "    acuracia = corretas / total\n",
    "    print(f\"Acurácia: {acuracia:.2f}\")\n",
    "else:\n",
    "    print(\"Colunas 'ATIVIDADE' ou 'ATIVIDADE_REAL' não encontradas no DataFrame.\")\n"
   ]
  },
  {
   "cell_type": "markdown",
   "metadata": {},
   "source": [
    "### Precisão"
   ]
  },
  {
   "cell_type": "code",
   "execution_count": 10,
   "metadata": {},
   "outputs": [
    {
     "name": "stdout",
     "output_type": "stream",
     "text": [
      "Precisão para a classe 1: 0.09\n",
      "Precisão para a classe 3: 0.23\n",
      "Precisão para a classe 2: 0.00\n"
     ]
    }
   ],
   "source": [
    "# Verificar se as colunas de atividades preditas e reais existem\n",
    "if 'ATIVIDADE' in df_completo.columns and 'idTipoMovimento' in df_completo.columns:\n",
    "    # Calcular a precisão para cada classe\n",
    "    precisao = {}\n",
    "    classes = df_completo['ATIVIDADE'].unique()\n",
    "    \n",
    "    for classe in classes:\n",
    "        # Calcular precisão para a classe atual\n",
    "        y_true = (df_completo['idTipoMovimento'] == classe).astype(int)\n",
    "        y_pred = (df_completo['ATIVIDADE'] == classe).astype(int)\n",
    "        \n",
    "        precision = precision_score(y_true, y_pred)\n",
    "        precisao[classe] = precision\n",
    "    \n",
    "    # Exibir precisão para cada classe\n",
    "    for classe, prec in precisao.items():\n",
    "        print(f\"Precisão para a classe {classe}: {prec:.2f}\")\n",
    "else:\n",
    "    print(\"Colunas 'ATIVIDADE' ou 'ATIVIDADE_REAL' não encontradas no DataFrame.\")\n"
   ]
  },
  {
   "cell_type": "code",
   "execution_count": 11,
   "metadata": {},
   "outputs": [],
   "source": [
    "with open(\"predicoes/limiar_predicoes.txt\", \"w\") as file:\n",
    "    for resultado in df_completo['ATIVIDADE']:\n",
    "        file.write(f\"{resultado}\\n\")"
   ]
  },
  {
   "cell_type": "code",
   "execution_count": 12,
   "metadata": {},
   "outputs": [
    {
     "data": {
      "text/html": [
       "<div>\n",
       "<style scoped>\n",
       "    .dataframe tbody tr th:only-of-type {\n",
       "        vertical-align: middle;\n",
       "    }\n",
       "\n",
       "    .dataframe tbody tr th {\n",
       "        vertical-align: top;\n",
       "    }\n",
       "\n",
       "    .dataframe thead th {\n",
       "        text-align: right;\n",
       "    }\n",
       "</style>\n",
       "<table border=\"1\" class=\"dataframe\">\n",
       "  <thead>\n",
       "    <tr style=\"text-align: right;\">\n",
       "      <th></th>\n",
       "      <th>acelX</th>\n",
       "      <th>acelY</th>\n",
       "      <th>acelZ</th>\n",
       "      <th>idTipoMovimento</th>\n",
       "      <th>MAGNITUDE_ACEL</th>\n",
       "      <th>ATIVIDADE</th>\n",
       "    </tr>\n",
       "  </thead>\n",
       "  <tbody>\n",
       "    <tr>\n",
       "      <th>0</th>\n",
       "      <td>3465.0</td>\n",
       "      <td>-2115.0</td>\n",
       "      <td>986.0</td>\n",
       "      <td>2</td>\n",
       "      <td>4177.516726</td>\n",
       "      <td>1</td>\n",
       "    </tr>\n",
       "    <tr>\n",
       "      <th>1</th>\n",
       "      <td>3131.0</td>\n",
       "      <td>-1980.0</td>\n",
       "      <td>418.0</td>\n",
       "      <td>2</td>\n",
       "      <td>3728.040370</td>\n",
       "      <td>1</td>\n",
       "    </tr>\n",
       "    <tr>\n",
       "      <th>2</th>\n",
       "      <td>1438.0</td>\n",
       "      <td>-588.0</td>\n",
       "      <td>3494.0</td>\n",
       "      <td>2</td>\n",
       "      <td>3823.823218</td>\n",
       "      <td>1</td>\n",
       "    </tr>\n",
       "    <tr>\n",
       "      <th>3</th>\n",
       "      <td>1281.0</td>\n",
       "      <td>-326.0</td>\n",
       "      <td>4320.0</td>\n",
       "      <td>2</td>\n",
       "      <td>4517.702624</td>\n",
       "      <td>1</td>\n",
       "    </tr>\n",
       "    <tr>\n",
       "      <th>4</th>\n",
       "      <td>1365.0</td>\n",
       "      <td>-840.0</td>\n",
       "      <td>2588.0</td>\n",
       "      <td>2</td>\n",
       "      <td>3044.103973</td>\n",
       "      <td>1</td>\n",
       "    </tr>\n",
       "    <tr>\n",
       "      <th>...</th>\n",
       "      <td>...</td>\n",
       "      <td>...</td>\n",
       "      <td>...</td>\n",
       "      <td>...</td>\n",
       "      <td>...</td>\n",
       "      <td>...</td>\n",
       "    </tr>\n",
       "    <tr>\n",
       "      <th>506</th>\n",
       "      <td>-1296.0</td>\n",
       "      <td>326.0</td>\n",
       "      <td>-996.0</td>\n",
       "      <td>1</td>\n",
       "      <td>1666.705733</td>\n",
       "      <td>2</td>\n",
       "    </tr>\n",
       "    <tr>\n",
       "      <th>507</th>\n",
       "      <td>-973.0</td>\n",
       "      <td>-1166.0</td>\n",
       "      <td>-1049.0</td>\n",
       "      <td>1</td>\n",
       "      <td>1845.720997</td>\n",
       "      <td>2</td>\n",
       "    </tr>\n",
       "    <tr>\n",
       "      <th>508</th>\n",
       "      <td>-2201.0</td>\n",
       "      <td>1841.0</td>\n",
       "      <td>-851.0</td>\n",
       "      <td>1</td>\n",
       "      <td>2992.972268</td>\n",
       "      <td>1</td>\n",
       "    </tr>\n",
       "    <tr>\n",
       "      <th>509</th>\n",
       "      <td>-4787.0</td>\n",
       "      <td>3479.0</td>\n",
       "      <td>-443.0</td>\n",
       "      <td>1</td>\n",
       "      <td>5934.227751</td>\n",
       "      <td>1</td>\n",
       "    </tr>\n",
       "    <tr>\n",
       "      <th>510</th>\n",
       "      <td>3755.0</td>\n",
       "      <td>1287.0</td>\n",
       "      <td>-1919.0</td>\n",
       "      <td>1</td>\n",
       "      <td>4408.963030</td>\n",
       "      <td>1</td>\n",
       "    </tr>\n",
       "  </tbody>\n",
       "</table>\n",
       "<p>2697 rows × 6 columns</p>\n",
       "</div>"
      ],
      "text/plain": [
       "      acelX   acelY   acelZ  idTipoMovimento  MAGNITUDE_ACEL  ATIVIDADE\n",
       "0    3465.0 -2115.0   986.0                2     4177.516726          1\n",
       "1    3131.0 -1980.0   418.0                2     3728.040370          1\n",
       "2    1438.0  -588.0  3494.0                2     3823.823218          1\n",
       "3    1281.0  -326.0  4320.0                2     4517.702624          1\n",
       "4    1365.0  -840.0  2588.0                2     3044.103973          1\n",
       "..      ...     ...     ...              ...             ...        ...\n",
       "506 -1296.0   326.0  -996.0                1     1666.705733          2\n",
       "507  -973.0 -1166.0 -1049.0                1     1845.720997          2\n",
       "508 -2201.0  1841.0  -851.0                1     2992.972268          1\n",
       "509 -4787.0  3479.0  -443.0                1     5934.227751          1\n",
       "510  3755.0  1287.0 -1919.0                1     4408.963030          1\n",
       "\n",
       "[2697 rows x 6 columns]"
      ]
     },
     "execution_count": 12,
     "metadata": {},
     "output_type": "execute_result"
    }
   ],
   "source": [
    "df_completo"
   ]
  }
 ],
 "metadata": {
  "kernelspec": {
   "display_name": "base",
   "language": "python",
   "name": "python3"
  },
  "language_info": {
   "codemirror_mode": {
    "name": "ipython",
    "version": 3
   },
   "file_extension": ".py",
   "mimetype": "text/x-python",
   "name": "python",
   "nbconvert_exporter": "python",
   "pygments_lexer": "ipython3",
   "version": "3.11.7"
  }
 },
 "nbformat": 4,
 "nbformat_minor": 2
}
