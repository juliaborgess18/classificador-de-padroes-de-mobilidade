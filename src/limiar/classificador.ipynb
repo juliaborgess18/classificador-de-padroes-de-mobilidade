{
 "cells": [
  {
   "cell_type": "markdown",
   "metadata": {},
   "source": [
    "# Configure o tipo de movimento a ser considerado em todos os trechos de código"
   ]
  },
  {
   "cell_type": "code",
   "execution_count": 6,
   "metadata": {},
   "outputs": [],
   "source": [
    "tipo_movimento = \"andando\""
   ]
  },
  {
   "cell_type": "markdown",
   "metadata": {},
   "source": [
    "# Divide a base de dados entre 80% treinamento e 20% teste"
   ]
  },
  {
   "cell_type": "code",
   "execution_count": 7,
   "metadata": {},
   "outputs": [],
   "source": [
    "import pandas as pd\n",
    "from sklearn.model_selection import train_test_split\n",
    "\n",
    "df = pd.read_excel(f'C:\\\\classificador-de-padroes-de-mobilidade\\\\dataset\\\\{tipo_movimento}\\\\dados.xlsx')\n",
    "\n",
    "df_train, df_test = train_test_split(df, test_size=0.2, random_state=42)\n",
    "\n",
    "df_train.to_excel(f'C:\\\\classificador-de-padroes-de-mobilidade\\\\results\\\\limiar\\\\{tipo_movimento}\\\\planilha_treinamento.xlsx', index=False)\n",
    "df_test.to_excel(f'C:\\\\classificador-de-padroes-de-mobilidade\\\\results\\\\limiar\\\\{tipo_movimento}\\\\planilha_teste.xlsx', index=False)"
   ]
  },
  {
   "cell_type": "markdown",
   "metadata": {},
   "source": [
    "# Processa os dados para encontrar o valor mínimo e valor máximo da magnitude de aceleração (treinamento)"
   ]
  },
  {
   "cell_type": "code",
   "execution_count": 8,
   "metadata": {},
   "outputs": [
    {
     "name": "stdout",
     "output_type": "stream",
     "text": [
      "2174.207441804944 6043.403428532634\n"
     ]
    }
   ],
   "source": [
    "from scripts.funcoes.pipeline import processar_dados\n",
    "\n",
    "df_train = processar_dados(f\"C:\\\\classificador-de-padroes-de-mobilidade\\\\results\\\\limiar\\\\{tipo_movimento}\\\\planilha_treinamento.xlsx\")\n",
    "\n",
    "valor_minimo_andando = df_train['MAGNITUDE_ACEL'].min()\n",
    "valor_maximo_andando = df_train['MAGNITUDE_ACEL'].max()\n",
    "\n",
    "print(valor_minimo_andando, valor_maximo_andando)"
   ]
  },
  {
   "cell_type": "markdown",
   "metadata": {},
   "source": [
    "# Testar os valores e classifica"
   ]
  },
  {
   "cell_type": "code",
   "execution_count": 9,
   "metadata": {},
   "outputs": [],
   "source": [
    "from scripts.funcoes.pipeline import processar_dados\n",
    "\n",
    "df_test = processar_dados(f'C:\\\\classificador-de-padroes-de-mobilidade\\\\results\\\\limiar\\\\{tipo_movimento}\\\\planilha_teste.xlsx')\n",
    "\n",
    "for magnitude_acel_teste in df_test['MAGNITUDE_ACEL']:\n",
    "    if magnitude_acel_teste >= valor_minimo_andando and magnitude_acel_teste <= valor_maximo_andando:\n",
    "        df_test['ATIVIDADE'] = \"ANDANDO\"\n",
    "    else:\n",
    "        df_test['ATIVIDADE'] = \"NÃO ANDANDO\"\n",
    "df_test.to_excel(f'C:\\\\classificador-de-padroes-de-mobilidade\\\\results\\\\limiar\\\\{tipo_movimento}\\\\planilha_teste.xlsx', index=False)"
   ]
  }
 ],
 "metadata": {
  "kernelspec": {
   "display_name": "base",
   "language": "python",
   "name": "python3"
  },
  "language_info": {
   "codemirror_mode": {
    "name": "ipython",
    "version": 3
   },
   "file_extension": ".py",
   "mimetype": "text/x-python",
   "name": "python",
   "nbconvert_exporter": "python",
   "pygments_lexer": "ipython3",
   "version": "3.11.7"
  }
 },
 "nbformat": 4,
 "nbformat_minor": 2
}
