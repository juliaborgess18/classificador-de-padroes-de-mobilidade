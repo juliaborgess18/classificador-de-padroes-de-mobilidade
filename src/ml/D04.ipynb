{
 "cells": [
  {
   "cell_type": "code",
   "execution_count": 1,
   "metadata": {},
   "outputs": [],
   "source": [
    "import pandas as pd\n",
    "import numpy as np\n",
    "from   sklearn.model_selection import train_test_split\n",
    "from   sklearn.metrics import accuracy_score\n",
    "from   sklearn.preprocessing import StandardScaler\n",
    "from   sklearn import svm\n",
    "from   sklearn.svm import SVC\n",
    "from   sklearn.metrics import classification_report, confusion_matrix, ConfusionMatrixDisplay\n",
    "import pickle\n",
    "import matplotlib.pyplot as plt\n",
    "import seaborn as sns\n",
    "from joblib import dump\n",
    "from joblib import load\n",
    "import os \n",
    "from collections import Counter \n",
    "from sklearn.neighbors import KNeighborsClassifier\n",
    "from sklearn.tree import DecisionTreeClassifier\n",
    "from sklearn.metrics import silhouette_score\n",
    "from pycaret.clustering import setup, create_model, assign_model, plot_model\n"
   ]
  },
  {
   "cell_type": "code",
   "execution_count": 425,
   "metadata": {},
   "outputs": [
    {
     "data": {
      "text/html": [
       "<div>\n",
       "<style scoped>\n",
       "    .dataframe tbody tr th:only-of-type {\n",
       "        vertical-align: middle;\n",
       "    }\n",
       "\n",
       "    .dataframe tbody tr th {\n",
       "        vertical-align: top;\n",
       "    }\n",
       "\n",
       "    .dataframe thead th {\n",
       "        text-align: right;\n",
       "    }\n",
       "</style>\n",
       "<table border=\"1\" class=\"dataframe\">\n",
       "  <thead>\n",
       "    <tr style=\"text-align: right;\">\n",
       "      <th></th>\n",
       "      <th>tempo</th>\n",
       "      <th>acelX</th>\n",
       "      <th>acelY</th>\n",
       "      <th>acelZ</th>\n",
       "      <th>idTipoMovimento</th>\n",
       "      <th>MAGNITUDE_ACEL</th>\n",
       "    </tr>\n",
       "  </thead>\n",
       "  <tbody>\n",
       "    <tr>\n",
       "      <th>0</th>\n",
       "      <td>0</td>\n",
       "      <td>-1282.0</td>\n",
       "      <td>-1473.0</td>\n",
       "      <td>137.0</td>\n",
       "      <td>D04</td>\n",
       "      <td>1957.555108</td>\n",
       "    </tr>\n",
       "    <tr>\n",
       "      <th>1</th>\n",
       "      <td>40</td>\n",
       "      <td>-1267.0</td>\n",
       "      <td>-1509.0</td>\n",
       "      <td>132.0</td>\n",
       "      <td>D04</td>\n",
       "      <td>1974.789609</td>\n",
       "    </tr>\n",
       "    <tr>\n",
       "      <th>2</th>\n",
       "      <td>80</td>\n",
       "      <td>-1294.0</td>\n",
       "      <td>-1522.0</td>\n",
       "      <td>125.0</td>\n",
       "      <td>D04</td>\n",
       "      <td>2001.635581</td>\n",
       "    </tr>\n",
       "    <tr>\n",
       "      <th>3</th>\n",
       "      <td>120</td>\n",
       "      <td>-1285.0</td>\n",
       "      <td>-1502.0</td>\n",
       "      <td>118.0</td>\n",
       "      <td>D04</td>\n",
       "      <td>1980.190142</td>\n",
       "    </tr>\n",
       "    <tr>\n",
       "      <th>4</th>\n",
       "      <td>160</td>\n",
       "      <td>-1305.0</td>\n",
       "      <td>-1491.0</td>\n",
       "      <td>138.0</td>\n",
       "      <td>D04</td>\n",
       "      <td>1986.240167</td>\n",
       "    </tr>\n",
       "    <tr>\n",
       "      <th>...</th>\n",
       "      <td>...</td>\n",
       "      <td>...</td>\n",
       "      <td>...</td>\n",
       "      <td>...</td>\n",
       "      <td>...</td>\n",
       "      <td>...</td>\n",
       "    </tr>\n",
       "    <tr>\n",
       "      <th>997</th>\n",
       "      <td>19840</td>\n",
       "      <td>-578.0</td>\n",
       "      <td>2048.0</td>\n",
       "      <td>-49.0</td>\n",
       "      <td>D04</td>\n",
       "      <td>2128.565010</td>\n",
       "    </tr>\n",
       "    <tr>\n",
       "      <th>998</th>\n",
       "      <td>19880</td>\n",
       "      <td>-589.0</td>\n",
       "      <td>2040.0</td>\n",
       "      <td>-59.0</td>\n",
       "      <td>D04</td>\n",
       "      <td>2124.147358</td>\n",
       "    </tr>\n",
       "    <tr>\n",
       "      <th>999</th>\n",
       "      <td>19920</td>\n",
       "      <td>-587.0</td>\n",
       "      <td>2053.0</td>\n",
       "      <td>-48.0</td>\n",
       "      <td>D04</td>\n",
       "      <td>2135.809448</td>\n",
       "    </tr>\n",
       "    <tr>\n",
       "      <th>1000</th>\n",
       "      <td>19960</td>\n",
       "      <td>-595.0</td>\n",
       "      <td>2045.0</td>\n",
       "      <td>-58.0</td>\n",
       "      <td>D04</td>\n",
       "      <td>2130.590059</td>\n",
       "    </tr>\n",
       "    <tr>\n",
       "      <th>1001</th>\n",
       "      <td>20000</td>\n",
       "      <td>-585.0</td>\n",
       "      <td>2051.0</td>\n",
       "      <td>-50.0</td>\n",
       "      <td>D04</td>\n",
       "      <td>2133.383697</td>\n",
       "    </tr>\n",
       "  </tbody>\n",
       "</table>\n",
       "<p>1002 rows × 6 columns</p>\n",
       "</div>"
      ],
      "text/plain": [
       "      tempo   acelX   acelY  acelZ idTipoMovimento  MAGNITUDE_ACEL\n",
       "0         0 -1282.0 -1473.0  137.0             D04     1957.555108\n",
       "1        40 -1267.0 -1509.0  132.0             D04     1974.789609\n",
       "2        80 -1294.0 -1522.0  125.0             D04     2001.635581\n",
       "3       120 -1285.0 -1502.0  118.0             D04     1980.190142\n",
       "4       160 -1305.0 -1491.0  138.0             D04     1986.240167\n",
       "...     ...     ...     ...    ...             ...             ...\n",
       "997   19840  -578.0  2048.0  -49.0             D04     2128.565010\n",
       "998   19880  -589.0  2040.0  -59.0             D04     2124.147358\n",
       "999   19920  -587.0  2053.0  -48.0             D04     2135.809448\n",
       "1000  19960  -595.0  2045.0  -58.0             D04     2130.590059\n",
       "1001  20000  -585.0  2051.0  -50.0             D04     2133.383697\n",
       "\n",
       "[1002 rows x 6 columns]"
      ]
     },
     "execution_count": 425,
     "metadata": {},
     "output_type": "execute_result"
    }
   ],
   "source": [
    "dfs = []\n",
    "\n",
    "base_path = \"C:\\\\classificador-de-padroes-de-mobilidade\\\\dataset\\\\raw\\\\Dataset-FallWatch\"\n",
    "for i in range(1,6):\n",
    "    folder_name_avd = f\"U{i:02d}\\\\AVD's\"\n",
    "    folder_name_fall = f\"U{i:02d}\\\\Falls\"\n",
    "    \n",
    "    folder_path_avd = os.path.join(base_path, folder_name_avd)\n",
    "    folder_path_fall = os.path.join(base_path, folder_name_fall)\n",
    "    \n",
    "    for j in range(1, 12):\n",
    "        file_name_avd = f'U{i:02d} - D{j:02d}.csv'\n",
    "        file_path_avd = os.path.join(folder_path_avd, file_name_avd)\n",
    "        \n",
    "        file_name_fall = f'U{i:02d} - F{j:02d}.csv'\n",
    "        file_path_fall = os.path.join(folder_path_fall, file_name_fall)\n",
    "        \n",
    "        if os.path.exists(file_path_avd):\n",
    "            dataframe = pd.read_csv(file_path_avd)\n",
    "            dataframe['idUsuario'] = f'U{i:02d}'\n",
    "            dataframe['idTipoMovimento'] = f'D{j:02d}'\n",
    "            dfs.append(dataframe)\n",
    "            \n",
    "        if os.path.exists(file_path_fall):\n",
    "            dataframe = pd.read_csv(file_path_fall)\n",
    "            dataframe['idUsuario'] = f'U{i:02d}'\n",
    "            dataframe['idTipoMovimento'] = f'F{j:02d}'\n",
    "            dfs.append(dataframe)\n",
    "\n",
    "dataframe = pd.concat(dfs, ignore_index=True)\n",
    "\n",
    "movimentos_formatados = {\"D01\":\"Caminhando\",\n",
    "\"D02\":\"Correndo\",\n",
    "# \"D03\":\"Subindo e descendo escadas\", nao possui no dataset\n",
    "\"D04\":\"Sentando em uma cadeira, esperar um momento e levantar-se\",\n",
    "\"D05\":\"Sentado por um momento, tentar levantar-se e cair na cadeira\",\n",
    "\"D06\":\"Agachando (dobrando os joelhos), amarrar sapatos e levantar-se\",\n",
    "\"D07\":\"Tropeçar enquanto caminha\",\n",
    "\"D08\":\"Pular suavemente sem cair(tentando alcançar um objeto)\",\n",
    "\"D09\":\"Bater na mesa com a mão\",\n",
    "\"D10\":\"Batendo palmas\",\n",
    "\"F01\":\"Queda para frente ao caminhar causada por escorregão\",\n",
    "\"F02\":\"Queda lateral ao caminhar causada por escorregão\",\n",
    "\"F03\":\"Queda para trás ao caminhar causada por escorregão\",\n",
    "\"F04\":\"Queda para frente ao caminhar causada por tropeço\",\n",
    "\"F05\":\"Queda para trás ao tentar sentar-se\",\n",
    "\"F06\":\"Queda para frente enquanto sentado, causada por desmaio ou adormecimento\",\n",
    "\"F07\":\"Queda para trás enquanto sentado, causada por desmaio ou adormecimento\",\n",
    "\"F08\":\"Queda lateral enquanto sentado, causada por desmaio ou adormecimento\",\n",
    "}\n",
    "\n",
    "colunas_selecionadas = ['tempo','acelX', 'acelY', 'acelZ' ,'idTipoMovimento']\n",
    "dataframe = dataframe[colunas_selecionadas]\n",
    "dataframe['MAGNITUDE_ACEL']   = np.sqrt(dataframe['acelX']**2 + dataframe['acelY']**2 + dataframe['acelZ']**2)\n",
    "dataframe = dataframe[dataframe['idTipoMovimento'].isin(['D04'])]\n",
    "# dataframe = dataframe[dataframe['idUsuario'].isin(['U01'])]\n",
    "dataframe = dataframe[['tempo','acelX', 'acelY', 'acelZ' ,'idTipoMovimento','MAGNITUDE_ACEL']]\n",
    "dataframe = dataframe.reset_index(drop=True)\n",
    "primeiro_dataframe = dataframe.iloc[0:501]\n",
    "segundo_dataframe = dataframe.iloc[501:1002]\n",
    "# dataframe.shape\n",
    "intervalos = []\n",
    "intervalos.append(primeiro_dataframe)\n",
    "intervalos.append(segundo_dataframe)\n",
    "dataframe = pd.concat(intervalos, ignore_index=True)\n",
    "dataframe #selecionando somente U01 e U02 (usuários com gráficos similares)"
   ]
  },
  {
   "cell_type": "code",
   "execution_count": 426,
   "metadata": {},
   "outputs": [
    {
     "data": {
      "image/png": "[encoded data removed]",
      "text/plain": [
       "<Figure size 1000x500 with 1 Axes>"
      ]
     },
     "metadata": {},
     "output_type": "display_data"
    },
    {
     "data": {
      "image/png": "[encoded data removed]",
      "text/plain": [
       "<Figure size 1000x500 with 1 Axes>"
      ]
     },
     "metadata": {},
     "output_type": "display_data"
    }
   ],
   "source": [
    "# Considerando que o DataFrame já está filtrado e formatado\n",
    "num_linhas = 501\n",
    "num_usuarios = len(dataframe) // num_linhas\n",
    "\n",
    "for i in range(num_usuarios):\n",
    "    bloco = dataframe.iloc[i * num_linhas:(i + 1) * num_linhas]\n",
    "    \n",
    "    plt.figure(figsize=(10, 5))\n",
    "    plt.title(f\"Gráfico da mobilidade para o usuário {i + 1}\")\n",
    "    plt.plot(bloco['tempo'], bloco['MAGNITUDE_ACEL'])\n",
    "    plt.xlabel(\"Tempo\")\n",
    "    plt.ylabel(\"Magnitude da Aceleração\")\n",
    "    plt.show()\n"
   ]
  },
  {
   "cell_type": "code",
   "execution_count": 428,
   "metadata": {},
   "outputs": [
    {
     "data": {
      "text/html": [
       "<style type=\"text/css\">\n",
       "#T_7772f_row4_col1, #T_7772f_row8_col1 {\n",
       "  background-color: lightgreen;\n",
       "}\n",
       "</style>\n",
       "<table id=\"T_7772f\">\n",
       "  <thead>\n",
       "    <tr>\n",
       "      <th class=\"blank level0\" >&nbsp;</th>\n",
       "      <th id=\"T_7772f_level0_col0\" class=\"col_heading level0 col0\" >Description</th>\n",
       "      <th id=\"T_7772f_level0_col1\" class=\"col_heading level0 col1\" >Value</th>\n",
       "    </tr>\n",
       "  </thead>\n",
       "  <tbody>\n",
       "    <tr>\n",
       "      <th id=\"T_7772f_level0_row0\" class=\"row_heading level0 row0\" >0</th>\n",
       "      <td id=\"T_7772f_row0_col0\" class=\"data row0 col0\" >Session id</td>\n",
       "      <td id=\"T_7772f_row0_col1\" class=\"data row0 col1\" >1193</td>\n",
       "    </tr>\n",
       "    <tr>\n",
       "      <th id=\"T_7772f_level0_row1\" class=\"row_heading level0 row1\" >1</th>\n",
       "      <td id=\"T_7772f_row1_col0\" class=\"data row1 col0\" >Original data shape</td>\n",
       "      <td id=\"T_7772f_row1_col1\" class=\"data row1 col1\" >(1002, 5)</td>\n",
       "    </tr>\n",
       "    <tr>\n",
       "      <th id=\"T_7772f_level0_row2\" class=\"row_heading level0 row2\" >2</th>\n",
       "      <td id=\"T_7772f_row2_col0\" class=\"data row2 col0\" >Transformed data shape</td>\n",
       "      <td id=\"T_7772f_row2_col1\" class=\"data row2 col1\" >(1002, 5)</td>\n",
       "    </tr>\n",
       "    <tr>\n",
       "      <th id=\"T_7772f_level0_row3\" class=\"row_heading level0 row3\" >3</th>\n",
       "      <td id=\"T_7772f_row3_col0\" class=\"data row3 col0\" >Numeric features</td>\n",
       "      <td id=\"T_7772f_row3_col1\" class=\"data row3 col1\" >5</td>\n",
       "    </tr>\n",
       "    <tr>\n",
       "      <th id=\"T_7772f_level0_row4\" class=\"row_heading level0 row4\" >4</th>\n",
       "      <td id=\"T_7772f_row4_col0\" class=\"data row4 col0\" >Preprocess</td>\n",
       "      <td id=\"T_7772f_row4_col1\" class=\"data row4 col1\" >True</td>\n",
       "    </tr>\n",
       "    <tr>\n",
       "      <th id=\"T_7772f_level0_row5\" class=\"row_heading level0 row5\" >5</th>\n",
       "      <td id=\"T_7772f_row5_col0\" class=\"data row5 col0\" >Imputation type</td>\n",
       "      <td id=\"T_7772f_row5_col1\" class=\"data row5 col1\" >simple</td>\n",
       "    </tr>\n",
       "    <tr>\n",
       "      <th id=\"T_7772f_level0_row6\" class=\"row_heading level0 row6\" >6</th>\n",
       "      <td id=\"T_7772f_row6_col0\" class=\"data row6 col0\" >Numeric imputation</td>\n",
       "      <td id=\"T_7772f_row6_col1\" class=\"data row6 col1\" >mean</td>\n",
       "    </tr>\n",
       "    <tr>\n",
       "      <th id=\"T_7772f_level0_row7\" class=\"row_heading level0 row7\" >7</th>\n",
       "      <td id=\"T_7772f_row7_col0\" class=\"data row7 col0\" >Categorical imputation</td>\n",
       "      <td id=\"T_7772f_row7_col1\" class=\"data row7 col1\" >mode</td>\n",
       "    </tr>\n",
       "    <tr>\n",
       "      <th id=\"T_7772f_level0_row8\" class=\"row_heading level0 row8\" >8</th>\n",
       "      <td id=\"T_7772f_row8_col0\" class=\"data row8 col0\" >Normalize</td>\n",
       "      <td id=\"T_7772f_row8_col1\" class=\"data row8 col1\" >True</td>\n",
       "    </tr>\n",
       "    <tr>\n",
       "      <th id=\"T_7772f_level0_row9\" class=\"row_heading level0 row9\" >9</th>\n",
       "      <td id=\"T_7772f_row9_col0\" class=\"data row9 col0\" >Normalize method</td>\n",
       "      <td id=\"T_7772f_row9_col1\" class=\"data row9 col1\" >zscore</td>\n",
       "    </tr>\n",
       "    <tr>\n",
       "      <th id=\"T_7772f_level0_row10\" class=\"row_heading level0 row10\" >10</th>\n",
       "      <td id=\"T_7772f_row10_col0\" class=\"data row10 col0\" >CPU Jobs</td>\n",
       "      <td id=\"T_7772f_row10_col1\" class=\"data row10 col1\" >-1</td>\n",
       "    </tr>\n",
       "    <tr>\n",
       "      <th id=\"T_7772f_level0_row11\" class=\"row_heading level0 row11\" >11</th>\n",
       "      <td id=\"T_7772f_row11_col0\" class=\"data row11 col0\" >Use GPU</td>\n",
       "      <td id=\"T_7772f_row11_col1\" class=\"data row11 col1\" >False</td>\n",
       "    </tr>\n",
       "    <tr>\n",
       "      <th id=\"T_7772f_level0_row12\" class=\"row_heading level0 row12\" >12</th>\n",
       "      <td id=\"T_7772f_row12_col0\" class=\"data row12 col0\" >Log Experiment</td>\n",
       "      <td id=\"T_7772f_row12_col1\" class=\"data row12 col1\" >False</td>\n",
       "    </tr>\n",
       "    <tr>\n",
       "      <th id=\"T_7772f_level0_row13\" class=\"row_heading level0 row13\" >13</th>\n",
       "      <td id=\"T_7772f_row13_col0\" class=\"data row13 col0\" >Experiment Name</td>\n",
       "      <td id=\"T_7772f_row13_col1\" class=\"data row13 col1\" >cluster-default-name</td>\n",
       "    </tr>\n",
       "    <tr>\n",
       "      <th id=\"T_7772f_level0_row14\" class=\"row_heading level0 row14\" >14</th>\n",
       "      <td id=\"T_7772f_row14_col0\" class=\"data row14 col0\" >USI</td>\n",
       "      <td id=\"T_7772f_row14_col1\" class=\"data row14 col1\" >891b</td>\n",
       "    </tr>\n",
       "  </tbody>\n",
       "</table>\n"
      ],
      "text/plain": [
       "<pandas.io.formats.style.Styler at 0x159479267d0>"
      ]
     },
     "metadata": {},
     "output_type": "display_data"
    },
    {
     "data": {
      "text/html": [],
      "text/plain": [
       "<IPython.core.display.HTML object>"
      ]
     },
     "metadata": {},
     "output_type": "display_data"
    },
    {
     "data": {
      "text/html": [
       "<style type=\"text/css\">\n",
       "</style>\n",
       "<table id=\"T_9affc\">\n",
       "  <thead>\n",
       "    <tr>\n",
       "      <th class=\"blank level0\" >&nbsp;</th>\n",
       "      <th id=\"T_9affc_level0_col0\" class=\"col_heading level0 col0\" >Silhouette</th>\n",
       "      <th id=\"T_9affc_level0_col1\" class=\"col_heading level0 col1\" >Calinski-Harabasz</th>\n",
       "      <th id=\"T_9affc_level0_col2\" class=\"col_heading level0 col2\" >Davies-Bouldin</th>\n",
       "      <th id=\"T_9affc_level0_col3\" class=\"col_heading level0 col3\" >Homogeneity</th>\n",
       "      <th id=\"T_9affc_level0_col4\" class=\"col_heading level0 col4\" >Rand Index</th>\n",
       "      <th id=\"T_9affc_level0_col5\" class=\"col_heading level0 col5\" >Completeness</th>\n",
       "    </tr>\n",
       "  </thead>\n",
       "  <tbody>\n",
       "    <tr>\n",
       "      <th id=\"T_9affc_level0_row0\" class=\"row_heading level0 row0\" >0</th>\n",
       "      <td id=\"T_9affc_row0_col0\" class=\"data row0 col0\" >0.2841</td>\n",
       "      <td id=\"T_9affc_row0_col1\" class=\"data row0 col1\" >278.9861</td>\n",
       "      <td id=\"T_9affc_row0_col2\" class=\"data row0 col2\" >1.7286</td>\n",
       "      <td id=\"T_9affc_row0_col3\" class=\"data row0 col3\" >0</td>\n",
       "      <td id=\"T_9affc_row0_col4\" class=\"data row0 col4\" >0</td>\n",
       "      <td id=\"T_9affc_row0_col5\" class=\"data row0 col5\" >0</td>\n",
       "    </tr>\n",
       "  </tbody>\n",
       "</table>\n"
      ],
      "text/plain": [
       "<pandas.io.formats.style.Styler at 0x1593fc06aa0>"
      ]
     },
     "metadata": {},
     "output_type": "display_data"
    },
    {
     "data": {
      "text/html": [],
      "text/plain": [
       "<IPython.core.display.HTML object>"
      ]
     },
     "metadata": {},
     "output_type": "display_data"
    },
    {
     "data": {
      "text/html": [],
      "text/plain": [
       "<IPython.core.display.HTML object>"
      ]
     },
     "metadata": {},
     "output_type": "display_data"
    },
    {
     "data": {
      "text/html": [
       "<style type=\"text/css\">\n",
       "</style>\n",
       "<table id=\"T_15556\">\n",
       "  <thead>\n",
       "    <tr>\n",
       "      <th class=\"blank level0\" >&nbsp;</th>\n",
       "      <th id=\"T_15556_level0_col0\" class=\"col_heading level0 col0\" >Silhouette</th>\n",
       "      <th id=\"T_15556_level0_col1\" class=\"col_heading level0 col1\" >Calinski-Harabasz</th>\n",
       "      <th id=\"T_15556_level0_col2\" class=\"col_heading level0 col2\" >Davies-Bouldin</th>\n",
       "      <th id=\"T_15556_level0_col3\" class=\"col_heading level0 col3\" >Homogeneity</th>\n",
       "      <th id=\"T_15556_level0_col4\" class=\"col_heading level0 col4\" >Rand Index</th>\n",
       "      <th id=\"T_15556_level0_col5\" class=\"col_heading level0 col5\" >Completeness</th>\n",
       "    </tr>\n",
       "  </thead>\n",
       "  <tbody>\n",
       "    <tr>\n",
       "      <th id=\"T_15556_level0_row0\" class=\"row_heading level0 row0\" >0</th>\n",
       "      <td id=\"T_15556_row0_col0\" class=\"data row0 col0\" >0.3806</td>\n",
       "      <td id=\"T_15556_row0_col1\" class=\"data row0 col1\" >389.5177</td>\n",
       "      <td id=\"T_15556_row0_col2\" class=\"data row0 col2\" >1.1060</td>\n",
       "      <td id=\"T_15556_row0_col3\" class=\"data row0 col3\" >0</td>\n",
       "      <td id=\"T_15556_row0_col4\" class=\"data row0 col4\" >0</td>\n",
       "      <td id=\"T_15556_row0_col5\" class=\"data row0 col5\" >0</td>\n",
       "    </tr>\n",
       "  </tbody>\n",
       "</table>\n"
      ],
      "text/plain": [
       "<pandas.io.formats.style.Styler at 0x15940356b60>"
      ]
     },
     "metadata": {},
     "output_type": "display_data"
    },
    {
     "data": {
      "text/html": [],
      "text/plain": [
       "<IPython.core.display.HTML object>"
      ]
     },
     "metadata": {},
     "output_type": "display_data"
    },
    {
     "data": {
      "text/html": [],
      "text/plain": [
       "<IPython.core.display.HTML object>"
      ]
     },
     "metadata": {},
     "output_type": "display_data"
    },
    {
     "data": {
      "text/html": [
       "<style type=\"text/css\">\n",
       "</style>\n",
       "<table id=\"T_7a955\">\n",
       "  <thead>\n",
       "    <tr>\n",
       "      <th class=\"blank level0\" >&nbsp;</th>\n",
       "      <th id=\"T_7a955_level0_col0\" class=\"col_heading level0 col0\" >Silhouette</th>\n",
       "      <th id=\"T_7a955_level0_col1\" class=\"col_heading level0 col1\" >Calinski-Harabasz</th>\n",
       "      <th id=\"T_7a955_level0_col2\" class=\"col_heading level0 col2\" >Davies-Bouldin</th>\n",
       "      <th id=\"T_7a955_level0_col3\" class=\"col_heading level0 col3\" >Homogeneity</th>\n",
       "      <th id=\"T_7a955_level0_col4\" class=\"col_heading level0 col4\" >Rand Index</th>\n",
       "      <th id=\"T_7a955_level0_col5\" class=\"col_heading level0 col5\" >Completeness</th>\n",
       "    </tr>\n",
       "  </thead>\n",
       "  <tbody>\n",
       "    <tr>\n",
       "      <th id=\"T_7a955_level0_row0\" class=\"row_heading level0 row0\" >0</th>\n",
       "      <td id=\"T_7a955_row0_col0\" class=\"data row0 col0\" >0.4607</td>\n",
       "      <td id=\"T_7a955_row0_col1\" class=\"data row0 col1\" >440.1016</td>\n",
       "      <td id=\"T_7a955_row0_col2\" class=\"data row0 col2\" >1.0107</td>\n",
       "      <td id=\"T_7a955_row0_col3\" class=\"data row0 col3\" >0</td>\n",
       "      <td id=\"T_7a955_row0_col4\" class=\"data row0 col4\" >0</td>\n",
       "      <td id=\"T_7a955_row0_col5\" class=\"data row0 col5\" >0</td>\n",
       "    </tr>\n",
       "  </tbody>\n",
       "</table>\n"
      ],
      "text/plain": [
       "<pandas.io.formats.style.Styler at 0x1593f3719f0>"
      ]
     },
     "metadata": {},
     "output_type": "display_data"
    },
    {
     "data": {
      "text/html": [],
      "text/plain": [
       "<IPython.core.display.HTML object>"
      ]
     },
     "metadata": {},
     "output_type": "display_data"
    },
    {
     "data": {
      "text/html": [],
      "text/plain": [
       "<IPython.core.display.HTML object>"
      ]
     },
     "metadata": {},
     "output_type": "display_data"
    },
    {
     "data": {
      "text/html": [
       "<style type=\"text/css\">\n",
       "</style>\n",
       "<table id=\"T_97cd4\">\n",
       "  <thead>\n",
       "    <tr>\n",
       "      <th class=\"blank level0\" >&nbsp;</th>\n",
       "      <th id=\"T_97cd4_level0_col0\" class=\"col_heading level0 col0\" >Silhouette</th>\n",
       "      <th id=\"T_97cd4_level0_col1\" class=\"col_heading level0 col1\" >Calinski-Harabasz</th>\n",
       "      <th id=\"T_97cd4_level0_col2\" class=\"col_heading level0 col2\" >Davies-Bouldin</th>\n",
       "      <th id=\"T_97cd4_level0_col3\" class=\"col_heading level0 col3\" >Homogeneity</th>\n",
       "      <th id=\"T_97cd4_level0_col4\" class=\"col_heading level0 col4\" >Rand Index</th>\n",
       "      <th id=\"T_97cd4_level0_col5\" class=\"col_heading level0 col5\" >Completeness</th>\n",
       "    </tr>\n",
       "  </thead>\n",
       "  <tbody>\n",
       "    <tr>\n",
       "      <th id=\"T_97cd4_level0_row0\" class=\"row_heading level0 row0\" >0</th>\n",
       "      <td id=\"T_97cd4_row0_col0\" class=\"data row0 col0\" >0.5272</td>\n",
       "      <td id=\"T_97cd4_row0_col1\" class=\"data row0 col1\" >477.2150</td>\n",
       "      <td id=\"T_97cd4_row0_col2\" class=\"data row0 col2\" >0.8380</td>\n",
       "      <td id=\"T_97cd4_row0_col3\" class=\"data row0 col3\" >0</td>\n",
       "      <td id=\"T_97cd4_row0_col4\" class=\"data row0 col4\" >0</td>\n",
       "      <td id=\"T_97cd4_row0_col5\" class=\"data row0 col5\" >0</td>\n",
       "    </tr>\n",
       "  </tbody>\n",
       "</table>\n"
      ],
      "text/plain": [
       "<pandas.io.formats.style.Styler at 0x1594baff220>"
      ]
     },
     "metadata": {},
     "output_type": "display_data"
    },
    {
     "data": {
      "text/html": [],
      "text/plain": [
       "<IPython.core.display.HTML object>"
      ]
     },
     "metadata": {},
     "output_type": "display_data"
    },
    {
     "data": {
      "text/html": [],
      "text/plain": [
       "<IPython.core.display.HTML object>"
      ]
     },
     "metadata": {},
     "output_type": "display_data"
    },
    {
     "data": {
      "text/html": [
       "<style type=\"text/css\">\n",
       "</style>\n",
       "<table id=\"T_a4c75\">\n",
       "  <thead>\n",
       "    <tr>\n",
       "      <th class=\"blank level0\" >&nbsp;</th>\n",
       "      <th id=\"T_a4c75_level0_col0\" class=\"col_heading level0 col0\" >Silhouette</th>\n",
       "      <th id=\"T_a4c75_level0_col1\" class=\"col_heading level0 col1\" >Calinski-Harabasz</th>\n",
       "      <th id=\"T_a4c75_level0_col2\" class=\"col_heading level0 col2\" >Davies-Bouldin</th>\n",
       "      <th id=\"T_a4c75_level0_col3\" class=\"col_heading level0 col3\" >Homogeneity</th>\n",
       "      <th id=\"T_a4c75_level0_col4\" class=\"col_heading level0 col4\" >Rand Index</th>\n",
       "      <th id=\"T_a4c75_level0_col5\" class=\"col_heading level0 col5\" >Completeness</th>\n",
       "    </tr>\n",
       "  </thead>\n",
       "  <tbody>\n",
       "    <tr>\n",
       "      <th id=\"T_a4c75_level0_row0\" class=\"row_heading level0 row0\" >0</th>\n",
       "      <td id=\"T_a4c75_row0_col0\" class=\"data row0 col0\" >0.5268</td>\n",
       "      <td id=\"T_a4c75_row0_col1\" class=\"data row0 col1\" >459.3331</td>\n",
       "      <td id=\"T_a4c75_row0_col2\" class=\"data row0 col2\" >0.8065</td>\n",
       "      <td id=\"T_a4c75_row0_col3\" class=\"data row0 col3\" >0</td>\n",
       "      <td id=\"T_a4c75_row0_col4\" class=\"data row0 col4\" >0</td>\n",
       "      <td id=\"T_a4c75_row0_col5\" class=\"data row0 col5\" >0</td>\n",
       "    </tr>\n",
       "  </tbody>\n",
       "</table>\n"
      ],
      "text/plain": [
       "<pandas.io.formats.style.Styler at 0x1594baff220>"
      ]
     },
     "metadata": {},
     "output_type": "display_data"
    },
    {
     "data": {
      "text/html": [],
      "text/plain": [
       "<IPython.core.display.HTML object>"
      ]
     },
     "metadata": {},
     "output_type": "display_data"
    },
    {
     "data": {
      "text/html": [],
      "text/plain": [
       "<IPython.core.display.HTML object>"
      ]
     },
     "metadata": {},
     "output_type": "display_data"
    },
    {
     "data": {
      "text/html": [
       "<style type=\"text/css\">\n",
       "</style>\n",
       "<table id=\"T_c871a\">\n",
       "  <thead>\n",
       "    <tr>\n",
       "      <th class=\"blank level0\" >&nbsp;</th>\n",
       "      <th id=\"T_c871a_level0_col0\" class=\"col_heading level0 col0\" >Silhouette</th>\n",
       "      <th id=\"T_c871a_level0_col1\" class=\"col_heading level0 col1\" >Calinski-Harabasz</th>\n",
       "      <th id=\"T_c871a_level0_col2\" class=\"col_heading level0 col2\" >Davies-Bouldin</th>\n",
       "      <th id=\"T_c871a_level0_col3\" class=\"col_heading level0 col3\" >Homogeneity</th>\n",
       "      <th id=\"T_c871a_level0_col4\" class=\"col_heading level0 col4\" >Rand Index</th>\n",
       "      <th id=\"T_c871a_level0_col5\" class=\"col_heading level0 col5\" >Completeness</th>\n",
       "    </tr>\n",
       "  </thead>\n",
       "  <tbody>\n",
       "    <tr>\n",
       "      <th id=\"T_c871a_level0_row0\" class=\"row_heading level0 row0\" >0</th>\n",
       "      <td id=\"T_c871a_row0_col0\" class=\"data row0 col0\" >0.5313</td>\n",
       "      <td id=\"T_c871a_row0_col1\" class=\"data row0 col1\" >399.4644</td>\n",
       "      <td id=\"T_c871a_row0_col2\" class=\"data row0 col2\" >0.9229</td>\n",
       "      <td id=\"T_c871a_row0_col3\" class=\"data row0 col3\" >0</td>\n",
       "      <td id=\"T_c871a_row0_col4\" class=\"data row0 col4\" >0</td>\n",
       "      <td id=\"T_c871a_row0_col5\" class=\"data row0 col5\" >0</td>\n",
       "    </tr>\n",
       "  </tbody>\n",
       "</table>\n"
      ],
      "text/plain": [
       "<pandas.io.formats.style.Styler at 0x15948997010>"
      ]
     },
     "metadata": {},
     "output_type": "display_data"
    },
    {
     "data": {
      "text/html": [],
      "text/plain": [
       "<IPython.core.display.HTML object>"
      ]
     },
     "metadata": {},
     "output_type": "display_data"
    },
    {
     "data": {
      "text/html": [],
      "text/plain": [
       "<IPython.core.display.HTML object>"
      ]
     },
     "metadata": {},
     "output_type": "display_data"
    },
    {
     "data": {
      "text/html": [
       "<style type=\"text/css\">\n",
       "</style>\n",
       "<table id=\"T_9b3b0\">\n",
       "  <thead>\n",
       "    <tr>\n",
       "      <th class=\"blank level0\" >&nbsp;</th>\n",
       "      <th id=\"T_9b3b0_level0_col0\" class=\"col_heading level0 col0\" >Silhouette</th>\n",
       "      <th id=\"T_9b3b0_level0_col1\" class=\"col_heading level0 col1\" >Calinski-Harabasz</th>\n",
       "      <th id=\"T_9b3b0_level0_col2\" class=\"col_heading level0 col2\" >Davies-Bouldin</th>\n",
       "      <th id=\"T_9b3b0_level0_col3\" class=\"col_heading level0 col3\" >Homogeneity</th>\n",
       "      <th id=\"T_9b3b0_level0_col4\" class=\"col_heading level0 col4\" >Rand Index</th>\n",
       "      <th id=\"T_9b3b0_level0_col5\" class=\"col_heading level0 col5\" >Completeness</th>\n",
       "    </tr>\n",
       "  </thead>\n",
       "  <tbody>\n",
       "    <tr>\n",
       "      <th id=\"T_9b3b0_level0_row0\" class=\"row_heading level0 row0\" >0</th>\n",
       "      <td id=\"T_9b3b0_row0_col0\" class=\"data row0 col0\" >0.6144</td>\n",
       "      <td id=\"T_9b3b0_row0_col1\" class=\"data row0 col1\" >717.6203</td>\n",
       "      <td id=\"T_9b3b0_row0_col2\" class=\"data row0 col2\" >0.6621</td>\n",
       "      <td id=\"T_9b3b0_row0_col3\" class=\"data row0 col3\" >0</td>\n",
       "      <td id=\"T_9b3b0_row0_col4\" class=\"data row0 col4\" >0</td>\n",
       "      <td id=\"T_9b3b0_row0_col5\" class=\"data row0 col5\" >0</td>\n",
       "    </tr>\n",
       "  </tbody>\n",
       "</table>\n"
      ],
      "text/plain": [
       "<pandas.io.formats.style.Styler at 0x159478c4220>"
      ]
     },
     "metadata": {},
     "output_type": "display_data"
    },
    {
     "data": {
      "text/html": [],
      "text/plain": [
       "<IPython.core.display.HTML object>"
      ]
     },
     "metadata": {},
     "output_type": "display_data"
    },
    {
     "data": {
      "text/html": [],
      "text/plain": [
       "<IPython.core.display.HTML object>"
      ]
     },
     "metadata": {},
     "output_type": "display_data"
    },
    {
     "data": {
      "text/html": [
       "<style type=\"text/css\">\n",
       "</style>\n",
       "<table id=\"T_02756\">\n",
       "  <thead>\n",
       "    <tr>\n",
       "      <th class=\"blank level0\" >&nbsp;</th>\n",
       "      <th id=\"T_02756_level0_col0\" class=\"col_heading level0 col0\" >Silhouette</th>\n",
       "      <th id=\"T_02756_level0_col1\" class=\"col_heading level0 col1\" >Calinski-Harabasz</th>\n",
       "      <th id=\"T_02756_level0_col2\" class=\"col_heading level0 col2\" >Davies-Bouldin</th>\n",
       "      <th id=\"T_02756_level0_col3\" class=\"col_heading level0 col3\" >Homogeneity</th>\n",
       "      <th id=\"T_02756_level0_col4\" class=\"col_heading level0 col4\" >Rand Index</th>\n",
       "      <th id=\"T_02756_level0_col5\" class=\"col_heading level0 col5\" >Completeness</th>\n",
       "    </tr>\n",
       "  </thead>\n",
       "  <tbody>\n",
       "    <tr>\n",
       "      <th id=\"T_02756_level0_row0\" class=\"row_heading level0 row0\" >0</th>\n",
       "      <td id=\"T_02756_row0_col0\" class=\"data row0 col0\" >0.6302</td>\n",
       "      <td id=\"T_02756_row0_col1\" class=\"data row0 col1\" >754.7320</td>\n",
       "      <td id=\"T_02756_row0_col2\" class=\"data row0 col2\" >0.7287</td>\n",
       "      <td id=\"T_02756_row0_col3\" class=\"data row0 col3\" >0</td>\n",
       "      <td id=\"T_02756_row0_col4\" class=\"data row0 col4\" >0</td>\n",
       "      <td id=\"T_02756_row0_col5\" class=\"data row0 col5\" >0</td>\n",
       "    </tr>\n",
       "  </tbody>\n",
       "</table>\n"
      ],
      "text/plain": [
       "<pandas.io.formats.style.Styler at 0x15932915f30>"
      ]
     },
     "metadata": {},
     "output_type": "display_data"
    },
    {
     "data": {
      "text/html": [],
      "text/plain": [
       "<IPython.core.display.HTML object>"
      ]
     },
     "metadata": {},
     "output_type": "display_data"
    },
    {
     "data": {
      "text/html": [],
      "text/plain": [
       "<IPython.core.display.HTML object>"
      ]
     },
     "metadata": {},
     "output_type": "display_data"
    },
    {
     "data": {
      "text/html": [
       "<style type=\"text/css\">\n",
       "</style>\n",
       "<table id=\"T_c6ee4\">\n",
       "  <thead>\n",
       "    <tr>\n",
       "      <th class=\"blank level0\" >&nbsp;</th>\n",
       "      <th id=\"T_c6ee4_level0_col0\" class=\"col_heading level0 col0\" >Silhouette</th>\n",
       "      <th id=\"T_c6ee4_level0_col1\" class=\"col_heading level0 col1\" >Calinski-Harabasz</th>\n",
       "      <th id=\"T_c6ee4_level0_col2\" class=\"col_heading level0 col2\" >Davies-Bouldin</th>\n",
       "      <th id=\"T_c6ee4_level0_col3\" class=\"col_heading level0 col3\" >Homogeneity</th>\n",
       "      <th id=\"T_c6ee4_level0_col4\" class=\"col_heading level0 col4\" >Rand Index</th>\n",
       "      <th id=\"T_c6ee4_level0_col5\" class=\"col_heading level0 col5\" >Completeness</th>\n",
       "    </tr>\n",
       "  </thead>\n",
       "  <tbody>\n",
       "    <tr>\n",
       "      <th id=\"T_c6ee4_level0_row0\" class=\"row_heading level0 row0\" >0</th>\n",
       "      <td id=\"T_c6ee4_row0_col0\" class=\"data row0 col0\" >0.5666</td>\n",
       "      <td id=\"T_c6ee4_row0_col1\" class=\"data row0 col1\" >701.4387</td>\n",
       "      <td id=\"T_c6ee4_row0_col2\" class=\"data row0 col2\" >0.8771</td>\n",
       "      <td id=\"T_c6ee4_row0_col3\" class=\"data row0 col3\" >0</td>\n",
       "      <td id=\"T_c6ee4_row0_col4\" class=\"data row0 col4\" >0</td>\n",
       "      <td id=\"T_c6ee4_row0_col5\" class=\"data row0 col5\" >0</td>\n",
       "    </tr>\n",
       "  </tbody>\n",
       "</table>\n"
      ],
      "text/plain": [
       "<pandas.io.formats.style.Styler at 0x1593f547d00>"
      ]
     },
     "metadata": {},
     "output_type": "display_data"
    },
    {
     "data": {
      "text/html": [],
      "text/plain": [
       "<IPython.core.display.HTML object>"
      ]
     },
     "metadata": {},
     "output_type": "display_data"
    },
    {
     "data": {
      "image/png": "[encoded data removed]",
      "text/plain": [
       "<Figure size 800x400 with 1 Axes>"
      ]
     },
     "metadata": {},
     "output_type": "display_data"
    },
    {
     "data": {
      "image/png": "[encoded data removed]",
      "text/plain": [
       "<Figure size 800x400 with 1 Axes>"
      ]
     },
     "metadata": {},
     "output_type": "display_data"
    }
   ],
   "source": [
    "df_segmentos_encoded = pd.get_dummies(dataframe, columns=['idTipoMovimento'], drop_first=True)\n",
    "\n",
    "# Configurar o ambiente de clusterização no PyCaret\n",
    "clustering_setup = setup(data=df_segmentos_encoded, normalize=True)\n",
    "\n",
    "# Testar diferentes números de clusters usando o método do cotovelo\n",
    "inertia_values = []\n",
    "silhouette_scores = []\n",
    "K = range(2,11)  # Testar de 2 a 10 clusters\n",
    "\n",
    "for k in K:\n",
    "    # Criar o modelo de K-Means com k clusters\n",
    "    kmeans = create_model('kmeans', num_clusters=k)\n",
    "    \n",
    "    # Atribuir os clusters aos dados\n",
    "    clustered_data = assign_model(kmeans)\n",
    "    \n",
    "    # Calcular e armazenar a Inertia (para o método do cotovelo)\n",
    "    inertia_values.append(kmeans.inertia_)\n",
    "    \n",
    "    # Calcular o Silhouette Score e armazenar\n",
    "    score = silhouette_score(clustered_data.drop(['Cluster'], axis=1), clustered_data['Cluster'])\n",
    "    silhouette_scores.append(score)\n",
    "\n",
    "# Plotar o Método do Cotovelo\n",
    "plt.figure(figsize=(8, 4))\n",
    "plt.plot(K, inertia_values, 'bo-', label='Inertia')\n",
    "plt.xlabel('Número de Clusters')\n",
    "plt.ylabel('Inertia')\n",
    "plt.title('Método do Cotovelo para Determinação do Número Ótimo de Clusters')\n",
    "plt.show()\n",
    "\n",
    "# Plotar o Silhouette Score\n",
    "plt.figure(figsize=(8, 4))\n",
    "plt.plot(K, silhouette_scores, 'bo-', label='Silhouette Score')\n",
    "plt.xlabel('Número de Clusters')\n",
    "plt.ylabel('Silhouette Score')\n",
    "plt.title('Silhouette Score para Diferentes Números de Clusters')\n",
    "plt.show()\n"
   ]
  },
  {
   "cell_type": "code",
   "execution_count": 435,
   "metadata": {},
   "outputs": [
    {
     "data": {
      "text/html": [
       "<style type=\"text/css\">\n",
       "#T_35e1e_row5_col1, #T_35e1e_row9_col1 {\n",
       "  background-color: lightgreen;\n",
       "}\n",
       "</style>\n",
       "<table id=\"T_35e1e\">\n",
       "  <thead>\n",
       "    <tr>\n",
       "      <th class=\"blank level0\" >&nbsp;</th>\n",
       "      <th id=\"T_35e1e_level0_col0\" class=\"col_heading level0 col0\" >Description</th>\n",
       "      <th id=\"T_35e1e_level0_col1\" class=\"col_heading level0 col1\" >Value</th>\n",
       "    </tr>\n",
       "  </thead>\n",
       "  <tbody>\n",
       "    <tr>\n",
       "      <th id=\"T_35e1e_level0_row0\" class=\"row_heading level0 row0\" >0</th>\n",
       "      <td id=\"T_35e1e_row0_col0\" class=\"data row0 col0\" >Session id</td>\n",
       "      <td id=\"T_35e1e_row0_col1\" class=\"data row0 col1\" >5136</td>\n",
       "    </tr>\n",
       "    <tr>\n",
       "      <th id=\"T_35e1e_level0_row1\" class=\"row_heading level0 row1\" >1</th>\n",
       "      <td id=\"T_35e1e_row1_col0\" class=\"data row1 col0\" >Original data shape</td>\n",
       "      <td id=\"T_35e1e_row1_col1\" class=\"data row1 col1\" >(1002, 6)</td>\n",
       "    </tr>\n",
       "    <tr>\n",
       "      <th id=\"T_35e1e_level0_row2\" class=\"row_heading level0 row2\" >2</th>\n",
       "      <td id=\"T_35e1e_row2_col0\" class=\"data row2 col0\" >Transformed data shape</td>\n",
       "      <td id=\"T_35e1e_row2_col1\" class=\"data row2 col1\" >(1002, 4)</td>\n",
       "    </tr>\n",
       "    <tr>\n",
       "      <th id=\"T_35e1e_level0_row3\" class=\"row_heading level0 row3\" >3</th>\n",
       "      <td id=\"T_35e1e_row3_col0\" class=\"data row3 col0\" >Ignore features</td>\n",
       "      <td id=\"T_35e1e_row3_col1\" class=\"data row3 col1\" >3</td>\n",
       "    </tr>\n",
       "    <tr>\n",
       "      <th id=\"T_35e1e_level0_row4\" class=\"row_heading level0 row4\" >4</th>\n",
       "      <td id=\"T_35e1e_row4_col0\" class=\"data row4 col0\" >Numeric features</td>\n",
       "      <td id=\"T_35e1e_row4_col1\" class=\"data row4 col1\" >4</td>\n",
       "    </tr>\n",
       "    <tr>\n",
       "      <th id=\"T_35e1e_level0_row5\" class=\"row_heading level0 row5\" >5</th>\n",
       "      <td id=\"T_35e1e_row5_col0\" class=\"data row5 col0\" >Preprocess</td>\n",
       "      <td id=\"T_35e1e_row5_col1\" class=\"data row5 col1\" >True</td>\n",
       "    </tr>\n",
       "    <tr>\n",
       "      <th id=\"T_35e1e_level0_row6\" class=\"row_heading level0 row6\" >6</th>\n",
       "      <td id=\"T_35e1e_row6_col0\" class=\"data row6 col0\" >Imputation type</td>\n",
       "      <td id=\"T_35e1e_row6_col1\" class=\"data row6 col1\" >simple</td>\n",
       "    </tr>\n",
       "    <tr>\n",
       "      <th id=\"T_35e1e_level0_row7\" class=\"row_heading level0 row7\" >7</th>\n",
       "      <td id=\"T_35e1e_row7_col0\" class=\"data row7 col0\" >Numeric imputation</td>\n",
       "      <td id=\"T_35e1e_row7_col1\" class=\"data row7 col1\" >mean</td>\n",
       "    </tr>\n",
       "    <tr>\n",
       "      <th id=\"T_35e1e_level0_row8\" class=\"row_heading level0 row8\" >8</th>\n",
       "      <td id=\"T_35e1e_row8_col0\" class=\"data row8 col0\" >Categorical imputation</td>\n",
       "      <td id=\"T_35e1e_row8_col1\" class=\"data row8 col1\" >mode</td>\n",
       "    </tr>\n",
       "    <tr>\n",
       "      <th id=\"T_35e1e_level0_row9\" class=\"row_heading level0 row9\" >9</th>\n",
       "      <td id=\"T_35e1e_row9_col0\" class=\"data row9 col0\" >Normalize</td>\n",
       "      <td id=\"T_35e1e_row9_col1\" class=\"data row9 col1\" >True</td>\n",
       "    </tr>\n",
       "    <tr>\n",
       "      <th id=\"T_35e1e_level0_row10\" class=\"row_heading level0 row10\" >10</th>\n",
       "      <td id=\"T_35e1e_row10_col0\" class=\"data row10 col0\" >Normalize method</td>\n",
       "      <td id=\"T_35e1e_row10_col1\" class=\"data row10 col1\" >zscore</td>\n",
       "    </tr>\n",
       "    <tr>\n",
       "      <th id=\"T_35e1e_level0_row11\" class=\"row_heading level0 row11\" >11</th>\n",
       "      <td id=\"T_35e1e_row11_col0\" class=\"data row11 col0\" >CPU Jobs</td>\n",
       "      <td id=\"T_35e1e_row11_col1\" class=\"data row11 col1\" >-1</td>\n",
       "    </tr>\n",
       "    <tr>\n",
       "      <th id=\"T_35e1e_level0_row12\" class=\"row_heading level0 row12\" >12</th>\n",
       "      <td id=\"T_35e1e_row12_col0\" class=\"data row12 col0\" >Use GPU</td>\n",
       "      <td id=\"T_35e1e_row12_col1\" class=\"data row12 col1\" >False</td>\n",
       "    </tr>\n",
       "    <tr>\n",
       "      <th id=\"T_35e1e_level0_row13\" class=\"row_heading level0 row13\" >13</th>\n",
       "      <td id=\"T_35e1e_row13_col0\" class=\"data row13 col0\" >Log Experiment</td>\n",
       "      <td id=\"T_35e1e_row13_col1\" class=\"data row13 col1\" >False</td>\n",
       "    </tr>\n",
       "    <tr>\n",
       "      <th id=\"T_35e1e_level0_row14\" class=\"row_heading level0 row14\" >14</th>\n",
       "      <td id=\"T_35e1e_row14_col0\" class=\"data row14 col0\" >Experiment Name</td>\n",
       "      <td id=\"T_35e1e_row14_col1\" class=\"data row14 col1\" >cluster-default-name</td>\n",
       "    </tr>\n",
       "    <tr>\n",
       "      <th id=\"T_35e1e_level0_row15\" class=\"row_heading level0 row15\" >15</th>\n",
       "      <td id=\"T_35e1e_row15_col0\" class=\"data row15 col0\" >USI</td>\n",
       "      <td id=\"T_35e1e_row15_col1\" class=\"data row15 col1\" >04da</td>\n",
       "    </tr>\n",
       "  </tbody>\n",
       "</table>\n"
      ],
      "text/plain": [
       "<pandas.io.formats.style.Styler at 0x1594bf17f40>"
      ]
     },
     "metadata": {},
     "output_type": "display_data"
    },
    {
     "data": {
      "text/html": [],
      "text/plain": [
       "<IPython.core.display.HTML object>"
      ]
     },
     "metadata": {},
     "output_type": "display_data"
    },
    {
     "data": {
      "text/html": [
       "<style type=\"text/css\">\n",
       "</style>\n",
       "<table id=\"T_cd081\">\n",
       "  <thead>\n",
       "    <tr>\n",
       "      <th class=\"blank level0\" >&nbsp;</th>\n",
       "      <th id=\"T_cd081_level0_col0\" class=\"col_heading level0 col0\" >Silhouette</th>\n",
       "      <th id=\"T_cd081_level0_col1\" class=\"col_heading level0 col1\" >Calinski-Harabasz</th>\n",
       "      <th id=\"T_cd081_level0_col2\" class=\"col_heading level0 col2\" >Davies-Bouldin</th>\n",
       "      <th id=\"T_cd081_level0_col3\" class=\"col_heading level0 col3\" >Homogeneity</th>\n",
       "      <th id=\"T_cd081_level0_col4\" class=\"col_heading level0 col4\" >Rand Index</th>\n",
       "      <th id=\"T_cd081_level0_col5\" class=\"col_heading level0 col5\" >Completeness</th>\n",
       "    </tr>\n",
       "  </thead>\n",
       "  <tbody>\n",
       "    <tr>\n",
       "      <th id=\"T_cd081_level0_row0\" class=\"row_heading level0 row0\" >0</th>\n",
       "      <td id=\"T_cd081_row0_col0\" class=\"data row0 col0\" >0.6172</td>\n",
       "      <td id=\"T_cd081_row0_col1\" class=\"data row0 col1\" >879.5517</td>\n",
       "      <td id=\"T_cd081_row0_col2\" class=\"data row0 col2\" >0.7394</td>\n",
       "      <td id=\"T_cd081_row0_col3\" class=\"data row0 col3\" >0</td>\n",
       "      <td id=\"T_cd081_row0_col4\" class=\"data row0 col4\" >0</td>\n",
       "      <td id=\"T_cd081_row0_col5\" class=\"data row0 col5\" >0</td>\n",
       "    </tr>\n",
       "  </tbody>\n",
       "</table>\n"
      ],
      "text/plain": [
       "<pandas.io.formats.style.Styler at 0x1594b75c7f0>"
      ]
     },
     "metadata": {},
     "output_type": "display_data"
    },
    {
     "data": {
      "text/html": [],
      "text/plain": [
       "<IPython.core.display.HTML object>"
      ]
     },
     "metadata": {},
     "output_type": "display_data"
    },
    {
     "name": "stdout",
     "output_type": "stream",
     "text": [
      "    acelX   acelY  acelZ  MAGNITUDE_ACEL    Cluster\n",
      "0 -1282.0 -1473.0  137.0     1957.555054  Cluster 0\n",
      "1 -1267.0 -1509.0  132.0     1974.789551  Cluster 0\n",
      "2 -1294.0 -1522.0  125.0     2001.635620  Cluster 0\n",
      "3 -1285.0 -1502.0  118.0     1980.190186  Cluster 0\n",
      "4 -1305.0 -1491.0  138.0     1986.240112  Cluster 0\n"
     ]
    },
    {
     "data": {
      "text/html": [],
      "text/plain": [
       "<IPython.core.display.HTML object>"
      ]
     },
     "metadata": {},
     "output_type": "display_data"
    },
    {
     "data": {
      "application/vnd.plotly.v1+json": {
       "config": {
        "plotlyServerURL": "https://plot.ly"
       },
       "data": [
        {
         "customdata": [
          [
           0
          ],
          [
           2360
          ],
          [
           2320
          ],
          [
           2280
          ],
          [
           2240
          ],
          [
           2200
          ],
          [
           2160
          ],
          [
           1960
          ],
          [
           1920
          ],
          [
           1880
          ],
          [
           1840
          ],
          [
           1800
          ],
          [
           1760
          ],
          [
           1720
          ],
          [
           1680
          ],
          [
           1640
          ],
          [
           2520
          ],
          [
           2560
          ],
          [
           2600
          ],
          [
           3080
          ],
          [
           12440
          ],
          [
           12480
          ],
          [
           12560
          ],
          [
           12800
          ],
          [
           12840
          ],
          [
           13080
          ],
          [
           14800
          ],
          [
           1600
          ],
          [
           13360
          ],
          [
           3760
          ],
          [
           3640
          ],
          [
           13600
          ],
          [
           13640
          ],
          [
           13880
          ],
          [
           13920
          ],
          [
           13960
          ],
          [
           13400
          ],
          [
           1560
          ],
          [
           14240
          ],
          [
           1479
          ],
          [
           720
          ],
          [
           680
          ],
          [
           640
          ],
          [
           600
          ],
          [
           560
          ],
          [
           520
          ],
          [
           480
          ],
          [
           1520
          ],
          [
           760
          ],
          [
           400
          ],
          [
           320
          ],
          [
           280
          ],
          [
           240
          ],
          [
           200
          ],
          [
           160
          ],
          [
           120
          ],
          [
           80
          ],
          [
           40
          ],
          [
           360
          ],
          [
           800
          ],
          [
           440
          ],
          [
           1160
          ],
          [
           1080
          ],
          [
           1120
          ],
          [
           1000
          ],
          [
           1200
          ],
          [
           1040
          ],
          [
           1400
          ],
          [
           960
          ],
          [
           1440
          ],
          [
           1320
          ],
          [
           1240
          ],
          [
           920
          ],
          [
           880
          ],
          [
           840
          ],
          [
           1280
          ],
          [
           1360
          ]
         ],
         "hovertemplate": "Cluster=Cluster 0<br>PCA1=%{x}<br>PCA2=%{y}<br>Feature=%{customdata[0]}<extra></extra>",
         "legendgroup": "Cluster 0",
         "marker": {
          "color": "#636efa",
          "opacity": 0.5,
          "symbol": "circle"
         },
         "mode": "markers",
         "name": "Cluster 0",
         "showlegend": true,
         "textposition": "top center",
         "type": "scattergl",
         "x": [
          -0.91334337,
          -0.73850226,
          -0.47423017,
          -0.68957067,
          -0.7374875,
          -0.8234832,
          -0.7904994,
          -0.85974634,
          -0.9711775,
          -0.8255219,
          -0.91050637,
          -0.8689709,
          -0.84653306,
          -0.8964999,
          -0.850759,
          -0.8280183,
          -0.8132143,
          -0.654261,
          -0.80356956,
          -0.7583985,
          -0.5490865,
          -0.558666,
          -0.95692676,
          -1.1639436,
          -0.952975,
          -0.5349458,
          -0.91961837,
          -0.82448417,
          -0.6873854,
          -0.27087337,
          -0.5005515,
          -0.860107,
          -0.83168435,
          -0.93762696,
          -0.9032924,
          -0.8771494,
          -0.71784836,
          -0.85265326,
          -0.8934057,
          -0.8925548,
          -0.8758821,
          -0.8722832,
          -0.8427876,
          -0.8685173,
          -0.85996735,
          -0.84216535,
          -0.8722821,
          -0.85766155,
          -0.84161913,
          -0.9052652,
          -0.7642777,
          -0.86302286,
          -0.8497614,
          -0.8649733,
          -0.87071395,
          -0.8800201,
          -0.8388304,
          -0.87030786,
          -0.87917876,
          -0.8096351,
          -0.84958595,
          -0.8158179,
          -0.88180065,
          -0.83692706,
          -0.8188129,
          -0.8998995,
          -0.9031148,
          -0.8356732,
          -0.8603589,
          -0.8875464,
          -0.8761712,
          -0.90449756,
          -0.85453093,
          -0.8947885,
          -0.86522996,
          -0.8814282,
          -0.85495985
         ],
         "xaxis": "x",
         "y": [
          1.0314296,
          1.0337328,
          2.305575,
          1.1716172,
          1.1157235,
          0.8450189,
          0.8208912,
          0.8275926,
          1.0357001,
          1.5272386,
          1.1655494,
          1.0858314,
          0.9405807,
          0.6800157,
          0.779432,
          0.8635375,
          0.6430941,
          1.1098851,
          0.6336628,
          0.603707,
          1.9244276,
          1.4769721,
          0.77894384,
          0.599431,
          1.0524951,
          0.8231511,
          0.7537469,
          0.9773408,
          0.76450986,
          1.3277026,
          1.0577784,
          1.0097268,
          0.84607416,
          0.71119916,
          0.98909557,
          1.0069039,
          1.0235616,
          1.1251733,
          0.76566255,
          0.80674016,
          1.1089444,
          1.1021844,
          1.082,
          1.1247462,
          1.0171573,
          1.2067491,
          1.0529914,
          0.97942317,
          0.98649853,
          0.92750037,
          1.2516828,
          1.1188507,
          1.1115252,
          1.0811943,
          1.1557918,
          1.0917344,
          1.1712927,
          1.047471,
          0.9127261,
          1.115387,
          1.0435237,
          1.2661356,
          0.9705703,
          1.1413456,
          1.180472,
          0.9381727,
          0.86183965,
          1.1176369,
          1.0691804,
          0.814959,
          1.0588018,
          0.9431755,
          1.2278863,
          0.9777714,
          1.079098,
          0.8475417,
          1.0167999
         ],
         "yaxis": "y"
        },
        {
         "customdata": [
          [
           3880
          ],
          [
           3840
          ],
          [
           13440
          ],
          [
           3640
          ],
          [
           3960
          ],
          [
           4000
          ],
          [
           4040
          ],
          [
           4080
          ],
          [
           3920
          ],
          [
           3600
          ],
          [
           3480
          ],
          [
           3520
          ],
          [
           2840
          ],
          [
           2880
          ],
          [
           2920
          ],
          [
           2960
          ],
          [
           3000
          ],
          [
           3040
          ],
          [
           3080
          ],
          [
           3120
          ],
          [
           3160
          ],
          [
           3200
          ],
          [
           3240
          ],
          [
           3280
          ],
          [
           3320
          ],
          [
           3360
          ],
          [
           3400
          ],
          [
           3440
          ],
          [
           11400
          ],
          [
           3560
          ],
          [
           11440
          ],
          [
           11640
          ],
          [
           11520
          ],
          [
           12920
          ],
          [
           12960
          ],
          [
           13000
          ],
          [
           13040
          ],
          [
           13080
          ],
          [
           13120
          ],
          [
           13520
          ],
          [
           2800
          ],
          [
           13200
          ],
          [
           13240
          ],
          [
           13280
          ],
          [
           13320
          ],
          [
           13360
          ],
          [
           13400
          ],
          [
           13160
          ],
          [
           12880
          ],
          [
           12840
          ],
          [
           12800
          ],
          [
           11560
          ],
          [
           11600
          ],
          [
           13480
          ],
          [
           11680
          ],
          [
           11720
          ],
          [
           11760
          ],
          [
           11800
          ],
          [
           12160
          ],
          [
           12640
          ],
          [
           13640
          ],
          [
           12680
          ],
          [
           13600
          ],
          [
           13560
          ],
          [
           12720
          ],
          [
           12760
          ],
          [
           11480
          ],
          [
           2760
          ],
          [
           1440
          ],
          [
           2680
          ],
          [
           1200
          ],
          [
           1160
          ],
          [
           1120
          ],
          [
           1080
          ],
          [
           1040
          ],
          [
           1000
          ],
          [
           960
          ],
          [
           920
          ],
          [
           880
          ],
          [
           840
          ],
          [
           800
          ],
          [
           760
          ],
          [
           720
          ],
          [
           680
          ],
          [
           640
          ],
          [
           600
          ],
          [
           560
          ],
          [
           0
          ],
          [
           40
          ],
          [
           80
          ],
          [
           120
          ],
          [
           160
          ],
          [
           200
          ],
          [
           1240
          ],
          [
           240
          ],
          [
           320
          ],
          [
           360
          ],
          [
           400
          ],
          [
           440
          ],
          [
           480
          ],
          [
           520
          ],
          [
           280
          ],
          [
           1280
          ],
          [
           1320
          ],
          [
           1360
          ],
          [
           2120
          ],
          [
           2160
          ],
          [
           2200
          ],
          [
           2240
          ],
          [
           2280
          ],
          [
           2320
          ],
          [
           2080
          ],
          [
           2360
          ],
          [
           2440
          ],
          [
           2480
          ],
          [
           2520
          ],
          [
           2560
          ],
          [
           2600
          ],
          [
           2640
          ],
          [
           2400
          ],
          [
           2720
          ],
          [
           2040
          ],
          [
           1960
          ],
          [
           1400
          ],
          [
           13680
          ],
          [
           1480
          ],
          [
           1520
          ],
          [
           1560
          ],
          [
           1600
          ],
          [
           2000
          ],
          [
           1640
          ],
          [
           1720
          ],
          [
           1760
          ],
          [
           1800
          ],
          [
           1840
          ],
          [
           1880
          ],
          [
           1920
          ],
          [
           1680
          ],
          [
           13720
          ],
          [
           15000
          ],
          [
           13800
          ],
          [
           17800
          ],
          [
           17840
          ],
          [
           17880
          ],
          [
           17920
          ],
          [
           17960
          ],
          [
           18000
          ],
          [
           18040
          ],
          [
           18080
          ],
          [
           18120
          ],
          [
           18160
          ],
          [
           18200
          ],
          [
           18240
          ],
          [
           18280
          ],
          [
           18320
          ],
          [
           18360
          ],
          [
           17760
          ],
          [
           17720
          ],
          [
           17680
          ],
          [
           17640
          ],
          [
           17000
          ],
          [
           17040
          ],
          [
           17080
          ],
          [
           17120
          ],
          [
           17160
          ],
          [
           17200
          ],
          [
           17240
          ],
          [
           18400
          ],
          [
           17280
          ],
          [
           17360
          ],
          [
           17400
          ],
          [
           17440
          ],
          [
           17480
          ],
          [
           17520
          ],
          [
           17560
          ],
          [
           17600
          ],
          [
           17320
          ],
          [
           16960
          ],
          [
           18440
          ],
          [
           18520
          ],
          [
           19360
          ],
          [
           19400
          ],
          [
           19440
          ],
          [
           19480
          ],
          [
           19520
          ],
          [
           19560
          ],
          [
           19600
          ],
          [
           19640
          ],
          [
           19680
          ],
          [
           19720
          ],
          [
           19760
          ],
          [
           19800
          ],
          [
           19840
          ],
          [
           19880
          ],
          [
           19920
          ],
          [
           19320
          ],
          [
           19280
          ],
          [
           19240
          ],
          [
           19200
          ],
          [
           18560
          ],
          [
           18600
          ],
          [
           18640
          ],
          [
           18680
          ],
          [
           18720
          ],
          [
           18760
          ],
          [
           18800
          ],
          [
           18480
          ],
          [
           18840
          ],
          [
           18920
          ],
          [
           18960
          ],
          [
           19000
          ],
          [
           19040
          ],
          [
           19080
          ],
          [
           19120
          ],
          [
           19160
          ],
          [
           18880
          ],
          [
           13760
          ],
          [
           16920
          ],
          [
           16840
          ],
          [
           14640
          ],
          [
           14680
          ],
          [
           14720
          ],
          [
           14760
          ],
          [
           14800
          ],
          [
           14840
          ],
          [
           14880
          ],
          [
           14920
          ],
          [
           14960
          ],
          [
           15040
          ],
          [
           15080
          ],
          [
           15120
          ],
          [
           15160
          ],
          [
           15200
          ],
          [
           15240
          ],
          [
           14600
          ],
          [
           14560
          ],
          [
           14520
          ],
          [
           14480
          ],
          [
           13840
          ],
          [
           13880
          ],
          [
           13920
          ],
          [
           13960
          ],
          [
           14000
          ],
          [
           14040
          ],
          [
           14080
          ],
          [
           15280
          ],
          [
           14120
          ],
          [
           14200
          ],
          [
           14240
          ],
          [
           14280
          ],
          [
           14320
          ],
          [
           14360
          ],
          [
           14400
          ],
          [
           14440
          ],
          [
           14160
          ],
          [
           16880
          ],
          [
           15320
          ],
          [
           15400
          ],
          [
           16240
          ],
          [
           16280
          ],
          [
           16320
          ],
          [
           16360
          ],
          [
           16400
          ],
          [
           16440
          ],
          [
           16480
          ],
          [
           16520
          ],
          [
           16560
          ],
          [
           16600
          ],
          [
           16640
          ],
          [
           16680
          ],
          [
           16720
          ],
          [
           16760
          ],
          [
           16800
          ],
          [
           16200
          ],
          [
           16160
          ],
          [
           16120
          ],
          [
           16080
          ],
          [
           15440
          ],
          [
           15480
          ],
          [
           15520
          ],
          [
           15560
          ],
          [
           15600
          ],
          [
           15640
          ],
          [
           15680
          ],
          [
           15360
          ],
          [
           15720
          ],
          [
           15800
          ],
          [
           15840
          ],
          [
           15880
          ],
          [
           15920
          ],
          [
           15960
          ],
          [
           16000
          ],
          [
           16040
          ],
          [
           15760
          ],
          [
           19960
          ],
          [
           20000
          ]
         ],
         "hovertemplate": "Cluster=Cluster 1<br>PCA1=%{x}<br>PCA2=%{y}<br>Feature=%{customdata[0]}<extra></extra>",
         "legendgroup": "Cluster 1",
         "marker": {
          "color": "#EF553B",
          "opacity": 0.5,
          "symbol": "circle"
         },
         "mode": "markers",
         "name": "Cluster 1",
         "showlegend": true,
         "textposition": "top center",
         "type": "scattergl",
         "x": [
          1.0550191,
          1.1794517,
          2.1612866,
          0.676805,
          2.5103116,
          1.6170615,
          2.4803245,
          1.1973052,
          3.1011972,
          1.0419261,
          2.5410693,
          2.0428598,
          2.9406714,
          3.0783575,
          2.6482332,
          2.1959727,
          2.1185203,
          1.3947443,
          1.0378114,
          1.0808681,
          1.2762289,
          1.6548297,
          2.10683,
          3.1202168,
          3.2896132,
          2.7229393,
          2.6771235,
          2.7135694,
          0.6642812,
          1.5394586,
          0.7483103,
          1.7830663,
          1.1627649,
          1.677133,
          1.5127559,
          1.5550663,
          1.6929396,
          1.7385607,
          1.4620095,
          2.3362944,
          2.9369686,
          1.6050361,
          1.9355565,
          2.1079218,
          1.8499746,
          1.7651268,
          1.9049046,
          1.2670346,
          1.489231,
          1.7240208,
          2.643915,
          1.4984576,
          1.5414882,
          2.1952257,
          1.3065895,
          0.86852527,
          1.8432151,
          2.2109728,
          3.7831695,
          1.6409849,
          2.1987894,
          2.3256097,
          2.2847357,
          2.3521125,
          2.8244727,
          3.0618827,
          1.0099586,
          2.4077265,
          1.4187882,
          2.2273657,
          1.3943571,
          1.3340937,
          1.4112799,
          1.5240445,
          1.5880344,
          1.5169313,
          1.5178505,
          1.5003213,
          1.4743215,
          1.4230119,
          1.5098493,
          1.5813447,
          1.5876896,
          1.5414095,
          1.4710871,
          1.5273564,
          1.4973756,
          1.5130811,
          1.459825,
          1.5108194,
          1.5189883,
          1.55031,
          1.5354689,
          1.3810937,
          1.4998714,
          1.4299313,
          1.4532418,
          1.4829388,
          1.5118686,
          1.5382979,
          1.5672491,
          1.4402577,
          1.5216935,
          1.5190561,
          1.514467,
          1.776847,
          1.9119081,
          1.841738,
          1.9072502,
          1.8762122,
          1.6883001,
          1.7345356,
          1.5431088,
          1.6447604,
          1.7129897,
          1.7921034,
          1.9089773,
          1.7625103,
          3.1177673,
          1.5048624,
          1.9242812,
          1.6776023,
          1.3544419,
          1.4920653,
          2.1365607,
          1.4890975,
          1.5961956,
          1.4905573,
          1.5478464,
          1.4174168,
          1.5891217,
          1.427505,
          1.2989111,
          1.2721565,
          1.3572474,
          1.2912285,
          1.2168425,
          1.5836067,
          2.0779586,
          1.6622194,
          1.726934,
          1.686528,
          1.6553866,
          1.6731864,
          1.7009323,
          1.6489938,
          1.6983951,
          1.6718932,
          1.6722434,
          1.6693811,
          1.6904913,
          1.6978883,
          1.7078816,
          1.6737195,
          1.6873504,
          1.6978607,
          1.7111526,
          1.7104976,
          1.6773125,
          1.6901739,
          1.6477901,
          1.6978823,
          1.6330454,
          1.6869313,
          1.7032824,
          1.6935021,
          1.6710355,
          1.7060978,
          1.6891237,
          1.6518335,
          1.7115364,
          1.7007674,
          1.6945488,
          1.6697853,
          1.6929119,
          1.6596584,
          1.6499043,
          1.65495,
          1.7236233,
          1.6833569,
          1.6858335,
          1.6649613,
          1.7298853,
          1.683778,
          1.6908867,
          1.7146641,
          1.7110773,
          1.713993,
          1.6921746,
          1.7023842,
          1.7234802,
          1.6951348,
          1.706889,
          1.6748333,
          1.7186924,
          1.6795408,
          1.7129891,
          1.6942611,
          1.7235377,
          1.6911418,
          1.7168592,
          1.714443,
          1.7046874,
          1.6907384,
          1.6917104,
          1.6922987,
          1.6603205,
          1.7011025,
          1.7267735,
          1.6749599,
          1.7017329,
          1.7100182,
          1.6851943,
          1.6792519,
          1.6877775,
          1.6711276,
          1.9521995,
          1.6565288,
          1.6908239,
          1.5753338,
          1.6647447,
          1.6953082,
          1.6628976,
          1.7591312,
          1.7802672,
          1.7626933,
          1.7763572,
          1.7792543,
          1.630929,
          1.6022389,
          1.7069575,
          1.6613951,
          1.7057745,
          1.681513,
          1.5852718,
          1.6497998,
          1.5747805,
          1.4853601,
          1.578298,
          1.2759262,
          1.1993114,
          1.2809879,
          1.3453445,
          1.5168895,
          1.6608795,
          1.724443,
          1.8111938,
          1.8481333,
          1.9467572,
          2.06055,
          2.0481715,
          1.9125651,
          1.8254246,
          1.6036389,
          1.8522525,
          1.693122,
          1.6946466,
          1.6929773,
          1.6953108,
          1.6948999,
          1.6856999,
          1.6737264,
          1.648786,
          1.6690668,
          1.7009811,
          1.6842505,
          1.6583645,
          1.6670282,
          1.6704488,
          1.5976433,
          1.6831741,
          1.6599773,
          1.676544,
          1.6645212,
          1.6935667,
          1.7222468,
          1.680964,
          1.6605208,
          1.6381814,
          1.6031895,
          1.602033,
          1.5866544,
          1.6393447,
          1.6807901,
          1.6760939,
          1.6668983,
          1.6587162,
          1.6445051,
          1.704903,
          1.6514994,
          1.6339707,
          1.6306996,
          1.6481668,
          1.7018399,
          1.6877916,
          1.7126342
         ],
         "xaxis": "x",
         "y": [
          -0.9462857,
          -0.09578373,
          0.5476892,
          0.21944582,
          0.6717029,
          0.050608143,
          -0.07520013,
          -0.85006005,
          0.83603007,
          -0.37062687,
          0.47787842,
          0.31438076,
          1.0668659,
          0.8897633,
          0.8400641,
          0.5646726,
          -0.45646718,
          -0.78476864,
          -0.46761033,
          -0.27431178,
          -0.47724438,
          -0.3144865,
          0.060517736,
          1.1287042,
          1.0720905,
          0.27354407,
          0.33627075,
          0.77705973,
          -0.481879,
          0.117059946,
          -0.8202736,
          0.049597427,
          -0.97521806,
          -1.262928,
          -0.2507087,
          0.958398,
          0.81500983,
          0.93698066,
          0.37306038,
          -0.18936266,
          1.2411911,
          -0.36924627,
          -0.10723604,
          0.12817158,
          -0.4469307,
          -0.38408518,
          0.17124118,
          -0.25589225,
          -1.9039601,
          -1.9226993,
          -1.0867231,
          -0.8017955,
          0.07004223,
          0.17053896,
          -0.16366562,
          -1.3906374,
          -2.5034668,
          -2.5228877,
          -2.1227102,
          -0.795938,
          0.015326452,
          -0.33134913,
          0.124185346,
          -0.056989864,
          -0.25002804,
          -0.546902,
          0.11181544,
          0.21141964,
          0.16000938,
          0.10920664,
          -0.20937923,
          -0.33347088,
          -0.17003039,
          -0.17247869,
          -0.041107666,
          -0.07854296,
          0.06796208,
          0.09356758,
          0.03475642,
          -0.06071053,
          -0.02937144,
          -0.041250132,
          -0.06413571,
          -0.09937528,
          -0.108190306,
          -0.172661,
          -0.01725038,
          0.016616032,
          -0.117383994,
          -0.062675476,
          -0.03721252,
          -0.017519768,
          -0.07306043,
          0.14250442,
          -0.07736304,
          -0.01887369,
          -0.0055996096,
          -0.02130648,
          0.118140824,
          0.109801136,
          0.112208374,
          -0.11173975,
          0.24614972,
          0.1733146,
          0.1816803,
          0.4231556,
          0.23528028,
          0.1592849,
          -0.10337603,
          -0.3735668,
          -0.57613546,
          0.360714,
          -0.5479152,
          -0.48147187,
          -0.42451048,
          -0.3340876,
          -0.26091322,
          -0.38872442,
          0.2938032,
          -0.671522,
          -0.38948202,
          0.45929924,
          0.37723914,
          0.2097655,
          -0.13118711,
          0.05143174,
          0.009067835,
          -0.14331508,
          -0.15025295,
          0.2755369,
          -0.018102758,
          0.010026916,
          -0.23357075,
          -0.17763881,
          0.05731542,
          -0.056009613,
          -0.11101688,
          0.034361623,
          -0.3869792,
          -0.5709677,
          -0.83620286,
          -0.3164982,
          -0.34538597,
          -0.29405776,
          -0.34768784,
          -0.33852017,
          -0.2946128,
          -0.30723312,
          -0.31000453,
          -0.27247027,
          -0.2762187,
          -0.28250074,
          -0.3021099,
          -0.27484575,
          -0.2977675,
          -0.32847634,
          -0.252926,
          -0.26578158,
          -0.21650478,
          -0.3043777,
          -0.3211958,
          -0.31950936,
          -0.29595703,
          -0.33442017,
          -0.289945,
          -0.30734286,
          -0.34455732,
          -0.33389977,
          -0.31752673,
          -0.33918846,
          -0.2404589,
          -0.26166487,
          -0.27899238,
          -0.26892787,
          -0.26200023,
          -0.33564383,
          -0.33155137,
          -0.3031279,
          -0.33495006,
          -0.36826622,
          -0.29574487,
          -0.29164144,
          -0.27151686,
          -0.32825783,
          -0.30990776,
          -0.2716845,
          -0.32074794,
          -0.3458229,
          -0.35163045,
          -0.31567967,
          -0.33778057,
          -0.3001895,
          -0.33968467,
          -0.3325034,
          -0.30232537,
          -0.33137152,
          -0.27619544,
          -0.27939773,
          -0.2764561,
          -0.30953538,
          -0.3189609,
          -0.28991243,
          -0.26435757,
          -0.2731692,
          -0.2783228,
          -0.29951766,
          -0.36302346,
          -0.2707112,
          -0.31394616,
          -0.2584838,
          -0.325626,
          -0.31210846,
          -0.34827277,
          -0.35626128,
          -0.3185711,
          -0.31729507,
          -0.5244136,
          -0.30173442,
          -0.24569325,
          -0.1417194,
          -0.052008834,
          -0.12831749,
          -0.14230648,
          -0.19438142,
          -0.2834128,
          -0.3378661,
          -0.37239295,
          -0.458768,
          -0.5309947,
          -0.34931615,
          -0.37304398,
          -0.38953727,
          -0.30695167,
          -0.24427783,
          -0.084603004,
          0.05468539,
          0.029316492,
          -0.17412598,
          -0.87111247,
          -0.86641914,
          -0.7246953,
          -0.6406908,
          -0.6942408,
          -0.733649,
          -0.5869976,
          -0.19336392,
          -0.24102382,
          0.14968513,
          0.1388763,
          0.28349906,
          0.11426853,
          -0.054396633,
          0.050258867,
          -0.10970211,
          0.07892473,
          -0.22545326,
          -0.23629941,
          -0.19810432,
          -0.27586168,
          -0.22374421,
          -0.27419573,
          -0.30848745,
          -0.25858733,
          -0.33372065,
          -0.32550642,
          -0.20794053,
          -0.29628634,
          -0.27712068,
          -0.29295194,
          -0.27365154,
          -0.27041054,
          -0.24979885,
          -0.26065883,
          -0.3259639,
          -0.2801083,
          -0.26257426,
          -0.29950616,
          -0.18173102,
          -0.23736706,
          -0.24460778,
          -0.19337425,
          -0.24233434,
          -0.24791856,
          -0.23474361,
          -0.24591774,
          -0.25222233,
          -0.2558018,
          -0.31373203,
          -0.31623247,
          -0.29281217,
          -0.34150666,
          -0.34116912,
          -0.33288544,
          -0.21094318,
          -0.30335253,
          -0.31345132
         ],
         "yaxis": "y"
        },
        {
         "customdata": [
          [
           11640
          ],
          [
           8800
          ],
          [
           8840
          ],
          [
           8880
          ],
          [
           8920
          ],
          [
           8960
          ],
          [
           9000
          ],
          [
           9040
          ],
          [
           9080
          ],
          [
           9120
          ],
          [
           9160
          ],
          [
           9200
          ],
          [
           9240
          ],
          [
           8760
          ],
          [
           9280
          ],
          [
           9360
          ],
          [
           9400
          ],
          [
           9440
          ],
          [
           9480
          ],
          [
           9520
          ],
          [
           9560
          ],
          [
           9600
          ],
          [
           9640
          ],
          [
           9680
          ],
          [
           9720
          ],
          [
           9760
          ],
          [
           9800
          ],
          [
           9320
          ],
          [
           9840
          ],
          [
           8720
          ],
          [
           8640
          ],
          [
           7560
          ],
          [
           7600
          ],
          [
           7640
          ],
          [
           7680
          ],
          [
           7720
          ],
          [
           7760
          ],
          [
           7800
          ],
          [
           7840
          ],
          [
           7880
          ],
          [
           7920
          ],
          [
           7960
          ],
          [
           8000
          ],
          [
           8680
          ],
          [
           8040
          ],
          [
           8120
          ],
          [
           8160
          ],
          [
           8200
          ],
          [
           8240
          ],
          [
           8280
          ],
          [
           8320
          ],
          [
           8360
          ],
          [
           8400
          ],
          [
           8440
          ],
          [
           8480
          ],
          [
           8560
          ],
          [
           8600
          ],
          [
           8080
          ],
          [
           7520
          ],
          [
           12120
          ],
          [
           12040
          ],
          [
           10680
          ],
          [
           10640
          ],
          [
           10600
          ],
          [
           10560
          ],
          [
           9880
          ],
          [
           9920
          ],
          [
           9960
          ],
          [
           10000
          ],
          [
           10520
          ],
          [
           10480
          ],
          [
           10440
          ],
          [
           10400
          ],
          [
           10720
          ],
          [
           10360
          ],
          [
           10280
          ],
          [
           10040
          ],
          [
           10080
          ],
          [
           10120
          ],
          [
           10160
          ],
          [
           4320
          ],
          [
           10200
          ],
          [
           4400
          ],
          [
           10240
          ],
          [
           4520
          ],
          [
           4640
          ],
          [
           4760
          ],
          [
           10320
          ],
          [
           12080
          ],
          [
           10760
          ],
          [
           10840
          ],
          [
           12000
          ],
          [
           11960
          ],
          [
           11840
          ],
          [
           11800
          ],
          [
           11760
          ],
          [
           11720
          ],
          [
           11680
          ],
          [
           11600
          ],
          [
           11560
          ],
          [
           11520
          ],
          [
           11480
          ],
          [
           11440
          ],
          [
           10800
          ],
          [
           11400
          ],
          [
           11320
          ],
          [
           11280
          ],
          [
           11240
          ],
          [
           11200
          ],
          [
           11160
          ],
          [
           11120
          ],
          [
           11080
          ],
          [
           11040
          ],
          [
           11000
          ],
          [
           10960
          ],
          [
           10920
          ],
          [
           10880
          ],
          [
           11360
          ],
          [
           7480
          ],
          [
           8520
          ],
          [
           7400
          ],
          [
           5000
          ],
          [
           5040
          ],
          [
           5080
          ],
          [
           5120
          ],
          [
           5160
          ],
          [
           5200
          ],
          [
           5240
          ],
          [
           5280
          ],
          [
           5320
          ],
          [
           5360
          ],
          [
           5400
          ],
          [
           5440
          ],
          [
           5480
          ],
          [
           5520
          ],
          [
           5560
          ],
          [
           5600
          ],
          [
           5640
          ],
          [
           4960
          ],
          [
           4920
          ],
          [
           4880
          ],
          [
           4840
          ],
          [
           9040
          ],
          [
           8960
          ],
          [
           8880
          ],
          [
           8840
          ],
          [
           7440
          ],
          [
           4200
          ],
          [
           4240
          ],
          [
           8640
          ],
          [
           5680
          ],
          [
           4400
          ],
          [
           4480
          ],
          [
           4520
          ],
          [
           4560
          ],
          [
           4600
          ],
          [
           4640
          ],
          [
           4680
          ],
          [
           4720
          ],
          [
           4760
          ],
          [
           4440
          ],
          [
           5720
          ],
          [
           4080
          ],
          [
           5800
          ],
          [
           6600
          ],
          [
           6640
          ],
          [
           6680
          ],
          [
           6720
          ],
          [
           6760
          ],
          [
           6800
          ],
          [
           6840
          ],
          [
           6880
          ],
          [
           7280
          ],
          [
           6920
          ],
          [
           7000
          ],
          [
           7040
          ],
          [
           7080
          ],
          [
           7120
          ],
          [
           7160
          ],
          [
           7200
          ],
          [
           7360
          ],
          [
           7240
          ],
          [
           6960
          ],
          [
           6560
          ],
          [
           7320
          ],
          [
           6160
          ],
          [
           5960
          ],
          [
           6000
          ],
          [
           6040
          ],
          [
           6080
          ],
          [
           6120
          ],
          [
           6520
          ],
          [
           6200
          ],
          [
           6240
          ],
          [
           6280
          ],
          [
           6320
          ],
          [
           6360
          ],
          [
           5760
          ],
          [
           6400
          ],
          [
           5840
          ],
          [
           6440
          ],
          [
           6480
          ],
          [
           5880
          ],
          [
           5920
          ]
         ],
         "hovertemplate": "Cluster=Cluster 2<br>PCA1=%{x}<br>PCA2=%{y}<br>Feature=%{customdata[0]}<extra></extra>",
         "legendgroup": "Cluster 2",
         "marker": {
          "color": "#00cc96",
          "opacity": 0.5,
          "symbol": "circle"
         },
         "mode": "markers",
         "name": "Cluster 2",
         "showlegend": true,
         "textposition": "top center",
         "type": "scattergl",
         "x": [
          -0.6624644,
          -0.76027054,
          -0.751938,
          -0.7987805,
          -0.7713868,
          -0.80502707,
          -0.78409845,
          -0.7819042,
          -0.76131403,
          -0.76292574,
          -0.76524967,
          -0.7705834,
          -0.76231855,
          -0.76636904,
          -0.80413735,
          -0.7923285,
          -0.7573933,
          -0.7967341,
          -0.7619278,
          -0.77465516,
          -0.78436303,
          -0.77989197,
          -0.7648531,
          -0.7835556,
          -0.7793173,
          -0.78341043,
          -0.7717975,
          -0.7471792,
          -0.7947974,
          -0.783268,
          -0.78903586,
          -0.7684829,
          -0.76579916,
          -0.7644928,
          -0.74735254,
          -0.7709116,
          -0.7714268,
          -0.7758271,
          -0.7701333,
          -0.7700948,
          -0.7609643,
          -0.79613644,
          -0.77122974,
          -0.7892869,
          -0.7733353,
          -0.7768976,
          -0.78442883,
          -0.78090906,
          -0.75306076,
          -0.7719717,
          -0.771715,
          -0.79624325,
          -0.7759577,
          -0.77623904,
          -0.7668932,
          -0.7634115,
          -0.7911059,
          -0.7808967,
          -0.7745574,
          -0.8927753,
          0.072170705,
          -0.78739715,
          -0.80509084,
          -0.80136496,
          -0.7475395,
          -0.75336814,
          -0.77178127,
          -0.77600795,
          -0.81245863,
          -0.8106455,
          -0.7701751,
          -0.7871497,
          -0.8019494,
          -0.7780375,
          -0.7658077,
          -0.77218693,
          -0.76249844,
          -0.79475754,
          -0.7847633,
          -0.78755593,
          0.30365005,
          -0.7707358,
          -0.45911554,
          -0.7915927,
          0.78968817,
          -0.7927686,
          -0.5836017,
          -0.7838393,
          -0.83406216,
          -0.79238766,
          -0.7801101,
          -0.102290265,
          -0.93439615,
          -0.7031835,
          -0.74862134,
          -0.90765774,
          -0.8188586,
          -0.7318795,
          -0.8569249,
          -0.7887122,
          -0.812915,
          -0.80298895,
          -0.8391498,
          -0.77930653,
          -0.76961035,
          -0.6313468,
          -0.8593258,
          -0.7486464,
          -0.7870323,
          -0.70468134,
          -0.7820152,
          -0.7669023,
          -0.79615754,
          -0.79335946,
          -0.7745174,
          -0.7941496,
          -0.7631585,
          -0.813108,
          -0.7555477,
          -0.80490005,
          -0.7508136,
          -1.0133837,
          -0.76213753,
          -0.60960966,
          -0.7981618,
          -0.87876445,
          -0.7424636,
          -0.68587816,
          -0.8553703,
          -0.9022753,
          -0.69990873,
          -0.8576934,
          -0.56467193,
          -0.688492,
          -0.74121624,
          -0.92956394,
          -0.97570974,
          -0.9164162,
          -0.58465147,
          -0.9102541,
          -0.26384413,
          -0.8774789,
          -0.39365244,
          -0.91822654,
          -0.79686064,
          -0.9975233,
          -0.76967084,
          -1.0002849,
          -0.95726264,
          -0.6353576,
          -0.6916161,
          -1.2568327,
          -0.75978184,
          -0.9131364,
          -1.0074089,
          -0.6573695,
          -0.7742991,
          -0.9494214,
          -0.795732,
          -0.7391847,
          -0.88998073,
          -0.16886005,
          -0.7697015,
          -0.87211293,
          -0.73549837,
          -0.77623606,
          -0.7624078,
          -0.77857983,
          -0.78140426,
          -0.7337604,
          -0.731164,
          -0.7598213,
          -0.76832056,
          -0.7806536,
          -0.7846398,
          -0.76223916,
          -0.75606996,
          -0.7361595,
          -0.778451,
          -0.7516157,
          -0.7685389,
          -0.7673619,
          -0.74739444,
          -0.7827685,
          -0.7676625,
          -0.86516184,
          -0.7041716,
          -0.6546786,
          -0.56917864,
          -0.70785075,
          -0.8161724,
          -0.778922,
          -0.7891483,
          -0.61451304,
          -0.7510539,
          -0.73507637,
          -0.77196294,
          -0.9423244,
          -0.81595397,
          -0.7304532,
          -0.75215477,
          -0.80329674,
          -0.5893029,
          -0.61862993
         ],
         "xaxis": "x",
         "y": [
          -1.2534218,
          -1.169455,
          -1.1213157,
          -1.1169771,
          -1.068357,
          -1.0583494,
          -1.0354549,
          -1.0445981,
          -1.1647979,
          -1.1236224,
          -1.0884647,
          -1.1014819,
          -1.0884547,
          -1.1288764,
          -1.0767273,
          -1.1006901,
          -1.0868611,
          -1.0442797,
          -1.0849513,
          -1.0488584,
          -1.0728307,
          -1.1161331,
          -1.0577301,
          -1.1394104,
          -1.0481104,
          -1.0639675,
          -1.0505116,
          -1.0822263,
          -1.0751336,
          -1.0789914,
          -0.98065877,
          -1.0809731,
          -1.1664399,
          -1.1729099,
          -1.1347075,
          -1.1713963,
          -1.133254,
          -1.0715568,
          -1.1328999,
          -1.0900103,
          -1.1204838,
          -1.0827996,
          -1.1089882,
          -1.096381,
          -1.1462553,
          -1.089423,
          -1.1612495,
          -1.0236824,
          -1.1706146,
          -1.107675,
          -1.0436381,
          -1.1320583,
          -1.0732591,
          -1.1613873,
          -1.09858,
          -1.0509593,
          -1.1532221,
          -1.081166,
          -1.1690333,
          -0.32557356,
          -1.0142812,
          -1.0489079,
          -1.003583,
          -1.0617425,
          -0.9943012,
          -1.147445,
          -1.1565996,
          -1.0795765,
          -1.0882564,
          -1.1615627,
          -1.0148098,
          -1.1521305,
          -1.1705657,
          -1.0843545,
          -1.049857,
          -1.1110336,
          -1.0086924,
          -1.0891818,
          -1.0816436,
          -1.0459425,
          -0.25073072,
          -1.0676686,
          -1.0868727,
          -1.04921,
          -0.7118945,
          -1.5663183,
          -1.3475292,
          -1.0477105,
          -0.92862546,
          -1.0474416,
          -1.1137515,
          -0.5629341,
          -1.109436,
          -0.7268546,
          -1.0944076,
          -1.1062769,
          -0.6991064,
          -1.0587616,
          -1.3265648,
          -0.9345739,
          -0.98628855,
          -0.9488601,
          -0.9429381,
          -1.100343,
          -0.8434781,
          -0.9749715,
          -1.4981858,
          -0.93903124,
          -1.0046368,
          -0.973534,
          -1.0865151,
          -1.0682713,
          -1.0859946,
          -1.1007313,
          -1.0006486,
          -1.0785884,
          -1.0365674,
          -1.1762338,
          -1.1288319,
          -1.067613,
          -1.1405029,
          -1.2563045,
          -0.99404126,
          -0.7861932,
          -1.256388,
          -1.0981731,
          -0.9524752,
          -1.2488841,
          -0.6742291,
          -0.9214784,
          -0.8091203,
          -0.96748084,
          -1.3785915,
          -1.112907,
          -0.6926271,
          -1.0925295,
          -1.752228,
          -2.0906248,
          -0.5976719,
          -1.476307,
          -0.33226478,
          -1.6796572,
          -0.10462612,
          -0.640343,
          -0.898132,
          -1.4535959,
          -1.1742837,
          0.18133305,
          -0.20843129,
          -0.7866469,
          -1.5851525,
          -0.4361227,
          -0.05574863,
          -0.38805908,
          -1.6787734,
          -0.81807977,
          -0.40364867,
          -0.5751909,
          -0.8427069,
          -1.0580498,
          -1.1505978,
          -0.24280205,
          -0.24938399,
          -0.80114514,
          -1.1262894,
          -1.2194332,
          -1.0289884,
          -1.1754742,
          -1.0885321,
          -1.2766881,
          -1.2106562,
          -1.2203985,
          -1.1210427,
          -1.1008613,
          -1.0851679,
          -1.1867522,
          -1.15663,
          -1.1672219,
          -1.2427847,
          -1.0990644,
          -1.1746165,
          -1.1362251,
          -1.1729671,
          -1.0831672,
          -1.1072582,
          -0.91441715,
          -0.847122,
          -1.3614243,
          -1.6103204,
          -1.2259029,
          -0.9804869,
          -0.9124073,
          -0.89829886,
          -0.94096965,
          -1.4044855,
          -1.4340086,
          -1.1875198,
          -1.9638549,
          -0.96977913,
          -0.6539229,
          -1.081777,
          -1.1876801,
          -1.6112478,
          -1.2217466
         ],
         "yaxis": "y"
        },
        {
         "customdata": [
          [
           7760
          ],
          [
           7560
          ],
          [
           7680
          ],
          [
           7640
          ],
          [
           7520
          ],
          [
           7720
          ],
          [
           7600
          ],
          [
           8000
          ],
          [
           7840
          ],
          [
           7880
          ],
          [
           7920
          ],
          [
           7960
          ],
          [
           7480
          ],
          [
           8040
          ],
          [
           8080
          ],
          [
           8120
          ],
          [
           8160
          ],
          [
           7800
          ],
          [
           10640
          ],
          [
           6840
          ],
          [
           7360
          ],
          [
           6600
          ],
          [
           6640
          ],
          [
           6680
          ],
          [
           6720
          ],
          [
           6760
          ],
          [
           6800
          ],
          [
           8200
          ],
          [
           6880
          ],
          [
           6920
          ],
          [
           6960
          ],
          [
           7000
          ],
          [
           7040
          ],
          [
           7080
          ],
          [
           7120
          ],
          [
           7160
          ],
          [
           7200
          ],
          [
           7240
          ],
          [
           7280
          ],
          [
           7320
          ],
          [
           7400
          ],
          [
           10160
          ],
          [
           9560
          ],
          [
           8280
          ],
          [
           9320
          ],
          [
           9280
          ],
          [
           9240
          ],
          [
           10360
          ],
          [
           10480
          ],
          [
           10520
          ],
          [
           9080
          ],
          [
           9000
          ],
          [
           9360
          ],
          [
           8920
          ],
          [
           8760
          ],
          [
           10600
          ],
          [
           8680
          ],
          [
           8480
          ],
          [
           8520
          ],
          [
           8560
          ],
          [
           6560
          ],
          [
           8600
          ],
          [
           8800
          ],
          [
           9400
          ],
          [
           9440
          ],
          [
           9480
          ],
          [
           10120
          ],
          [
           8320
          ],
          [
           8360
          ],
          [
           10080
          ],
          [
           10040
          ],
          [
           8400
          ],
          [
           10280
          ],
          [
           9960
          ],
          [
           9920
          ],
          [
           8440
          ],
          [
           9880
          ],
          [
           9840
          ],
          [
           9800
          ],
          [
           9760
          ],
          [
           9720
          ],
          [
           9680
          ],
          [
           9640
          ],
          [
           9600
          ],
          [
           9520
          ],
          [
           8240
          ],
          [
           6520
          ],
          [
           7440
          ],
          [
           6440
          ],
          [
           5240
          ],
          [
           5200
          ],
          [
           10760
          ],
          [
           10800
          ],
          [
           5080
          ],
          [
           5040
          ],
          [
           10840
          ],
          [
           11080
          ],
          [
           11120
          ],
          [
           11160
          ],
          [
           4840
          ],
          [
           4800
          ],
          [
           4720
          ],
          [
           11200
          ],
          [
           11280
          ],
          [
           4560
          ],
          [
           6480
          ],
          [
           4280
          ],
          [
           10200
          ],
          [
           11880
          ],
          [
           11920
          ],
          [
           12200
          ],
          [
           4360
          ],
          [
           4160
          ],
          [
           4120
          ],
          [
           5280
          ],
          [
           5320
          ],
          [
           4440
          ],
          [
           5400
          ],
          [
           5360
          ],
          [
           6400
          ],
          [
           6360
          ],
          [
           6320
          ],
          [
           6280
          ],
          [
           6240
          ],
          [
           6200
          ],
          [
           6160
          ],
          [
           6120
          ],
          [
           6080
          ],
          [
           6040
          ],
          [
           6000
          ],
          [
           5960
          ],
          [
           10240
          ],
          [
           5880
          ],
          [
           5440
          ],
          [
           5920
          ],
          [
           5480
          ],
          [
           5560
          ],
          [
           5600
          ],
          [
           5520
          ],
          [
           5680
          ],
          [
           5720
          ],
          [
           5760
          ],
          [
           5800
          ],
          [
           5840
          ],
          [
           5640
          ]
         ],
         "hovertemplate": "Cluster=Cluster 3<br>PCA1=%{x}<br>PCA2=%{y}<br>Feature=%{customdata[0]}<extra></extra>",
         "legendgroup": "Cluster 3",
         "marker": {
          "color": "#ab63fa",
          "opacity": 0.5,
          "symbol": "circle"
         },
         "mode": "markers",
         "name": "Cluster 3",
         "showlegend": true,
         "textposition": "top center",
         "type": "scattergl",
         "x": [
          -0.81923735,
          -0.8188045,
          -0.83773327,
          -0.7548929,
          -0.80107415,
          -0.7825699,
          -0.7851588,
          -0.79236454,
          -0.8180125,
          -0.7818954,
          -0.78157556,
          -0.804369,
          -0.80339813,
          -0.7857528,
          -0.7851762,
          -0.81317604,
          -0.82332546,
          -0.82662547,
          -1.3867924,
          -0.79843175,
          -0.78997356,
          -0.8064341,
          -0.8064851,
          -0.80042315,
          -0.7868052,
          -0.785529,
          -0.80198944,
          -0.8531722,
          -0.798261,
          -0.8002821,
          -0.7959196,
          -0.7963317,
          -0.7998013,
          -0.7865935,
          -0.80050814,
          -0.7924095,
          -0.80578446,
          -0.78674304,
          -0.7867702,
          -0.7897537,
          -0.7962685,
          -0.8768551,
          -0.6620151,
          -0.76449955,
          -0.63798785,
          -0.8440951,
          -0.58883816,
          -0.6990981,
          -1.2513849,
          -0.968114,
          -0.85584754,
          -0.81846595,
          -0.8522871,
          -0.693585,
          -0.29228184,
          -0.9330081,
          -0.43766403,
          -0.76875436,
          -0.62154883,
          -0.6486017,
          -0.78943324,
          -0.46348166,
          -0.42201817,
          -0.7399896,
          -0.7804664,
          -0.7866963,
          -0.67892045,
          -0.74033076,
          -0.76292896,
          -0.66833764,
          -0.9028232,
          -0.787784,
          -1.1990095,
          -1.1950734,
          -0.84419185,
          -0.42055282,
          -0.9820254,
          -0.8172622,
          -0.8683687,
          -1.2574037,
          -0.88661015,
          -0.9683056,
          -0.8442697,
          -0.84978974,
          -0.864001,
          -0.75891805,
          -0.78803897,
          -0.8009984,
          -0.80651546,
          -0.86558706,
          -0.64527565,
          -1.2167728,
          -0.8970376,
          -0.43468985,
          -1.317082,
          -0.6505474,
          -0.46914175,
          -0.38186488,
          -0.35085097,
          -0.8424459,
          -1.124996,
          -0.6624449,
          -0.40709972,
          0.18439005,
          -0.30835864,
          -0.7881187,
          -0.23006466,
          -1.3141406,
          -1.0482948,
          -1.1158078,
          -1.2707672,
          -0.7930664,
          -0.6846856,
          -0.6339253,
          -0.7302085,
          -0.47435096,
          -0.74131525,
          -0.6187292,
          -0.6074421,
          -0.7862312,
          -0.77700925,
          -0.78231597,
          -0.8103846,
          -0.74079186,
          -0.83452487,
          -0.8169068,
          -0.8134714,
          -0.84009117,
          -0.7922515,
          -0.71971834,
          -0.6976116,
          -1.2798187,
          -0.48573217,
          -0.6723684,
          -0.61660993,
          -0.77961564,
          -0.8103695,
          -0.7236903,
          -0.79475224,
          -0.669496,
          -0.6000757,
          -0.6598375,
          -0.42411622,
          -0.4508142,
          -0.74298185
         ],
         "xaxis": "x",
         "y": [
          0.76416045,
          0.93787986,
          1.0624222,
          1.2686557,
          0.97197586,
          0.9260083,
          0.9885826,
          1.0025986,
          0.98431623,
          1.082164,
          1.0399255,
          0.95248747,
          0.9901535,
          0.92679995,
          0.88174784,
          0.9864908,
          0.9531183,
          0.88502264,
          0.08302195,
          0.97696495,
          0.9630103,
          0.9041535,
          0.9500788,
          0.9888103,
          1.0095477,
          1.0072966,
          0.9679233,
          1.073418,
          0.9630641,
          0.97487915,
          0.98752046,
          0.9813524,
          0.97576076,
          1.0050882,
          0.9487867,
          0.95959586,
          0.9565926,
          1.0250499,
          0.972665,
          0.93975914,
          0.98779684,
          -0.23704614,
          0.64093536,
          0.8727212,
          0.54497194,
          -0.58045435,
          -0.22093447,
          0.75943995,
          0.21317334,
          0.11620864,
          0.58223057,
          -0.56831634,
          0.420111,
          0.5992565,
          -0.081611425,
          1.9896842,
          0.6908132,
          0.74872184,
          0.54560864,
          -0.09802174,
          0.945493,
          1.4239157,
          0.17974432,
          1.2878515,
          0.3001522,
          0.2551812,
          -0.2186586,
          0.66721034,
          0.5198398,
          -0.1898283,
          0.55944544,
          0.63610905,
          0.45935225,
          0.77162445,
          1.5442002,
          1.8474789,
          0.80936486,
          0.66213727,
          0.8542378,
          -0.05351121,
          0.7162213,
          0.19388203,
          0.5822388,
          -0.23597206,
          0.5635269,
          1.224268,
          0.9343025,
          0.99655086,
          0.97522974,
          0.16040303,
          1.0658793,
          1.444634,
          0.84905636,
          1.2093807,
          -0.5546551,
          1.3059279,
          0.6103684,
          0.019072792,
          0.32891327,
          1.059104,
          -0.2854744,
          0.86545604,
          -0.20278724,
          1.8760368,
          0.44939297,
          0.98657924,
          -0.08901384,
          0.46241328,
          0.09073668,
          -0.029595708,
          0.059726283,
          1.0060496,
          1.241892,
          0.89556885,
          0.17556328,
          0.7602542,
          0.14257193,
          0.56366605,
          0.44983795,
          1.0135431,
          0.9581404,
          0.90547013,
          0.81803983,
          1.2431983,
          1.0665412,
          1.1894802,
          1.1569124,
          0.8582402,
          0.74611074,
          0.77029055,
          0.60711604,
          0.96254057,
          0.5076989,
          1.0620861,
          0.61887974,
          1.0615399,
          0.72662634,
          0.66088605,
          1.0523907,
          0.48615307,
          0.41547063,
          -0.26499212,
          0.42686093,
          0.41605997,
          0.36009017
         ],
         "yaxis": "y"
        },
        {
         "customdata": [
          [
           2720
          ],
          [
           2920
          ],
          [
           2880
          ],
          [
           2840
          ],
          [
           2800
          ],
          [
           2760
          ],
          [
           2680
          ],
          [
           2120
          ],
          [
           2480
          ],
          [
           2440
          ],
          [
           2400
          ],
          [
           2960
          ],
          [
           2080
          ],
          [
           2040
          ],
          [
           2000
          ],
          [
           2640
          ],
          [
           3000
          ],
          [
           3320
          ],
          [
           3120
          ],
          [
           4040
          ],
          [
           4000
          ],
          [
           3960
          ],
          [
           3920
          ],
          [
           3880
          ],
          [
           3600
          ],
          [
           3560
          ],
          [
           3520
          ],
          [
           3480
          ],
          [
           3440
          ],
          [
           3400
          ],
          [
           3360
          ],
          [
           3280
          ],
          [
           3240
          ],
          [
           3160
          ],
          [
           3040
          ],
          [
           3840
          ],
          [
           14920
          ],
          [
           19439
          ],
          [
           18280
          ],
          [
           18240
          ],
          [
           18200
          ],
          [
           18160
          ],
          [
           18120
          ],
          [
           18080
          ],
          [
           18040
          ],
          [
           18000
          ],
          [
           17960
          ],
          [
           17920
          ],
          [
           17880
          ],
          [
           17840
          ],
          [
           17800
          ],
          [
           17760
          ],
          [
           17720
          ],
          [
           17680
          ],
          [
           17640
          ],
          [
           17600
          ],
          [
           17560
          ],
          [
           17520
          ],
          [
           17480
          ],
          [
           17440
          ],
          [
           17400
          ],
          [
           17360
          ],
          [
           17320
          ],
          [
           18320
          ],
          [
           18360
          ],
          [
           18400
          ],
          [
           18440
          ],
          [
           19520
          ],
          [
           19480
          ],
          [
           19400
          ],
          [
           19360
          ],
          [
           19320
          ],
          [
           19280
          ],
          [
           19240
          ],
          [
           19200
          ],
          [
           19160
          ],
          [
           19120
          ],
          [
           19080
          ],
          [
           19040
          ],
          [
           17280
          ],
          [
           19000
          ],
          [
           18920
          ],
          [
           18880
          ],
          [
           18840
          ],
          [
           18800
          ],
          [
           18760
          ],
          [
           18720
          ],
          [
           18680
          ],
          [
           18640
          ],
          [
           18600
          ],
          [
           18560
          ],
          [
           18520
          ],
          [
           18480
          ],
          [
           18960
          ],
          [
           19560
          ],
          [
           17240
          ],
          [
           17160
          ],
          [
           15920
          ],
          [
           15880
          ],
          [
           15840
          ],
          [
           15800
          ],
          [
           15760
          ],
          [
           15720
          ],
          [
           15680
          ],
          [
           15640
          ],
          [
           15600
          ],
          [
           15560
          ],
          [
           15520
          ],
          [
           15480
          ],
          [
           15440
          ],
          [
           15400
          ],
          [
           15360
          ],
          [
           15320
          ],
          [
           15280
          ],
          [
           15240
          ],
          [
           15200
          ],
          [
           15160
          ],
          [
           15120
          ],
          [
           15080
          ],
          [
           15040
          ],
          [
           15000
          ],
          [
           14960
          ],
          [
           15960
          ],
          [
           16000
          ],
          [
           16040
          ],
          [
           16080
          ],
          [
           17120
          ],
          [
           17080
          ],
          [
           17040
          ],
          [
           17000
          ],
          [
           16960
          ],
          [
           16920
          ],
          [
           16880
          ],
          [
           16840
          ],
          [
           16800
          ],
          [
           16760
          ],
          [
           16720
          ],
          [
           16680
          ],
          [
           17200
          ],
          [
           16640
          ],
          [
           16560
          ],
          [
           16520
          ],
          [
           16480
          ],
          [
           16440
          ],
          [
           16400
          ],
          [
           16360
          ],
          [
           16320
          ],
          [
           16280
          ],
          [
           16240
          ],
          [
           16200
          ],
          [
           16160
          ],
          [
           16120
          ],
          [
           16600
          ],
          [
           19600
          ],
          [
           20000
          ],
          [
           19680
          ],
          [
           13800
          ],
          [
           13760
          ],
          [
           13720
          ],
          [
           13680
          ],
          [
           13560
          ],
          [
           13520
          ],
          [
           13480
          ],
          [
           13320
          ],
          [
           13280
          ],
          [
           13240
          ],
          [
           13200
          ],
          [
           13840
          ],
          [
           13160
          ],
          [
           13040
          ],
          [
           13000
          ],
          [
           12960
          ],
          [
           12880
          ],
          [
           12760
          ],
          [
           12720
          ],
          [
           12640
          ],
          [
           12600
          ],
          [
           14880
          ],
          [
           19640
          ],
          [
           12240
          ],
          [
           13120
          ],
          [
           13999
          ],
          [
           13440
          ],
          [
           14080
          ],
          [
           19800
          ],
          [
           19840
          ],
          [
           14040
          ],
          [
           19880
          ],
          [
           19920
          ],
          [
           19960
          ],
          [
           19720
          ],
          [
           14840
          ],
          [
           14720
          ],
          [
           14680
          ],
          [
           14640
          ],
          [
           14600
          ],
          [
           14760
          ],
          [
           14520
          ],
          [
           14120
          ],
          [
           14560
          ],
          [
           14200
          ],
          [
           14280
          ],
          [
           14320
          ],
          [
           14160
          ],
          [
           14400
          ],
          [
           14440
          ],
          [
           14480
          ],
          [
           14360
          ],
          [
           19760
          ]
         ],
         "hovertemplate": "Cluster=Cluster 4<br>PCA1=%{x}<br>PCA2=%{y}<br>Feature=%{customdata[0]}<extra></extra>",
         "legendgroup": "Cluster 4",
         "marker": {
          "color": "#FFA15A",
          "opacity": 0.5,
          "symbol": "circle"
         },
         "mode": "markers",
         "name": "Cluster 4",
         "showlegend": true,
         "textposition": "top center",
         "type": "scattergl",
         "x": [
          -0.775002,
          -0.79182047,
          -0.86058307,
          -0.83877814,
          -0.86487246,
          -0.8544875,
          -0.7482904,
          -0.9459357,
          -0.8386555,
          -1.0951316,
          -0.8386485,
          -0.79325855,
          -0.8584348,
          -0.87756944,
          -0.9530106,
          -0.763506,
          -0.7817816,
          -0.9825779,
          -0.55901915,
          -1.0435396,
          -0.43592355,
          -1.1072781,
          -0.8016443,
          -0.69379234,
          -0.9183877,
          -1.0604053,
          -0.8575162,
          -0.93879545,
          -0.7898017,
          -1.0038474,
          -0.97487533,
          -1.1879011,
          -0.36234868,
          -0.8051621,
          -0.49237597,
          -1.1269327,
          -0.9259764,
          -0.92704684,
          -0.9152141,
          -0.9493889,
          -0.914223,
          -0.9429603,
          -0.9277084,
          -0.95987195,
          -0.92981774,
          -0.9318622,
          -0.9071368,
          -0.91644794,
          -0.9358414,
          -0.9207603,
          -0.94653916,
          -0.8984906,
          -0.91535336,
          -0.8999969,
          -0.95774066,
          -0.9290744,
          -0.9211105,
          -0.9270869,
          -0.9358889,
          -0.94451404,
          -0.9351142,
          -0.9470774,
          -0.92314816,
          -0.95079756,
          -0.93401223,
          -0.91860235,
          -0.90570366,
          -0.9269887,
          -0.9265975,
          -0.9303575,
          -0.93591654,
          -0.9194906,
          -0.9420539,
          -0.9343558,
          -0.95873344,
          -0.9164523,
          -0.9310403,
          -0.93624294,
          -0.95844096,
          -0.93232393,
          -0.9381175,
          -0.9191028,
          -0.9305392,
          -0.93150383,
          -0.95126694,
          -0.93988615,
          -0.9188801,
          -0.9125258,
          -0.94946146,
          -0.915915,
          -0.9260217,
          -0.93284273,
          -0.9252846,
          -0.919479,
          -0.95510817,
          -0.95486873,
          -0.929863,
          -0.93189716,
          -0.9407091,
          -0.9268114,
          -0.9168863,
          -0.94337237,
          -0.9184822,
          -0.8889882,
          -0.95420605,
          -0.8923898,
          -0.86499923,
          -0.9360212,
          -0.92176193,
          -0.9115352,
          -0.9452972,
          -0.952208,
          -0.9199653,
          -0.982166,
          -0.95650923,
          -0.9667508,
          -0.9636596,
          -0.94716495,
          -0.9639739,
          -0.9641563,
          -0.961372,
          -0.9364899,
          -0.9202511,
          -0.93227035,
          -0.94210774,
          -0.9391332,
          -0.94546735,
          -0.9480568,
          -0.9295178,
          -0.92143524,
          -0.91194016,
          -0.9708054,
          -0.9358726,
          -0.9158394,
          -0.9432649,
          -0.95636714,
          -0.9568173,
          -0.91991293,
          -0.92544925,
          -0.93421775,
          -0.91465217,
          -0.9808881,
          -0.9288421,
          -0.9319379,
          -0.9616391,
          -0.91024995,
          -0.8948143,
          -0.9524038,
          -0.93676484,
          -0.92697155,
          -0.92443585,
          -0.9143722,
          -0.91907084,
          -0.92952746,
          -0.9404263,
          -0.9209098,
          -0.9491385,
          -0.9104777,
          -0.7555427,
          -0.74588364,
          -0.8133313,
          -0.8581257,
          -1.0743142,
          -1.1004881,
          -1.0786613,
          -1.1049979,
          -0.8586514,
          -0.9456305,
          -0.61821914,
          -0.73957276,
          -1.139233,
          -1.3268856,
          -1.42536,
          -0.91689396,
          -0.63220644,
          -1.4920492,
          -1.0984416,
          -0.962877,
          -0.93126756,
          -0.78288525,
          -0.58161736,
          -0.9094684,
          -1.0983312,
          -0.92770964,
          -0.9465822,
          -0.91818774,
          -0.91296357,
          -0.908654,
          -0.93344355,
          -0.9305636,
          -0.9331906,
          -0.9649869,
          -0.90829176,
          -0.98576087,
          -0.96226794,
          -0.9641695,
          -0.91077656,
          -0.970377,
          -0.97648144,
          -0.95429224,
          -0.9513671,
          -0.7836527,
          -0.87248784,
          -0.9790488,
          -0.8781605,
          -1.0096554,
          -1.015708,
          -0.94279855,
          -0.92595136
         ],
         "xaxis": "x",
         "y": [
          0.5041937,
          0.40937558,
          0.34973365,
          0.35890973,
          0.2144071,
          0.3579466,
          0.34685966,
          0.56952995,
          0.29742903,
          -0.38185203,
          -0.010005679,
          0.49924788,
          0.37221998,
          0.35643804,
          0.5366923,
          0.62491137,
          -0.92948174,
          -0.42352262,
          0.465378,
          0.21152166,
          0.6179156,
          0.115182675,
          0.1790574,
          0.72691596,
          0.049496047,
          -0.034496993,
          0.26960707,
          -0.36974612,
          0.23187655,
          -0.49348342,
          -0.11716199,
          -0.67576474,
          0.5443319,
          -0.1917225,
          0.16048881,
          -0.53548056,
          0.28908473,
          0.358015,
          0.28567803,
          0.30049622,
          0.32054287,
          0.3300846,
          0.30884832,
          0.3828869,
          0.28769952,
          0.28732958,
          0.31857404,
          0.440724,
          0.43987677,
          0.34040388,
          0.13229905,
          0.3179189,
          0.34102935,
          0.40463993,
          0.27898395,
          0.29984036,
          0.3689792,
          0.3666618,
          0.35057366,
          0.30620536,
          0.3358272,
          0.34941378,
          0.31021777,
          0.27209798,
          0.22554082,
          0.34315744,
          0.3728083,
          0.33374202,
          0.36673233,
          0.2942549,
          0.26802805,
          0.40426785,
          0.33603963,
          0.33251292,
          0.24724354,
          0.36111528,
          0.36882046,
          0.35175535,
          0.297038,
          0.2546926,
          0.3110723,
          0.36120152,
          0.3654582,
          0.39845696,
          0.319748,
          0.30541986,
          0.33641213,
          0.28473493,
          0.26761615,
          0.4367113,
          0.37833926,
          0.22444092,
          0.23932299,
          0.31821105,
          0.31513116,
          0.2562242,
          0.40541372,
          0.28836378,
          0.3713687,
          0.44119608,
          0.4446883,
          0.32872638,
          0.311542,
          0.30642357,
          0.2635793,
          0.51184636,
          0.5233611,
          0.12130075,
          0.26593885,
          0.4947029,
          0.3281586,
          0.20173338,
          0.44655618,
          0.14951666,
          0.296968,
          0.32235825,
          0.43831602,
          0.47345084,
          0.40921962,
          0.2775422,
          0.20753202,
          0.31334972,
          0.36206457,
          0.36759016,
          0.29449114,
          0.33045346,
          0.26772192,
          0.13214359,
          0.3167208,
          0.3621862,
          0.39746568,
          0.21847503,
          0.31089434,
          0.37132603,
          0.3527802,
          0.32991868,
          0.29464546,
          0.36446318,
          0.43731695,
          0.375687,
          0.27114108,
          0.34054193,
          0.45382875,
          0.3713106,
          0.2065787,
          0.32794878,
          0.4526932,
          0.3903184,
          0.2851431,
          0.34987438,
          0.43203798,
          0.3957622,
          0.31363982,
          0.36897117,
          0.39645746,
          0.24193846,
          0.39188683,
          0.2963303,
          0.6264228,
          0.5342452,
          0.62348986,
          0.5982563,
          0.2754249,
          -0.240535,
          -0.044480402,
          -0.70079005,
          -0.8442149,
          0.6012318,
          0.3111102,
          0.575839,
          -0.059343547,
          -0.71544147,
          -0.28004086,
          0.18536459,
          0.1665584,
          -0.027444357,
          0.06738931,
          0.22106898,
          0.42827067,
          0.030385163,
          0.25892454,
          0.57139164,
          0.13055138,
          0.42995298,
          0.3144604,
          0.4477714,
          0.4074461,
          0.43162653,
          0.18196693,
          0.20559545,
          0.26034012,
          0.39537188,
          0.5440331,
          0.41623765,
          0.3886784,
          0.20746925,
          0.709125,
          0.20645805,
          0.39416775,
          0.057076495,
          0.5049623,
          0.7437904,
          0.5989124,
          0.3693309,
          0.09998349,
          0.17363699,
          0.12880015,
          0.1430811,
          0.33261454
         ],
         "yaxis": "y"
        },
        {
         "customdata": [
          [
           10960
          ],
          [
           3680
          ],
          [
           4360
          ],
          [
           4480
          ],
          [
           11320
          ],
          [
           11240
          ],
          [
           4680
          ],
          [
           11040
          ],
          [
           11000
          ],
          [
           10440
          ],
          [
           10880
          ],
          [
           5000
          ],
          [
           5120
          ],
          [
           10720
          ],
          [
           10680
          ],
          [
           9200
          ],
          [
           9120
          ],
          [
           10400
          ],
          [
           3720
          ],
          [
           10920
          ],
          [
           12160
          ],
          [
           10320
          ],
          [
           12360
          ],
          [
           12320
          ],
          [
           12400
          ],
          [
           12440
          ],
          [
           12360
          ],
          [
           12400
          ],
          [
           12280
          ],
          [
           12520
          ],
          [
           10000
          ]
         ],
         "hovertemplate": "Cluster=Cluster 5<br>PCA1=%{x}<br>PCA2=%{y}<br>Feature=%{customdata[0]}<extra></extra>",
         "legendgroup": "Cluster 5",
         "marker": {
          "color": "#19d3f3",
          "opacity": 0.5,
          "symbol": "circle"
         },
         "mode": "markers",
         "name": "Cluster 5",
         "showlegend": true,
         "textposition": "top center",
         "type": "scattergl",
         "x": [
          -0.4087857,
          -0.42347693,
          0.8679937,
          0.6381065,
          -0.13739562,
          0.44531387,
          0.45246372,
          -0.225873,
          -0.41235813,
          -0.52420664,
          -0.26615348,
          -0.016152062,
          -0.60468316,
          -0.88879764,
          0.44612634,
          -0.39854965,
          -0.42984077,
          0.1018301,
          0.40686417,
          -0.14665611,
          -0.6721097,
          -0.2556905,
          3.240821,
          2.2444022,
          2.7595665,
          1.5236218,
          -0.35862112,
          -0.16478255,
          -0.33717406,
          0.16490434,
          -0.66802144
         ],
         "xaxis": "x",
         "y": [
          2.690585,
          2.297906,
          2.8245792,
          3.3745205,
          2.4260385,
          1.7007297,
          4.2709923,
          2.5090225,
          2.50973,
          2.4514842,
          2.7286386,
          3.1476872,
          2.1192415,
          3.1127992,
          4.304671,
          1.9446582,
          2.5912707,
          3.7834396,
          3.519065,
          3.967125,
          3.701329,
          3.711587,
          6.304635,
          4.6835527,
          3.2404318,
          1.9474983,
          2.3141646,
          2.4528303,
          2.0799818,
          2.8991306,
          2.4560647
         ],
         "yaxis": "y"
        },
        {
         "customdata": [
          [
           12280
          ],
          [
           12240
          ],
          [
           12200
          ]
         ],
         "hovertemplate": "Cluster=Cluster 6<br>PCA1=%{x}<br>PCA2=%{y}<br>Feature=%{customdata[0]}<extra></extra>",
         "legendgroup": "Cluster 6",
         "marker": {
          "color": "#FF6692",
          "opacity": 0.5,
          "symbol": "circle"
         },
         "mode": "markers",
         "name": "Cluster 6",
         "showlegend": true,
         "textposition": "top center",
         "type": "scattergl",
         "x": [
          8.532359,
          9.797433,
          9.192611
         ],
         "xaxis": "x",
         "y": [
          3.4707284,
          3.0619864,
          -1.1134347
         ],
         "yaxis": "y"
        },
        {
         "customdata": [
          [
           8720
          ],
          [
           4960
          ],
          [
           12920
          ],
          [
           4800
          ],
          [
           12680
          ],
          [
           12520
          ],
          [
           12560
          ],
          [
           12600
          ],
          [
           4920
          ],
          [
           5160
          ],
          [
           12320
          ],
          [
           9160
          ],
          [
           10560
          ],
          [
           3200
          ],
          [
           4320
          ],
          [
           12000
          ],
          [
           4280
          ],
          [
           11960
          ],
          [
           11920
          ],
          [
           11880
          ],
          [
           11840
          ],
          [
           12040
          ],
          [
           3680
          ],
          [
           3720
          ],
          [
           3760
          ],
          [
           3800
          ],
          [
           4120
          ],
          [
           4160
          ],
          [
           3800
          ],
          [
           12080
          ],
          [
           12120
          ],
          [
           4200
          ],
          [
           4240
          ],
          [
           11360
          ],
          [
           4600
          ],
          [
           4880
          ],
          [
           12480
          ]
         ],
         "hovertemplate": "Cluster=Cluster 7<br>PCA1=%{x}<br>PCA2=%{y}<br>Feature=%{customdata[0]}<extra></extra>",
         "legendgroup": "Cluster 7",
         "marker": {
          "color": "#B6E880",
          "opacity": 0.5,
          "symbol": "circle"
         },
         "mode": "markers",
         "name": "Cluster 7",
         "showlegend": true,
         "textposition": "top center",
         "type": "scattergl",
         "x": [
          -0.8125261,
          -1.3576646,
          -1.4350861,
          -1.2430676,
          -1.2966406,
          0.16273138,
          0.5974001,
          0.76999795,
          -1.148273,
          -1.4296573,
          -1.4421118,
          -1.1042691,
          -1.5387579,
          -1.0726805,
          -1.1804875,
          -0.84939617,
          -1.9254179,
          -0.44102442,
          -0.64869875,
          0.074370824,
          0.94572186,
          -0.80899876,
          0.2789296,
          0.039241955,
          -0.17435497,
          0.7101056,
          -0.1867127,
          -0.7480545,
          -1.0930363,
          -0.01841553,
          1.3416512,
          -0.8179232,
          -0.7302827,
          -0.34628654,
          -1.1281993,
          -1.0786645,
          0.4682664
         ],
         "xaxis": "x",
         "y": [
          -1.6835154,
          -0.947197,
          -1.2125784,
          -2.0170832,
          -1.6180171,
          -1.4795929,
          -1.7154065,
          -1.3833811,
          -2.9007916,
          -0.6001793,
          -1.6050198,
          -1.0875542,
          -1.3597027,
          -1.2039853,
          -1.8783243,
          -3.02371,
          -1.7632128,
          -1.1808524,
          -1.8595434,
          -1.2573614,
          -2.7316086,
          -3.6595073,
          -0.42781726,
          -0.6918554,
          -2.3707876,
          -1.1293619,
          -2.0671659,
          -2.039645,
          -1.5823175,
          -2.937076,
          -2.4297771,
          -2.2194378,
          -2.6749547,
          -0.70931005,
          -2.678461,
          -1.0475519,
          -0.8808641
         ],
         "yaxis": "y"
        }
       ],
       "layout": {
        "height": 600,
        "legend": {
         "title": {
          "text": "Cluster"
         },
         "tracegroupgap": 0
        },
        "margin": {
         "t": 60
        },
        "plot_bgcolor": "rgb(240,240,240)",
        "template": {
         "data": {
          "bar": [
           {
            "error_x": {
             "color": "#2a3f5f"
            },
            "error_y": {
             "color": "#2a3f5f"
            },
            "marker": {
             "line": {
              "color": "#E5ECF6",
              "width": 0.5
             },
             "pattern": {
              "fillmode": "overlay",
              "size": 10,
              "solidity": 0.2
             }
            },
            "type": "bar"
           }
          ],
          "barpolar": [
           {
            "marker": {
             "line": {
              "color": "#E5ECF6",
              "width": 0.5
             },
             "pattern": {
              "fillmode": "overlay",
              "size": 10,
              "solidity": 0.2
             }
            },
            "type": "barpolar"
           }
          ],
          "carpet": [
           {
            "aaxis": {
             "endlinecolor": "#2a3f5f",
             "gridcolor": "white",
             "linecolor": "white",
             "minorgridcolor": "white",
             "startlinecolor": "#2a3f5f"
            },
            "baxis": {
             "endlinecolor": "#2a3f5f",
             "gridcolor": "white",
             "linecolor": "white",
             "minorgridcolor": "white",
             "startlinecolor": "#2a3f5f"
            },
            "type": "carpet"
           }
          ],
          "choropleth": [
           {
            "colorbar": {
             "outlinewidth": 0,
             "ticks": ""
            },
            "type": "choropleth"
           }
          ],
          "contour": [
           {
            "colorbar": {
             "outlinewidth": 0,
             "ticks": ""
            },
            "colorscale": [
             [
              0,
              "#0d0887"
             ],
             [
              0.1111111111111111,
              "#46039f"
             ],
             [
              0.2222222222222222,
              "#7201a8"
             ],
             [
              0.3333333333333333,
              "#9c179e"
             ],
             [
              0.4444444444444444,
              "#bd3786"
             ],
             [
              0.5555555555555556,
              "#d8576b"
             ],
             [
              0.6666666666666666,
              "#ed7953"
             ],
             [
              0.7777777777777778,
              "#fb9f3a"
             ],
             [
              0.8888888888888888,
              "#fdca26"
             ],
             [
              1,
              "#f0f921"
             ]
            ],
            "type": "contour"
           }
          ],
          "contourcarpet": [
           {
            "colorbar": {
             "outlinewidth": 0,
             "ticks": ""
            },
            "type": "contourcarpet"
           }
          ],
          "heatmap": [
           {
            "colorbar": {
             "outlinewidth": 0,
             "ticks": ""
            },
            "colorscale": [
             [
              0,
              "#0d0887"
             ],
             [
              0.1111111111111111,
              "#46039f"
             ],
             [
              0.2222222222222222,
              "#7201a8"
             ],
             [
              0.3333333333333333,
              "#9c179e"
             ],
             [
              0.4444444444444444,
              "#bd3786"
             ],
             [
              0.5555555555555556,
              "#d8576b"
             ],
             [
              0.6666666666666666,
              "#ed7953"
             ],
             [
              0.7777777777777778,
              "#fb9f3a"
             ],
             [
              0.8888888888888888,
              "#fdca26"
             ],
             [
              1,
              "#f0f921"
             ]
            ],
            "type": "heatmap"
           }
          ],
          "heatmapgl": [
           {
            "colorbar": {
             "outlinewidth": 0,
             "ticks": ""
            },
            "colorscale": [
             [
              0,
              "#0d0887"
             ],
             [
              0.1111111111111111,
              "#46039f"
             ],
             [
              0.2222222222222222,
              "#7201a8"
             ],
             [
              0.3333333333333333,
              "#9c179e"
             ],
             [
              0.4444444444444444,
              "#bd3786"
             ],
             [
              0.5555555555555556,
              "#d8576b"
             ],
             [
              0.6666666666666666,
              "#ed7953"
             ],
             [
              0.7777777777777778,
              "#fb9f3a"
             ],
             [
              0.8888888888888888,
              "#fdca26"
             ],
             [
              1,
              "#f0f921"
             ]
            ],
            "type": "heatmapgl"
           }
          ],
          "histogram": [
           {
            "marker": {
             "pattern": {
              "fillmode": "overlay",
              "size": 10,
              "solidity": 0.2
             }
            },
            "type": "histogram"
           }
          ],
          "histogram2d": [
           {
            "colorbar": {
             "outlinewidth": 0,
             "ticks": ""
            },
            "colorscale": [
             [
              0,
              "#0d0887"
             ],
             [
              0.1111111111111111,
              "#46039f"
             ],
             [
              0.2222222222222222,
              "#7201a8"
             ],
             [
              0.3333333333333333,
              "#9c179e"
             ],
             [
              0.4444444444444444,
              "#bd3786"
             ],
             [
              0.5555555555555556,
              "#d8576b"
             ],
             [
              0.6666666666666666,
              "#ed7953"
             ],
             [
              0.7777777777777778,
              "#fb9f3a"
             ],
             [
              0.8888888888888888,
              "#fdca26"
             ],
             [
              1,
              "#f0f921"
             ]
            ],
            "type": "histogram2d"
           }
          ],
          "histogram2dcontour": [
           {
            "colorbar": {
             "outlinewidth": 0,
             "ticks": ""
            },
            "colorscale": [
             [
              0,
              "#0d0887"
             ],
             [
              0.1111111111111111,
              "#46039f"
             ],
             [
              0.2222222222222222,
              "#7201a8"
             ],
             [
              0.3333333333333333,
              "#9c179e"
             ],
             [
              0.4444444444444444,
              "#bd3786"
             ],
             [
              0.5555555555555556,
              "#d8576b"
             ],
             [
              0.6666666666666666,
              "#ed7953"
             ],
             [
              0.7777777777777778,
              "#fb9f3a"
             ],
             [
              0.8888888888888888,
              "#fdca26"
             ],
             [
              1,
              "#f0f921"
             ]
            ],
            "type": "histogram2dcontour"
           }
          ],
          "mesh3d": [
           {
            "colorbar": {
             "outlinewidth": 0,
             "ticks": ""
            },
            "type": "mesh3d"
           }
          ],
          "parcoords": [
           {
            "line": {
             "colorbar": {
              "outlinewidth": 0,
              "ticks": ""
             }
            },
            "type": "parcoords"
           }
          ],
          "pie": [
           {
            "automargin": true,
            "type": "pie"
           }
          ],
          "scatter": [
           {
            "fillpattern": {
             "fillmode": "overlay",
             "size": 10,
             "solidity": 0.2
            },
            "type": "scatter"
           }
          ],
          "scatter3d": [
           {
            "line": {
             "colorbar": {
              "outlinewidth": 0,
              "ticks": ""
             }
            },
            "marker": {
             "colorbar": {
              "outlinewidth": 0,
              "ticks": ""
             }
            },
            "type": "scatter3d"
           }
          ],
          "scattercarpet": [
           {
            "marker": {
             "colorbar": {
              "outlinewidth": 0,
              "ticks": ""
             }
            },
            "type": "scattercarpet"
           }
          ],
          "scattergeo": [
           {
            "marker": {
             "colorbar": {
              "outlinewidth": 0,
              "ticks": ""
             }
            },
            "type": "scattergeo"
           }
          ],
          "scattergl": [
           {
            "marker": {
             "colorbar": {
              "outlinewidth": 0,
              "ticks": ""
             }
            },
            "type": "scattergl"
           }
          ],
          "scattermapbox": [
           {
            "marker": {
             "colorbar": {
              "outlinewidth": 0,
              "ticks": ""
             }
            },
            "type": "scattermapbox"
           }
          ],
          "scatterpolar": [
           {
            "marker": {
             "colorbar": {
              "outlinewidth": 0,
              "ticks": ""
             }
            },
            "type": "scatterpolar"
           }
          ],
          "scatterpolargl": [
           {
            "marker": {
             "colorbar": {
              "outlinewidth": 0,
              "ticks": ""
             }
            },
            "type": "scatterpolargl"
           }
          ],
          "scatterternary": [
           {
            "marker": {
             "colorbar": {
              "outlinewidth": 0,
              "ticks": ""
             }
            },
            "type": "scatterternary"
           }
          ],
          "surface": [
           {
            "colorbar": {
             "outlinewidth": 0,
             "ticks": ""
            },
            "colorscale": [
             [
              0,
              "#0d0887"
             ],
             [
              0.1111111111111111,
              "#46039f"
             ],
             [
              0.2222222222222222,
              "#7201a8"
             ],
             [
              0.3333333333333333,
              "#9c179e"
             ],
             [
              0.4444444444444444,
              "#bd3786"
             ],
             [
              0.5555555555555556,
              "#d8576b"
             ],
             [
              0.6666666666666666,
              "#ed7953"
             ],
             [
              0.7777777777777778,
              "#fb9f3a"
             ],
             [
              0.8888888888888888,
              "#fdca26"
             ],
             [
              1,
              "#f0f921"
             ]
            ],
            "type": "surface"
           }
          ],
          "table": [
           {
            "cells": {
             "fill": {
              "color": "#EBF0F8"
             },
             "line": {
              "color": "white"
             }
            },
            "header": {
             "fill": {
              "color": "#C8D4E3"
             },
             "line": {
              "color": "white"
             }
            },
            "type": "table"
           }
          ]
         },
         "layout": {
          "annotationdefaults": {
           "arrowcolor": "#2a3f5f",
           "arrowhead": 0,
           "arrowwidth": 1
          },
          "autotypenumbers": "strict",
          "coloraxis": {
           "colorbar": {
            "outlinewidth": 0,
            "ticks": ""
           }
          },
          "colorscale": {
           "diverging": [
            [
             0,
             "#8e0152"
            ],
            [
             0.1,
             "#c51b7d"
            ],
            [
             0.2,
             "#de77ae"
            ],
            [
             0.3,
             "#f1b6da"
            ],
            [
             0.4,
             "#fde0ef"
            ],
            [
             0.5,
             "#f7f7f7"
            ],
            [
             0.6,
             "#e6f5d0"
            ],
            [
             0.7,
             "#b8e186"
            ],
            [
             0.8,
             "#7fbc41"
            ],
            [
             0.9,
             "#4d9221"
            ],
            [
             1,
             "#276419"
            ]
           ],
           "sequential": [
            [
             0,
             "#0d0887"
            ],
            [
             0.1111111111111111,
             "#46039f"
            ],
            [
             0.2222222222222222,
             "#7201a8"
            ],
            [
             0.3333333333333333,
             "#9c179e"
            ],
            [
             0.4444444444444444,
             "#bd3786"
            ],
            [
             0.5555555555555556,
             "#d8576b"
            ],
            [
             0.6666666666666666,
             "#ed7953"
            ],
            [
             0.7777777777777778,
             "#fb9f3a"
            ],
            [
             0.8888888888888888,
             "#fdca26"
            ],
            [
             1,
             "#f0f921"
            ]
           ],
           "sequentialminus": [
            [
             0,
             "#0d0887"
            ],
            [
             0.1111111111111111,
             "#46039f"
            ],
            [
             0.2222222222222222,
             "#7201a8"
            ],
            [
             0.3333333333333333,
             "#9c179e"
            ],
            [
             0.4444444444444444,
             "#bd3786"
            ],
            [
             0.5555555555555556,
             "#d8576b"
            ],
            [
             0.6666666666666666,
             "#ed7953"
            ],
            [
             0.7777777777777778,
             "#fb9f3a"
            ],
            [
             0.8888888888888888,
             "#fdca26"
            ],
            [
             1,
             "#f0f921"
            ]
           ]
          },
          "colorway": [
           "#636efa",
           "#EF553B",
           "#00cc96",
           "#ab63fa",
           "#FFA15A",
           "#19d3f3",
           "#FF6692",
           "#B6E880",
           "#FF97FF",
           "#FECB52"
          ],
          "font": {
           "color": "#2a3f5f"
          },
          "geo": {
           "bgcolor": "white",
           "lakecolor": "white",
           "landcolor": "#E5ECF6",
           "showlakes": true,
           "showland": true,
           "subunitcolor": "white"
          },
          "hoverlabel": {
           "align": "left"
          },
          "hovermode": "closest",
          "mapbox": {
           "style": "light"
          },
          "paper_bgcolor": "white",
          "plot_bgcolor": "#E5ECF6",
          "polar": {
           "angularaxis": {
            "gridcolor": "white",
            "linecolor": "white",
            "ticks": ""
           },
           "bgcolor": "#E5ECF6",
           "radialaxis": {
            "gridcolor": "white",
            "linecolor": "white",
            "ticks": ""
           }
          },
          "scene": {
           "xaxis": {
            "backgroundcolor": "#E5ECF6",
            "gridcolor": "white",
            "gridwidth": 2,
            "linecolor": "white",
            "showbackground": true,
            "ticks": "",
            "zerolinecolor": "white"
           },
           "yaxis": {
            "backgroundcolor": "#E5ECF6",
            "gridcolor": "white",
            "gridwidth": 2,
            "linecolor": "white",
            "showbackground": true,
            "ticks": "",
            "zerolinecolor": "white"
           },
           "zaxis": {
            "backgroundcolor": "#E5ECF6",
            "gridcolor": "white",
            "gridwidth": 2,
            "linecolor": "white",
            "showbackground": true,
            "ticks": "",
            "zerolinecolor": "white"
           }
          },
          "shapedefaults": {
           "line": {
            "color": "#2a3f5f"
           }
          },
          "ternary": {
           "aaxis": {
            "gridcolor": "white",
            "linecolor": "white",
            "ticks": ""
           },
           "baxis": {
            "gridcolor": "white",
            "linecolor": "white",
            "ticks": ""
           },
           "bgcolor": "#E5ECF6",
           "caxis": {
            "gridcolor": "white",
            "linecolor": "white",
            "ticks": ""
           }
          },
          "title": {
           "x": 0.05
          },
          "xaxis": {
           "automargin": true,
           "gridcolor": "white",
           "linecolor": "white",
           "ticks": "",
           "title": {
            "standoff": 15
           },
           "zerolinecolor": "white",
           "zerolinewidth": 2
          },
          "yaxis": {
           "automargin": true,
           "gridcolor": "white",
           "linecolor": "white",
           "ticks": "",
           "title": {
            "standoff": 15
           },
           "zerolinecolor": "white",
           "zerolinewidth": 2
          }
         }
        },
        "title": {
         "text": "2D Cluster PCA Plot"
        },
        "xaxis": {
         "anchor": "y",
         "domain": [
          0,
          1
         ],
         "title": {
          "text": "PCA1"
         }
        },
        "yaxis": {
         "anchor": "x",
         "domain": [
          0,
          1
         ],
         "title": {
          "text": "PCA2"
         }
        }
       }
      }
     },
     "metadata": {},
     "output_type": "display_data"
    }
   ],
   "source": [
    "clustering_setup = setup(data=dataframe, \n",
    "                        ignore_features=['tempo','idUsuario','idTipoMovimento'],  \n",
    "                         normalize=True)  # Normaliza os dados\n",
    "\n",
    "kmeans = create_model('kmeans', num_clusters=8)\n",
    "\n",
    "clustered_data = assign_model(kmeans)\n",
    "\n",
    "print(clustered_data.head())\n",
    "\n",
    "plot_model(kmeans, plot='cluster')"
   ]
  },
  {
   "cell_type": "code",
   "execution_count": 436,
   "metadata": {},
   "outputs": [],
   "source": [
    "temp = clustered_data['Cluster']\n",
    "dataframe_clusterizado = dataframe\n",
    "dataframe_clusterizado['Cluster'] = temp        "
   ]
  },
  {
   "cell_type": "code",
   "execution_count": 437,
   "metadata": {},
   "outputs": [
    {
     "data": {
      "image/png": "[encoded data removed]",
      "text/plain": [
       "<Figure size 800x400 with 1 Axes>"
      ]
     },
     "metadata": {},
     "output_type": "display_data"
    }
   ],
   "source": [
    "plt.figure(figsize=(8, 4))\n",
    "\n",
    "# Se os clusters forem categóricos (nominais)\n",
    "sns.scatterplot(data=dataframe_clusterizado, x='tempo', y='Cluster', hue='Cluster', palette='tab10', s=50)\n",
    "\n",
    "# Configurar título e rótulos dos eixos\n",
    "plt.title('Evolução dos Clusters ao Longo do Tempo')\n",
    "plt.xlabel('Tempo')\n",
    "plt.ylabel('Clusters')\n",
    "\n",
    "plt.grid(True)\n",
    "plt.show()"
   ]
  },
  {
   "cell_type": "code",
   "execution_count": 438,
   "metadata": {},
   "outputs": [
    {
     "data": {
      "text/html": [
       "<div>\n",
       "<style scoped>\n",
       "    .dataframe tbody tr th:only-of-type {\n",
       "        vertical-align: middle;\n",
       "    }\n",
       "\n",
       "    .dataframe tbody tr th {\n",
       "        vertical-align: top;\n",
       "    }\n",
       "\n",
       "    .dataframe thead th {\n",
       "        text-align: right;\n",
       "    }\n",
       "</style>\n",
       "<table border=\"1\" class=\"dataframe\">\n",
       "  <thead>\n",
       "    <tr style=\"text-align: right;\">\n",
       "      <th></th>\n",
       "      <th>tempo</th>\n",
       "      <th>acelX</th>\n",
       "      <th>acelY</th>\n",
       "      <th>acelZ</th>\n",
       "      <th>idTipoMovimento</th>\n",
       "      <th>MAGNITUDE_ACEL</th>\n",
       "      <th>Cluster</th>\n",
       "      <th>Cluster Processado</th>\n",
       "    </tr>\n",
       "  </thead>\n",
       "  <tbody>\n",
       "    <tr>\n",
       "      <th>0</th>\n",
       "      <td>0</td>\n",
       "      <td>-1282.0</td>\n",
       "      <td>-1473.0</td>\n",
       "      <td>137.0</td>\n",
       "      <td>D04</td>\n",
       "      <td>1957.555108</td>\n",
       "      <td>Cluster 0</td>\n",
       "      <td>0</td>\n",
       "    </tr>\n",
       "    <tr>\n",
       "      <th>1</th>\n",
       "      <td>40</td>\n",
       "      <td>-1267.0</td>\n",
       "      <td>-1509.0</td>\n",
       "      <td>132.0</td>\n",
       "      <td>D04</td>\n",
       "      <td>1974.789609</td>\n",
       "      <td>Cluster 0</td>\n",
       "      <td>0</td>\n",
       "    </tr>\n",
       "    <tr>\n",
       "      <th>2</th>\n",
       "      <td>80</td>\n",
       "      <td>-1294.0</td>\n",
       "      <td>-1522.0</td>\n",
       "      <td>125.0</td>\n",
       "      <td>D04</td>\n",
       "      <td>2001.635581</td>\n",
       "      <td>Cluster 0</td>\n",
       "      <td>0</td>\n",
       "    </tr>\n",
       "    <tr>\n",
       "      <th>3</th>\n",
       "      <td>120</td>\n",
       "      <td>-1285.0</td>\n",
       "      <td>-1502.0</td>\n",
       "      <td>118.0</td>\n",
       "      <td>D04</td>\n",
       "      <td>1980.190142</td>\n",
       "      <td>Cluster 0</td>\n",
       "      <td>0</td>\n",
       "    </tr>\n",
       "    <tr>\n",
       "      <th>4</th>\n",
       "      <td>160</td>\n",
       "      <td>-1305.0</td>\n",
       "      <td>-1491.0</td>\n",
       "      <td>138.0</td>\n",
       "      <td>D04</td>\n",
       "      <td>1986.240167</td>\n",
       "      <td>Cluster 0</td>\n",
       "      <td>0</td>\n",
       "    </tr>\n",
       "    <tr>\n",
       "      <th>...</th>\n",
       "      <td>...</td>\n",
       "      <td>...</td>\n",
       "      <td>...</td>\n",
       "      <td>...</td>\n",
       "      <td>...</td>\n",
       "      <td>...</td>\n",
       "      <td>...</td>\n",
       "      <td>...</td>\n",
       "    </tr>\n",
       "    <tr>\n",
       "      <th>997</th>\n",
       "      <td>19840</td>\n",
       "      <td>-578.0</td>\n",
       "      <td>2048.0</td>\n",
       "      <td>-49.0</td>\n",
       "      <td>D04</td>\n",
       "      <td>2128.565010</td>\n",
       "      <td>Cluster 1</td>\n",
       "      <td>1</td>\n",
       "    </tr>\n",
       "    <tr>\n",
       "      <th>998</th>\n",
       "      <td>19880</td>\n",
       "      <td>-589.0</td>\n",
       "      <td>2040.0</td>\n",
       "      <td>-59.0</td>\n",
       "      <td>D04</td>\n",
       "      <td>2124.147358</td>\n",
       "      <td>Cluster 1</td>\n",
       "      <td>1</td>\n",
       "    </tr>\n",
       "    <tr>\n",
       "      <th>999</th>\n",
       "      <td>19920</td>\n",
       "      <td>-587.0</td>\n",
       "      <td>2053.0</td>\n",
       "      <td>-48.0</td>\n",
       "      <td>D04</td>\n",
       "      <td>2135.809448</td>\n",
       "      <td>Cluster 1</td>\n",
       "      <td>1</td>\n",
       "    </tr>\n",
       "    <tr>\n",
       "      <th>1000</th>\n",
       "      <td>19960</td>\n",
       "      <td>-595.0</td>\n",
       "      <td>2045.0</td>\n",
       "      <td>-58.0</td>\n",
       "      <td>D04</td>\n",
       "      <td>2130.590059</td>\n",
       "      <td>Cluster 1</td>\n",
       "      <td>1</td>\n",
       "    </tr>\n",
       "    <tr>\n",
       "      <th>1001</th>\n",
       "      <td>20000</td>\n",
       "      <td>-585.0</td>\n",
       "      <td>2051.0</td>\n",
       "      <td>-50.0</td>\n",
       "      <td>D04</td>\n",
       "      <td>2133.383697</td>\n",
       "      <td>Cluster 1</td>\n",
       "      <td>1</td>\n",
       "    </tr>\n",
       "  </tbody>\n",
       "</table>\n",
       "<p>1002 rows × 8 columns</p>\n",
       "</div>"
      ],
      "text/plain": [
       "      tempo   acelX   acelY  acelZ idTipoMovimento  MAGNITUDE_ACEL    Cluster  \\\n",
       "0         0 -1282.0 -1473.0  137.0             D04     1957.555108  Cluster 0   \n",
       "1        40 -1267.0 -1509.0  132.0             D04     1974.789609  Cluster 0   \n",
       "2        80 -1294.0 -1522.0  125.0             D04     2001.635581  Cluster 0   \n",
       "3       120 -1285.0 -1502.0  118.0             D04     1980.190142  Cluster 0   \n",
       "4       160 -1305.0 -1491.0  138.0             D04     1986.240167  Cluster 0   \n",
       "...     ...     ...     ...    ...             ...             ...        ...   \n",
       "997   19840  -578.0  2048.0  -49.0             D04     2128.565010  Cluster 1   \n",
       "998   19880  -589.0  2040.0  -59.0             D04     2124.147358  Cluster 1   \n",
       "999   19920  -587.0  2053.0  -48.0             D04     2135.809448  Cluster 1   \n",
       "1000  19960  -595.0  2045.0  -58.0             D04     2130.590059  Cluster 1   \n",
       "1001  20000  -585.0  2051.0  -50.0             D04     2133.383697  Cluster 1   \n",
       "\n",
       "      Cluster Processado  \n",
       "0                      0  \n",
       "1                      0  \n",
       "2                      0  \n",
       "3                      0  \n",
       "4                      0  \n",
       "...                  ...  \n",
       "997                    1  \n",
       "998                    1  \n",
       "999                    1  \n",
       "1000                   1  \n",
       "1001                   1  \n",
       "\n",
       "[1002 rows x 8 columns]"
      ]
     },
     "execution_count": 438,
     "metadata": {},
     "output_type": "execute_result"
    }
   ],
   "source": [
    "dataframe_clusterizado['Cluster Processado'] = dataframe_clusterizado['Cluster'].apply(\n",
    "    lambda x: 1 if x in {'Cluster 1','Cluster 4'} else 0\n",
    ")\n",
    "dataframe_clusterizado"
   ]
  },
  {
   "cell_type": "code",
   "execution_count": 439,
   "metadata": {},
   "outputs": [
    {
     "data": {
      "text/html": [
       "<div>\n",
       "<style scoped>\n",
       "    .dataframe tbody tr th:only-of-type {\n",
       "        vertical-align: middle;\n",
       "    }\n",
       "\n",
       "    .dataframe tbody tr th {\n",
       "        vertical-align: top;\n",
       "    }\n",
       "\n",
       "    .dataframe thead th {\n",
       "        text-align: right;\n",
       "    }\n",
       "</style>\n",
       "<table border=\"1\" class=\"dataframe\">\n",
       "  <thead>\n",
       "    <tr style=\"text-align: right;\">\n",
       "      <th></th>\n",
       "      <th>Cluster Processado</th>\n",
       "      <th>med_x</th>\n",
       "      <th>med_y</th>\n",
       "      <th>med_z</th>\n",
       "      <th>med_mag</th>\n",
       "      <th>max_x</th>\n",
       "      <th>max_y</th>\n",
       "      <th>max_z</th>\n",
       "      <th>max_mag</th>\n",
       "      <th>min_x</th>\n",
       "      <th>min_y</th>\n",
       "      <th>min_z</th>\n",
       "      <th>min_mag</th>\n",
       "      <th>media_dif</th>\n",
       "      <th>maxima_dif</th>\n",
       "      <th>minima_dif</th>\n",
       "    </tr>\n",
       "  </thead>\n",
       "  <tbody>\n",
       "    <tr>\n",
       "      <th>0</th>\n",
       "      <td>0</td>\n",
       "      <td>-1279.8</td>\n",
       "      <td>-1508.1</td>\n",
       "      <td>138.1</td>\n",
       "      <td>1982.903944</td>\n",
       "      <td>-1230.0</td>\n",
       "      <td>-1473.0</td>\n",
       "      <td>173.0</td>\n",
       "      <td>2027.999260</td>\n",
       "      <td>-1305.0</td>\n",
       "      <td>-1556.0</td>\n",
       "      <td>118.0</td>\n",
       "      <td>1945.978674</td>\n",
       "      <td>NaN</td>\n",
       "      <td>NaN</td>\n",
       "      <td>NaN</td>\n",
       "    </tr>\n",
       "    <tr>\n",
       "      <th>1</th>\n",
       "      <td>0</td>\n",
       "      <td>-1276.0</td>\n",
       "      <td>-1509.6</td>\n",
       "      <td>139.2</td>\n",
       "      <td>1981.662803</td>\n",
       "      <td>-1230.0</td>\n",
       "      <td>-1488.0</td>\n",
       "      <td>173.0</td>\n",
       "      <td>2027.999260</td>\n",
       "      <td>-1305.0</td>\n",
       "      <td>-1556.0</td>\n",
       "      <td>118.0</td>\n",
       "      <td>1945.143696</td>\n",
       "      <td>-1.241141</td>\n",
       "      <td>0.000000</td>\n",
       "      <td>-0.834978</td>\n",
       "    </tr>\n",
       "    <tr>\n",
       "      <th>2</th>\n",
       "      <td>0</td>\n",
       "      <td>-1274.8</td>\n",
       "      <td>-1511.8</td>\n",
       "      <td>138.2</td>\n",
       "      <td>1982.523701</td>\n",
       "      <td>-1230.0</td>\n",
       "      <td>-1488.0</td>\n",
       "      <td>173.0</td>\n",
       "      <td>2027.999260</td>\n",
       "      <td>-1305.0</td>\n",
       "      <td>-1556.0</td>\n",
       "      <td>118.0</td>\n",
       "      <td>1945.143696</td>\n",
       "      <td>0.860899</td>\n",
       "      <td>0.000000</td>\n",
       "      <td>0.000000</td>\n",
       "    </tr>\n",
       "    <tr>\n",
       "      <th>3</th>\n",
       "      <td>0</td>\n",
       "      <td>-1272.7</td>\n",
       "      <td>-1508.9</td>\n",
       "      <td>141.6</td>\n",
       "      <td>1979.206759</td>\n",
       "      <td>-1230.0</td>\n",
       "      <td>-1488.0</td>\n",
       "      <td>173.0</td>\n",
       "      <td>2027.999260</td>\n",
       "      <td>-1305.0</td>\n",
       "      <td>-1556.0</td>\n",
       "      <td>118.0</td>\n",
       "      <td>1945.143696</td>\n",
       "      <td>-3.316943</td>\n",
       "      <td>0.000000</td>\n",
       "      <td>0.000000</td>\n",
       "    </tr>\n",
       "    <tr>\n",
       "      <th>4</th>\n",
       "      <td>0</td>\n",
       "      <td>-1275.4</td>\n",
       "      <td>-1508.3</td>\n",
       "      <td>145.9</td>\n",
       "      <td>1980.819430</td>\n",
       "      <td>-1230.0</td>\n",
       "      <td>-1488.0</td>\n",
       "      <td>173.0</td>\n",
       "      <td>2027.999260</td>\n",
       "      <td>-1312.0</td>\n",
       "      <td>-1556.0</td>\n",
       "      <td>122.0</td>\n",
       "      <td>1945.143696</td>\n",
       "      <td>1.612672</td>\n",
       "      <td>0.000000</td>\n",
       "      <td>0.000000</td>\n",
       "    </tr>\n",
       "    <tr>\n",
       "      <th>...</th>\n",
       "      <td>...</td>\n",
       "      <td>...</td>\n",
       "      <td>...</td>\n",
       "      <td>...</td>\n",
       "      <td>...</td>\n",
       "      <td>...</td>\n",
       "      <td>...</td>\n",
       "      <td>...</td>\n",
       "      <td>...</td>\n",
       "      <td>...</td>\n",
       "      <td>...</td>\n",
       "      <td>...</td>\n",
       "      <td>...</td>\n",
       "      <td>...</td>\n",
       "      <td>...</td>\n",
       "      <td>...</td>\n",
       "    </tr>\n",
       "    <tr>\n",
       "      <th>988</th>\n",
       "      <td>1</td>\n",
       "      <td>-584.6</td>\n",
       "      <td>2049.0</td>\n",
       "      <td>-57.7</td>\n",
       "      <td>2131.564568</td>\n",
       "      <td>-574.0</td>\n",
       "      <td>2055.0</td>\n",
       "      <td>-49.0</td>\n",
       "      <td>2141.109525</td>\n",
       "      <td>-598.0</td>\n",
       "      <td>2042.0</td>\n",
       "      <td>-62.0</td>\n",
       "      <td>2125.633317</td>\n",
       "      <td>-1.402688</td>\n",
       "      <td>-1.482363</td>\n",
       "      <td>0.000000</td>\n",
       "    </tr>\n",
       "    <tr>\n",
       "      <th>989</th>\n",
       "      <td>1</td>\n",
       "      <td>-584.7</td>\n",
       "      <td>2048.8</td>\n",
       "      <td>-58.3</td>\n",
       "      <td>2131.415972</td>\n",
       "      <td>-574.0</td>\n",
       "      <td>2055.0</td>\n",
       "      <td>-49.0</td>\n",
       "      <td>2141.109525</td>\n",
       "      <td>-598.0</td>\n",
       "      <td>2040.0</td>\n",
       "      <td>-62.0</td>\n",
       "      <td>2124.147358</td>\n",
       "      <td>-0.148596</td>\n",
       "      <td>0.000000</td>\n",
       "      <td>-1.485959</td>\n",
       "    </tr>\n",
       "    <tr>\n",
       "      <th>990</th>\n",
       "      <td>1</td>\n",
       "      <td>-584.2</td>\n",
       "      <td>2049.5</td>\n",
       "      <td>-57.1</td>\n",
       "      <td>2131.919936</td>\n",
       "      <td>-574.0</td>\n",
       "      <td>2055.0</td>\n",
       "      <td>-48.0</td>\n",
       "      <td>2141.109525</td>\n",
       "      <td>-598.0</td>\n",
       "      <td>2040.0</td>\n",
       "      <td>-62.0</td>\n",
       "      <td>2124.147358</td>\n",
       "      <td>0.503963</td>\n",
       "      <td>0.000000</td>\n",
       "      <td>0.000000</td>\n",
       "    </tr>\n",
       "    <tr>\n",
       "      <th>991</th>\n",
       "      <td>1</td>\n",
       "      <td>-583.9</td>\n",
       "      <td>2048.5</td>\n",
       "      <td>-56.8</td>\n",
       "      <td>2130.867989</td>\n",
       "      <td>-574.0</td>\n",
       "      <td>2055.0</td>\n",
       "      <td>-48.0</td>\n",
       "      <td>2135.809448</td>\n",
       "      <td>-595.0</td>\n",
       "      <td>2040.0</td>\n",
       "      <td>-62.0</td>\n",
       "      <td>2124.147358</td>\n",
       "      <td>-1.051947</td>\n",
       "      <td>-5.300077</td>\n",
       "      <td>0.000000</td>\n",
       "    </tr>\n",
       "    <tr>\n",
       "      <th>992</th>\n",
       "      <td>1</td>\n",
       "      <td>-584.1</td>\n",
       "      <td>2048.5</td>\n",
       "      <td>-56.3</td>\n",
       "      <td>2130.910438</td>\n",
       "      <td>-574.0</td>\n",
       "      <td>2055.0</td>\n",
       "      <td>-48.0</td>\n",
       "      <td>2135.809448</td>\n",
       "      <td>-595.0</td>\n",
       "      <td>2040.0</td>\n",
       "      <td>-62.0</td>\n",
       "      <td>2124.147358</td>\n",
       "      <td>0.042449</td>\n",
       "      <td>0.000000</td>\n",
       "      <td>0.000000</td>\n",
       "    </tr>\n",
       "  </tbody>\n",
       "</table>\n",
       "<p>993 rows × 16 columns</p>\n",
       "</div>"
      ],
      "text/plain": [
       "     Cluster Processado   med_x   med_y  med_z      med_mag   max_x   max_y  \\\n",
       "0                     0 -1279.8 -1508.1  138.1  1982.903944 -1230.0 -1473.0   \n",
       "1                     0 -1276.0 -1509.6  139.2  1981.662803 -1230.0 -1488.0   \n",
       "2                     0 -1274.8 -1511.8  138.2  1982.523701 -1230.0 -1488.0   \n",
       "3                     0 -1272.7 -1508.9  141.6  1979.206759 -1230.0 -1488.0   \n",
       "4                     0 -1275.4 -1508.3  145.9  1980.819430 -1230.0 -1488.0   \n",
       "..                  ...     ...     ...    ...          ...     ...     ...   \n",
       "988                   1  -584.6  2049.0  -57.7  2131.564568  -574.0  2055.0   \n",
       "989                   1  -584.7  2048.8  -58.3  2131.415972  -574.0  2055.0   \n",
       "990                   1  -584.2  2049.5  -57.1  2131.919936  -574.0  2055.0   \n",
       "991                   1  -583.9  2048.5  -56.8  2130.867989  -574.0  2055.0   \n",
       "992                   1  -584.1  2048.5  -56.3  2130.910438  -574.0  2055.0   \n",
       "\n",
       "     max_z      max_mag   min_x   min_y  min_z      min_mag  media_dif  \\\n",
       "0    173.0  2027.999260 -1305.0 -1556.0  118.0  1945.978674        NaN   \n",
       "1    173.0  2027.999260 -1305.0 -1556.0  118.0  1945.143696  -1.241141   \n",
       "2    173.0  2027.999260 -1305.0 -1556.0  118.0  1945.143696   0.860899   \n",
       "3    173.0  2027.999260 -1305.0 -1556.0  118.0  1945.143696  -3.316943   \n",
       "4    173.0  2027.999260 -1312.0 -1556.0  122.0  1945.143696   1.612672   \n",
       "..     ...          ...     ...     ...    ...          ...        ...   \n",
       "988  -49.0  2141.109525  -598.0  2042.0  -62.0  2125.633317  -1.402688   \n",
       "989  -49.0  2141.109525  -598.0  2040.0  -62.0  2124.147358  -0.148596   \n",
       "990  -48.0  2141.109525  -598.0  2040.0  -62.0  2124.147358   0.503963   \n",
       "991  -48.0  2135.809448  -595.0  2040.0  -62.0  2124.147358  -1.051947   \n",
       "992  -48.0  2135.809448  -595.0  2040.0  -62.0  2124.147358   0.042449   \n",
       "\n",
       "     maxima_dif  minima_dif  \n",
       "0           NaN         NaN  \n",
       "1      0.000000   -0.834978  \n",
       "2      0.000000    0.000000  \n",
       "3      0.000000    0.000000  \n",
       "4      0.000000    0.000000  \n",
       "..          ...         ...  \n",
       "988   -1.482363    0.000000  \n",
       "989    0.000000   -1.485959  \n",
       "990    0.000000    0.000000  \n",
       "991   -5.300077    0.000000  \n",
       "992    0.000000    0.000000  \n",
       "\n",
       "[993 rows x 16 columns]"
      ]
     },
     "execution_count": 439,
     "metadata": {},
     "output_type": "execute_result"
    }
   ],
   "source": [
    "# Parâmetros\n",
    "intervalo_amostras = 10  # número de amostras por segmento (400ms)\n",
    "\n",
    "# Inicializar listas para armazenar os resultados\n",
    "medias_mag = []\n",
    "maximas_mag = []\n",
    "minimas_mag = []\n",
    "dados_segmentos = []\n",
    "\n",
    "# Analisar segmentos com janela deslizante\n",
    "for i in range(len(dataframe) - intervalo_amostras + 1):\n",
    "    segmento = dataframe.iloc[i:i + intervalo_amostras]\n",
    "\n",
    "    media_x = segmento['acelX'].mean()\n",
    "    media_y = segmento['acelY'].mean()\n",
    "    media_z = segmento['acelZ'].mean()\n",
    "    media_mag = segmento['MAGNITUDE_ACEL'].mean()\n",
    "    \n",
    "    max_x = segmento['acelX'].max()\n",
    "    max_y = segmento['acelY'].max()\n",
    "    max_z = segmento['acelZ'].max()\n",
    "    max_mag = segmento['MAGNITUDE_ACEL'].max()\n",
    "    \n",
    "    min_x = segmento['acelX'].min()\n",
    "    min_y = segmento['acelY'].min()\n",
    "    min_z = segmento['acelZ'].min()\n",
    "    min_mag = segmento['MAGNITUDE_ACEL'].min()\n",
    "    \n",
    "    # Pegando o idTipoMovimento e o Cluster Processado para o segmento\n",
    "    id_tipo_movimento = segmento['idTipoMovimento'].iloc[0]\n",
    "    cluster_processado = segmento['Cluster Processado'].iloc[0]\n",
    "\n",
    "    # Adicionando as métricas à lista\n",
    "    medias_mag.append(media_mag)\n",
    "    maximas_mag.append(max_mag)\n",
    "    minimas_mag.append(min_mag)\n",
    "\n",
    "    # Adicionando os dados do segmento à lista de dados\n",
    "    dados_segmentos.append({\n",
    "        'seg': i + 1,\n",
    "        'idTipoMovimento': id_tipo_movimento,\n",
    "        'Cluster Processado': cluster_processado,\n",
    "        'med_x': media_x,\n",
    "        'med_y': media_y,\n",
    "        'med_z': media_z,\n",
    "        'med_mag': media_mag,\n",
    "        'max_x': max_x,\n",
    "        'max_y': max_y,\n",
    "        'max_z': max_z,\n",
    "        'max_mag': max_mag,\n",
    "        'min_x': min_x,\n",
    "        'min_y': min_y,\n",
    "        'min_z': min_z,\n",
    "        'min_mag': min_mag\n",
    "    })\n",
    "\n",
    "# Criar um DataFrame com os dados dos segmentos\n",
    "df_segmentos = pd.DataFrame(dados_segmentos)\n",
    "\n",
    "# Calcular diferenças entre segmentos consecutivos para a magnitude_acel\n",
    "media_difs_mag = np.diff(medias_mag)\n",
    "maxima_difs_mag = np.diff(maximas_mag)\n",
    "minima_difs_mag = np.diff(minimas_mag)\n",
    "\n",
    "# Calcular desvios padrão das diferenças\n",
    "media_dif_std = np.std(media_difs_mag)\n",
    "maxima_dif_std = np.std(maxima_difs_mag)\n",
    "minima_dif_std = np.std(minima_difs_mag)\n",
    "\n",
    "# Adicionar as diferenças ao DataFrame de segmentos\n",
    "df_segmentos['media_dif'] = [None] + list(media_difs_mag)\n",
    "df_segmentos['maxima_dif'] = [None] + list(maxima_difs_mag)\n",
    "df_segmentos['minima_dif'] = [None] + list(minima_difs_mag)\n",
    "\n",
    "# Exibir o DataFrame resultante\n",
    "df_segmentos = df_segmentos.drop(columns=['seg','idTipoMovimento'])\n",
    "df_segmentos\n"
   ]
  },
  {
   "cell_type": "code",
   "execution_count": 440,
   "metadata": {},
   "outputs": [
    {
     "name": "stdout",
     "output_type": "stream",
     "text": [
      "[[ 84   4]\n",
      " [  5 106]]\n",
      "              precision    recall  f1-score   support\n",
      "\n",
      "           0       0.94      0.95      0.95        88\n",
      "           1       0.96      0.95      0.96       111\n",
      "\n",
      "    accuracy                           0.95       199\n",
      "   macro avg       0.95      0.95      0.95       199\n",
      "weighted avg       0.95      0.95      0.95       199\n",
      "\n"
     ]
    }
   ],
   "source": [
    "df_segmentos_restaurado = df_segmentos.copy()  \n",
    "\n",
    "df_segmentos = df_segmentos_restaurado.dropna()\n",
    "\n",
    "X = df_segmentos.drop(columns=['Cluster Processado'])\n",
    "y = df_segmentos['Cluster Processado']  \n",
    "\n",
    "X_train, X_test, y_train, y_test = train_test_split(X, y, test_size=0.2, random_state=42)\n",
    "\n",
    "model = SVC(kernel='linear')  \n",
    "model.fit(X_train, y_train)\n",
    "\n",
    "y_pred = model.predict(X_test)\n",
    "\n",
    "print(confusion_matrix(y_test, y_pred))\n",
    "print(classification_report(y_test, y_pred))\n",
    "\n",
    "with open('svm_model.joblib', 'wb') as file:\n",
    "    dump(model, file)\n"
   ]
  }
 ],
 "metadata": {
  "kernelspec": {
   "display_name": "base",
   "language": "python",
   "name": "python3"
  },
  "language_info": {
   "codemirror_mode": {
    "name": "ipython",
    "version": 3
   },
   "file_extension": ".py",
   "mimetype": "text/x-python",
   "name": "python",
   "nbconvert_exporter": "python",
   "pygments_lexer": "ipython3",
   "version": "3.10.11"
  }
 },
 "nbformat": 4,
 "nbformat_minor": 2
}
