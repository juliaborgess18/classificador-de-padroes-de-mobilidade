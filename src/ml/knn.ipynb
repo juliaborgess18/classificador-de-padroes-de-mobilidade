{
 "cells": [
  {
   "cell_type": "markdown",
   "metadata": {},
   "source": [
    "### Import das bibliotecas utilizadas"
   ]
  },
  {
   "cell_type": "code",
   "execution_count": 1,
   "metadata": {},
   "outputs": [],
   "source": [
    "import pandas as pd\n",
    "import numpy as np\n",
    "from sklearn.model_selection import train_test_split\n",
    "from sklearn.preprocessing import StandardScaler\n",
    "from sklearn.neighbors import KNeighborsClassifier\n",
    "from sklearn.metrics import classification_report, confusion_matrix, ConfusionMatrixDisplay\n",
    "import matplotlib.pyplot as plt\n",
    "import pickle\n",
    "from imblearn.over_sampling import SMOTE\n",
    "from joblib import dump, load\n",
    "import os\n"
   ]
  },
  {
   "cell_type": "markdown",
   "metadata": {},
   "source": [
    "### Seleciona acelX, acelY, acelZ e atividade"
   ]
  },
  {
   "cell_type": "code",
   "execution_count": 22,
   "metadata": {},
   "outputs": [
    {
     "data": {
      "text/html": [
       "<div>\n",
       "<style scoped>\n",
       "    .dataframe tbody tr th:only-of-type {\n",
       "        vertical-align: middle;\n",
       "    }\n",
       "\n",
       "    .dataframe tbody tr th {\n",
       "        vertical-align: top;\n",
       "    }\n",
       "\n",
       "    .dataframe thead th {\n",
       "        text-align: right;\n",
       "    }\n",
       "</style>\n",
       "<table border=\"1\" class=\"dataframe\">\n",
       "  <thead>\n",
       "    <tr style=\"text-align: right;\">\n",
       "      <th></th>\n",
       "      <th>acelX</th>\n",
       "      <th>acelY</th>\n",
       "      <th>acelZ</th>\n",
       "      <th>idTipoMovimento</th>\n",
       "      <th>MAGNITUDE_ACEL</th>\n",
       "    </tr>\n",
       "  </thead>\n",
       "  <tbody>\n",
       "    <tr>\n",
       "      <th>0</th>\n",
       "      <td>-91.0</td>\n",
       "      <td>221.0</td>\n",
       "      <td>-1835.0</td>\n",
       "      <td>D01</td>\n",
       "      <td>1850.499122</td>\n",
       "    </tr>\n",
       "    <tr>\n",
       "      <th>1</th>\n",
       "      <td>-88.0</td>\n",
       "      <td>339.0</td>\n",
       "      <td>-1866.0</td>\n",
       "      <td>D01</td>\n",
       "      <td>1898.583946</td>\n",
       "    </tr>\n",
       "    <tr>\n",
       "      <th>2</th>\n",
       "      <td>-26.0</td>\n",
       "      <td>263.0</td>\n",
       "      <td>-1835.0</td>\n",
       "      <td>D01</td>\n",
       "      <td>1853.933656</td>\n",
       "    </tr>\n",
       "    <tr>\n",
       "      <th>3</th>\n",
       "      <td>-57.0</td>\n",
       "      <td>293.0</td>\n",
       "      <td>-1887.0</td>\n",
       "      <td>D01</td>\n",
       "      <td>1910.462509</td>\n",
       "    </tr>\n",
       "    <tr>\n",
       "      <th>4</th>\n",
       "      <td>-37.0</td>\n",
       "      <td>207.0</td>\n",
       "      <td>-1911.0</td>\n",
       "      <td>D01</td>\n",
       "      <td>1922.534525</td>\n",
       "    </tr>\n",
       "    <tr>\n",
       "      <th>...</th>\n",
       "      <td>...</td>\n",
       "      <td>...</td>\n",
       "      <td>...</td>\n",
       "      <td>...</td>\n",
       "      <td>...</td>\n",
       "    </tr>\n",
       "    <tr>\n",
       "      <th>37570</th>\n",
       "      <td>-1678.0</td>\n",
       "      <td>175.0</td>\n",
       "      <td>929.0</td>\n",
       "      <td>D02</td>\n",
       "      <td>1925.967289</td>\n",
       "    </tr>\n",
       "    <tr>\n",
       "      <th>37571</th>\n",
       "      <td>-610.0</td>\n",
       "      <td>670.0</td>\n",
       "      <td>580.0</td>\n",
       "      <td>D02</td>\n",
       "      <td>1075.825265</td>\n",
       "    </tr>\n",
       "    <tr>\n",
       "      <th>37572</th>\n",
       "      <td>-422.0</td>\n",
       "      <td>778.0</td>\n",
       "      <td>224.0</td>\n",
       "      <td>D02</td>\n",
       "      <td>912.986309</td>\n",
       "    </tr>\n",
       "    <tr>\n",
       "      <th>37573</th>\n",
       "      <td>-1511.0</td>\n",
       "      <td>790.0</td>\n",
       "      <td>-350.0</td>\n",
       "      <td>D02</td>\n",
       "      <td>1740.609376</td>\n",
       "    </tr>\n",
       "    <tr>\n",
       "      <th>37574</th>\n",
       "      <td>-3089.0</td>\n",
       "      <td>407.0</td>\n",
       "      <td>-411.0</td>\n",
       "      <td>D02</td>\n",
       "      <td>3142.688499</td>\n",
       "    </tr>\n",
       "  </tbody>\n",
       "</table>\n",
       "<p>7515 rows × 5 columns</p>\n",
       "</div>"
      ],
      "text/plain": [
       "        acelX  acelY   acelZ idTipoMovimento  MAGNITUDE_ACEL\n",
       "0       -91.0  221.0 -1835.0             D01     1850.499122\n",
       "1       -88.0  339.0 -1866.0             D01     1898.583946\n",
       "2       -26.0  263.0 -1835.0             D01     1853.933656\n",
       "3       -57.0  293.0 -1887.0             D01     1910.462509\n",
       "4       -37.0  207.0 -1911.0             D01     1922.534525\n",
       "...       ...    ...     ...             ...             ...\n",
       "37570 -1678.0  175.0   929.0             D02     1925.967289\n",
       "37571  -610.0  670.0   580.0             D02     1075.825265\n",
       "37572  -422.0  778.0   224.0             D02      912.986309\n",
       "37573 -1511.0  790.0  -350.0             D02     1740.609376\n",
       "37574 -3089.0  407.0  -411.0             D02     3142.688499\n",
       "\n",
       "[7515 rows x 5 columns]"
      ]
     },
     "execution_count": 22,
     "metadata": {},
     "output_type": "execute_result"
    }
   ],
   "source": [
    "dfs = []\n",
    "\n",
    "base_path = \"C:\\\\classificador-de-padroes-de-mobilidade\\\\dataset\\\\raw\\\\Dataset-FallWatch\"\n",
    "for i in range(1,6):\n",
    "    folder_name_avd = f\"U{i:02d}\\\\AVD's\"\n",
    "    folder_name_fall = f\"U{i:02d}\\\\Falls\"\n",
    "    \n",
    "    folder_path_avd = os.path.join(base_path, folder_name_avd)\n",
    "    folder_path_fall = os.path.join(base_path, folder_name_fall)\n",
    "    \n",
    "    for j in range(1, 12):\n",
    "        file_name_avd = f'U{i:02d} - D{j:02d}.csv'\n",
    "        file_path_avd = os.path.join(folder_path_avd, file_name_avd)\n",
    "        \n",
    "        file_name_fall = f'U{i:02d} - F{j:02d}.csv'\n",
    "        file_path_fall = os.path.join(folder_path_fall, file_name_fall)\n",
    "        \n",
    "        if os.path.exists(file_path_avd):\n",
    "            df = pd.read_csv(file_path_avd)\n",
    "            df['idTipoMovimento'] = f'D{j:02d}'\n",
    "            dfs.append(df)\n",
    "            \n",
    "        if os.path.exists(file_path_fall):\n",
    "            df = pd.read_csv(file_path_fall)\n",
    "            df['idTipoMovimento'] = f'F{j:02d}'\n",
    "            dfs.append(df)\n",
    "\n",
    "dataframe = pd.concat(dfs, ignore_index=True)\n",
    "\n",
    "movimentos_formatados = {\"D01\":\"Caminhando\",\n",
    "\"D02\":\"Correndo\",\n",
    "\"D03\":\"Subindo e descendo escadas\",\n",
    "\"D04\":\"Sentando em uma cadeira, esperar um momento e levantar-se\",\n",
    "\"D05\":\"Sentado por um momento, tentar levantar-se e cair na cadeira\",\n",
    "\"D06\":\"Agachando (dobrando os joelhos), amarrar sapatos e levantar-se\",\n",
    "\"D07\":\"Tropeçar enquanto caminha\",\n",
    "\"D08\":\"Pular suavemente sem cair(tentando alcançar um objeto)\",\n",
    "\"D09\":\"Bater na mesa com a mão\",\n",
    "\"D10\":\"Batendo palmas\",\n",
    "\"F01\":\"Queda para frente ao caminhar causada por escorregão\",\n",
    "\"F02\":\"Queda lateral ao caminhar causada por escorregão\",\n",
    "\"F03\":\"Queda para trás ao caminhar causada por escorregão\",\n",
    "\"F04\":\"Queda para frente ao caminhar causada por tropeço\",\n",
    "\"F05\":\"Queda para trás ao tentar sentar-se\",\n",
    "\"F06\":\"Queda para frente enquanto sentado, causada por desmaio ou adormecimento\",\n",
    "\"F07\":\"Queda para trás enquanto sentado, causada por desmaio ou adormecimento\",\n",
    "\"F08\":\"Queda lateral enquanto sentado, causada por desmaio ou adormecimento\",\n",
    "}\n",
    "\n",
    "colunas_selecionadas = ['acelX', 'acelY', 'acelZ' ,'idTipoMovimento']\n",
    "dataframe = dataframe[colunas_selecionadas]\n",
    "dataframe['MAGNITUDE_ACEL']   = np.sqrt(dataframe['acelX']**2 + dataframe['acelY']**2 + dataframe['acelZ']**2)\n",
    "dataframe = dataframe[dataframe['idTipoMovimento'].isin(['D01', 'D02', 'F01'])]\n",
    "dataframe"
   ]
  },
  {
   "cell_type": "markdown",
   "metadata": {},
   "source": [
    "### Mensurar volume do dataset"
   ]
  },
  {
   "cell_type": "code",
   "execution_count": 12,
   "metadata": {},
   "outputs": [
    {
     "data": {
      "image/png": "[encoded data removed]",
      "text/plain": [
       "<Figure size 640x480 with 1 Axes>"
      ]
     },
     "metadata": {},
     "output_type": "display_data"
    }
   ],
   "source": [
    "# id_andando  = df_andando['idTipoMovimento'][0]\n",
    "# id_correndo = df_correndo['idTipoMovimento'][0]\n",
    "# id_caindo   = df_caindo['idTipoMovimento'][0]\n",
    "\n",
    "# eixo_x = [id_andando, id_correndo, id_caindo]\n",
    "# contagem = [len(df_andando),len(df_correndo),len(df_caindo)]\n",
    "# cores_barras = ['blue','orange','red']\n",
    "# legenda_barras = ['andando','correndo','caindo']\n",
    "\n",
    "# fig, ax = plt.subplots()\n",
    "\n",
    "# bar_container = ax.bar(eixo_x, contagem, label=legenda_barras, color=cores_barras)\n",
    "# ax.bar_label(bar_container, fmt='{:.0f}')\n",
    "# ax.set_title('Volume do dataset x Mobilidade')\n",
    "# # ax.set_xlabel('Mobilidade')\n",
    "# ax.set_ylabel('Volume')\n",
    "# # ax.legend()\n",
    "# plt.yticks([]) # Remover escala do eixo y\n",
    "# plt.xticks(eixo_x)\n",
    "# plt.savefig('C:\\\\classificador-de-padroes-de-mobilidade\\\\results\\\\graphs\\\\volume_dataset_por_mobilidade.png')\n",
    "# plt.show()"
   ]
  },
  {
   "cell_type": "markdown",
   "metadata": {},
   "source": [
    "### Treinamento e teste do modelo (todas as mobilidades)"
   ]
  },
  {
   "cell_type": "code",
   "execution_count": 26,
   "metadata": {},
   "outputs": [
    {
     "name": "stdout",
     "output_type": "stream",
     "text": [
      "[[468   3  41]\n",
      " [ 18 487   7]\n",
      " [ 64   8 407]]\n",
      "              precision    recall  f1-score   support\n",
      "\n",
      "         D01       0.85      0.91      0.88       512\n",
      "         D02       0.98      0.95      0.96       512\n",
      "         F01       0.89      0.85      0.87       479\n",
      "\n",
      "    accuracy                           0.91      1503\n",
      "   macro avg       0.91      0.90      0.91      1503\n",
      "weighted avg       0.91      0.91      0.91      1503\n",
      "\n"
     ]
    }
   ],
   "source": [
    "X_train, X_test, y_train, y_test = train_test_split(dataframe[['acelX','acelY','acelZ','MAGNITUDE_ACEL']], dataframe['idTipoMovimento'], test_size=0.2, random_state=42)\n",
    "\n",
    "scaler = StandardScaler()\n",
    "X_train = scaler.fit_transform(X_train)\n",
    "X_test = scaler.transform(X_test)\n",
    "\n",
    "knn = KNeighborsClassifier(n_neighbors=3)\n",
    "knn.fit(X_train, y_train)\n",
    "\n",
    "y_pred = knn.predict(X_test)\n",
    "\n",
    "print(confusion_matrix(y_test, y_pred))\n",
    "print(classification_report(y_test, y_pred))\n",
    "\n",
    "cm = confusion_matrix(y_test, y_pred)\n",
    "\n",
    "# disp = ConfusionMatrixDisplay(confusion_matrix=cm)\n",
    "# disp.plot()\n",
    "# plt.savefig('C:\\\\classificador-de-padroes-de-mobilidade\\\\results\\\\graphs\\\\knn_matriz_confusao_todos_os_movimentos.png', dpi=300, bbox_inches='tight')\n",
    "\n",
    "with open('modelos/knn_model.joblib', 'wb') as file:\n",
    "    dump(knn, file)\n"
   ]
  },
  {
   "cell_type": "code",
   "execution_count": 30,
   "metadata": {},
   "outputs": [
    {
     "name": "stderr",
     "output_type": "stream",
     "text": [
      "c:\\Users\\julia\\anaconda3\\Lib\\site-packages\\sklearn\\base.py:432: UserWarning: X has feature names, but KNeighborsClassifier was fitted without feature names\n",
      "  warnings.warn(\n"
     ]
    },
    {
     "name": "stdout",
     "output_type": "stream",
     "text": [
      "Previsões:  ['D02' 'D02' 'F01' ... 'D02' 'D02' 'D02']\n"
     ]
    }
   ],
   "source": [
    "df_teste_modelo = dataframe[dataframe['idTipoMovimento'].isin(['D02'])]\n",
    "df_teste_modelo = df_teste_modelo.drop(columns=['idTipoMovimento'])\n",
    "# df_teste_modelo\n",
    "with open('modelos/knn_model.joblib', 'rb') as file:\n",
    "    knn_loaded = load(file)\n",
    "    \n",
    "X_test = df_teste_modelo\n",
    "\n",
    "y_pred = knn_loaded.predict(X_test)\n",
    "\n",
    "print(\"Previsões: \", y_pred)\n",
    "\n",
    "# with open('predicoes/knn_predicoes.txt', 'w') as f:\n",
    "#     for pred in y_pred:\n",
    "#         f.write(f\"{pred}\\n\")\n",
    "\n",
    "# print(\"Previsões salvas no arquivo 'predicoes/knn_predicoes.txt'\")"
   ]
  }
 ],
 "metadata": {
  "kernelspec": {
   "display_name": "base",
   "language": "python",
   "name": "python3"
  },
  "language_info": {
   "codemirror_mode": {
    "name": "ipython",
    "version": 3
   },
   "file_extension": ".py",
   "mimetype": "text/x-python",
   "name": "python",
   "nbconvert_exporter": "python",
   "pygments_lexer": "ipython3",
   "version": "3.11.7"
  }
 },
 "nbformat": 4,
 "nbformat_minor": 2
}
