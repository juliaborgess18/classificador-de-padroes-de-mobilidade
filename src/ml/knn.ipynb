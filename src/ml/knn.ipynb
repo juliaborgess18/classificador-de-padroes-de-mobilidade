{
 "cells": [
  {
   "cell_type": "markdown",
   "metadata": {},
   "source": [
    "### Import das bibliotecas utilizadas"
   ]
  },
  {
   "cell_type": "code",
   "execution_count": 157,
   "metadata": {},
   "outputs": [],
   "source": [
    "import pandas as pd\n",
    "import numpy as np\n",
    "from sklearn.model_selection import train_test_split\n",
    "from sklearn.preprocessing import StandardScaler\n",
    "from sklearn.neighbors import KNeighborsClassifier\n",
    "from sklearn.metrics import classification_report, confusion_matrix, ConfusionMatrixDisplay\n",
    "import matplotlib.pyplot as plt\n",
    "import pickle\n",
    "from imblearn.over_sampling import SMOTE"
   ]
  },
  {
   "cell_type": "markdown",
   "metadata": {},
   "source": [
    "### Seleciona acelX, acelY, acelZ e atividade"
   ]
  },
  {
   "cell_type": "code",
   "execution_count": 173,
   "metadata": {},
   "outputs": [
    {
     "data": {
      "text/html": [
       "<div>\n",
       "<style scoped>\n",
       "    .dataframe tbody tr th:only-of-type {\n",
       "        vertical-align: middle;\n",
       "    }\n",
       "\n",
       "    .dataframe tbody tr th {\n",
       "        vertical-align: top;\n",
       "    }\n",
       "\n",
       "    .dataframe thead th {\n",
       "        text-align: right;\n",
       "    }\n",
       "</style>\n",
       "<table border=\"1\" class=\"dataframe\">\n",
       "  <thead>\n",
       "    <tr style=\"text-align: right;\">\n",
       "      <th></th>\n",
       "      <th>acelX</th>\n",
       "      <th>acelY</th>\n",
       "      <th>acelZ</th>\n",
       "      <th>idTipoMovimento</th>\n",
       "    </tr>\n",
       "  </thead>\n",
       "  <tbody>\n",
       "    <tr>\n",
       "      <th>0</th>\n",
       "      <td>3465.0</td>\n",
       "      <td>-2115.0</td>\n",
       "      <td>986.0</td>\n",
       "      <td>Andando</td>\n",
       "    </tr>\n",
       "    <tr>\n",
       "      <th>1</th>\n",
       "      <td>3131.0</td>\n",
       "      <td>-1980.0</td>\n",
       "      <td>418.0</td>\n",
       "      <td>Andando</td>\n",
       "    </tr>\n",
       "    <tr>\n",
       "      <th>2</th>\n",
       "      <td>1438.0</td>\n",
       "      <td>-588.0</td>\n",
       "      <td>3494.0</td>\n",
       "      <td>Andando</td>\n",
       "    </tr>\n",
       "    <tr>\n",
       "      <th>3</th>\n",
       "      <td>1281.0</td>\n",
       "      <td>-326.0</td>\n",
       "      <td>4320.0</td>\n",
       "      <td>Andando</td>\n",
       "    </tr>\n",
       "    <tr>\n",
       "      <th>4</th>\n",
       "      <td>1365.0</td>\n",
       "      <td>-840.0</td>\n",
       "      <td>2588.0</td>\n",
       "      <td>Andando</td>\n",
       "    </tr>\n",
       "    <tr>\n",
       "      <th>...</th>\n",
       "      <td>...</td>\n",
       "      <td>...</td>\n",
       "      <td>...</td>\n",
       "      <td>...</td>\n",
       "    </tr>\n",
       "    <tr>\n",
       "      <th>1687</th>\n",
       "      <td>2264.0</td>\n",
       "      <td>-816.0</td>\n",
       "      <td>2951.0</td>\n",
       "      <td>Andando</td>\n",
       "    </tr>\n",
       "    <tr>\n",
       "      <th>1688</th>\n",
       "      <td>2994.0</td>\n",
       "      <td>-2699.0</td>\n",
       "      <td>317.0</td>\n",
       "      <td>Andando</td>\n",
       "    </tr>\n",
       "    <tr>\n",
       "      <th>1689</th>\n",
       "      <td>3084.0</td>\n",
       "      <td>-1936.0</td>\n",
       "      <td>-443.0</td>\n",
       "      <td>Andando</td>\n",
       "    </tr>\n",
       "    <tr>\n",
       "      <th>1690</th>\n",
       "      <td>-3316.0</td>\n",
       "      <td>1776.0</td>\n",
       "      <td>1006.0</td>\n",
       "      <td>Andando</td>\n",
       "    </tr>\n",
       "    <tr>\n",
       "      <th>1691</th>\n",
       "      <td>2232.0</td>\n",
       "      <td>16548.0</td>\n",
       "      <td>-484.0</td>\n",
       "      <td>Andando</td>\n",
       "    </tr>\n",
       "  </tbody>\n",
       "</table>\n",
       "<p>1692 rows × 4 columns</p>\n",
       "</div>"
      ],
      "text/plain": [
       "       acelX    acelY   acelZ idTipoMovimento\n",
       "0     3465.0  -2115.0   986.0         Andando\n",
       "1     3131.0  -1980.0   418.0         Andando\n",
       "2     1438.0   -588.0  3494.0         Andando\n",
       "3     1281.0   -326.0  4320.0         Andando\n",
       "4     1365.0   -840.0  2588.0         Andando\n",
       "...      ...      ...     ...             ...\n",
       "1687  2264.0   -816.0  2951.0         Andando\n",
       "1688  2994.0  -2699.0   317.0         Andando\n",
       "1689  3084.0  -1936.0  -443.0         Andando\n",
       "1690 -3316.0   1776.0  1006.0         Andando\n",
       "1691  2232.0  16548.0  -484.0         Andando\n",
       "\n",
       "[1692 rows x 4 columns]"
      ]
     },
     "execution_count": 173,
     "metadata": {},
     "output_type": "execute_result"
    }
   ],
   "source": [
    "df_andando = pd.read_csv(\"C:\\\\classificador-de-padroes-de-mobilidade\\\\dataset\\\\raw\\\\Andando-PausasNãoMarcadas.csv\")\n",
    "df_correndo = pd.read_excel(\"C:\\\\classificador-de-padroes-de-mobilidade\\\\dataset\\\\raw\\\\Todas_as_Corridas.xlsx\")\n",
    "df_caindo = pd.read_excel(\"C:\\\\classificador-de-padroes-de-mobilidade\\\\dataset\\\\raw\\\\Todas_as_Quedas.xlsx\")\n",
    "\n",
    "colunas_selecionadas = ['acelX', 'acelY', 'acelZ', 'idTipoMovimento']\n",
    "\n",
    "df_andando   = df_andando[colunas_selecionadas]\n",
    "df_correndo  = df_correndo[colunas_selecionadas]\n",
    "df_caindo    = df_caindo[colunas_selecionadas]\n",
    "\n",
    "df_andando['idTipoMovimento'] = 'Andando'\n",
    "df_correndo['idTipoMovimento'] = 'Correndo'\n",
    "df_caindo['idTipoMovimento'] = 'Caindo'\n",
    "\n",
    "# Selecionando somente as 500 primeiras linhas de cada dataset\n",
    "# df_andando   = df_andando.head(500)\n",
    "# df_caindo    = df_caindo.head(500)\n",
    "# df_correndo  = df_correndo.head(500)"
   ]
  },
  {
   "cell_type": "markdown",
   "metadata": {},
   "source": [
    "### Mensurar volume do dataset"
   ]
  },
  {
   "cell_type": "code",
   "execution_count": 159,
   "metadata": {},
   "outputs": [
    {
     "data": {
      "image/png": "[encoded data removed]",
      "text/plain": [
       "<Figure size 640x480 with 1 Axes>"
      ]
     },
     "metadata": {},
     "output_type": "display_data"
    }
   ],
   "source": [
    "id_andando  = df_andando['idTipoMovimento'][0]\n",
    "id_correndo = df_correndo['idTipoMovimento'][0]\n",
    "id_caindo   = df_caindo['idTipoMovimento'][0]\n",
    "\n",
    "eixo_x = [id_andando, id_correndo, id_caindo]\n",
    "contagem = [len(df_andando),len(df_correndo),len(df_caindo)]\n",
    "cores_barras = ['blue','orange','red']\n",
    "legenda_barras = ['andando','correndo','caindo']\n",
    "\n",
    "fig, ax = plt.subplots()\n",
    "\n",
    "bar_container = ax.bar(eixo_x, contagem, label=legenda_barras, color=cores_barras)\n",
    "ax.bar_label(bar_container, fmt='{:.0f}')\n",
    "ax.set_title('Volume do dataset x Mobilidade')\n",
    "# ax.set_xlabel('Mobilidade')\n",
    "ax.set_ylabel('Volume')\n",
    "# ax.legend()\n",
    "plt.yticks([]) # Remover escala do eixo y\n",
    "plt.xticks(eixo_x)\n",
    "plt.savefig('C:\\\\classificador-de-padroes-de-mobilidade\\\\results\\\\graphs\\\\volume_dataset_por_mobilidade.png')\n",
    "plt.show()"
   ]
  },
  {
   "cell_type": "markdown",
   "metadata": {},
   "source": [
    "### Adiciona cálculo da magnitude da aceleração"
   ]
  },
  {
   "cell_type": "code",
   "execution_count": 160,
   "metadata": {},
   "outputs": [],
   "source": [
    "df_andando['MAGNITUDE_ACEL']   = np.sqrt(df_andando['acelX']**2 + df_andando['acelY']**2 + df_andando['acelZ']**2)\n",
    "df_correndo['MAGNITUDE_ACEL']  = np.sqrt(df_correndo['acelX']**2 + df_correndo['acelY']**2 + df_correndo['acelZ']**2)\n",
    "df_caindo['MAGNITUDE_ACEL']    = np.sqrt(df_caindo['acelX']**2 + df_caindo['acelY']**2 + df_caindo['acelZ']**2)\n"
   ]
  },
  {
   "cell_type": "markdown",
   "metadata": {},
   "source": [
    "### Treinamento e teste do modelo (andando e correndo)"
   ]
  },
  {
   "cell_type": "code",
   "execution_count": 105,
   "metadata": {},
   "outputs": [],
   "source": [
    "# df_andando_e_correndo = pd.concat([df_andando, df_correndo])\n",
    "\n",
    "# X_train, X_test, y_train, y_test = train_test_split(df_andando_e_correndo[['acelX', 'acelY', 'acelZ', 'MAGNITUDE_ACEL']], df_andando_e_correndo['idTipoMovimento'], test_size=0.2, random_state=42)\n",
    "\n",
    "# scaler = StandardScaler()\n",
    "# X_train = scaler.fit_transform(X_train)\n",
    "# X_test = scaler.transform(X_test)\n",
    "\n",
    "# knn = KNeighborsClassifier(n_neighbors=3)\n",
    "# knn.fit(X_train, y_train)\n",
    "\n",
    "# y_pred = knn.predict(X_test)\n",
    "\n",
    "# print(confusion_matrix(y_test, y_pred))\n",
    "# print(classification_report(y_test, y_pred))\n",
    "\n",
    "# cm = confusion_matrix(y_test, y_pred)\n",
    "\n",
    "# disp = ConfusionMatrixDisplay(confusion_matrix=cm)\n",
    "# disp.plot()\n",
    "# plt.savefig('C:\\\\classificador-de-padroes-de-mobilidade\\\\results\\\\graphs\\\\knn_matriz_confusao_andando_correndo.png', dpi=300, bbox_inches='tight')"
   ]
  },
  {
   "cell_type": "markdown",
   "metadata": {},
   "source": [
    "### Treinamento e teste do modelo (andando e caindo)"
   ]
  },
  {
   "cell_type": "code",
   "execution_count": 106,
   "metadata": {},
   "outputs": [],
   "source": [
    "# df_andando_e_caindo = pd.concat([df_andando, df_caindo])\n",
    "\n",
    "# X_train, X_test, y_train, y_test = train_test_split(df_andando_e_caindo[['acelX', 'acelY', 'acelZ', 'MAGNITUDE_ACEL']], df_andando_e_caindo['idTipoMovimento'], test_size=0.2, random_state=42)\n",
    "\n",
    "# scaler = StandardScaler()\n",
    "# X_train = scaler.fit_transform(X_train)\n",
    "# X_test = scaler.transform(X_test)\n",
    "\n",
    "# knn = KNeighborsClassifier(n_neighbors=3)\n",
    "# knn.fit(X_train, y_train)\n",
    "\n",
    "# y_pred = knn.predict(X_test)\n",
    "\n",
    "# print(confusion_matrix(y_test, y_pred))\n",
    "# print(classification_report(y_test, y_pred))\n",
    "\n",
    "# cm = confusion_matrix(y_test, y_pred)\n",
    "\n",
    "# disp = ConfusionMatrixDisplay(confusion_matrix=cm)\n",
    "# disp.plot()\n",
    "# plt.savefig('C:\\\\classificador-de-padroes-de-mobilidade\\\\results\\\\graphs\\\\knn_matriz_confusao_andando_caindo.png', dpi=300, bbox_inches='tight')"
   ]
  },
  {
   "cell_type": "markdown",
   "metadata": {},
   "source": [
    "### Treinamento e teste do modelo (correndo e caindo)"
   ]
  },
  {
   "cell_type": "code",
   "execution_count": 107,
   "metadata": {},
   "outputs": [],
   "source": [
    "# df_correndo_e_caindo = pd.concat([df_correndo, df_caindo])\n",
    "\n",
    "# X_train, X_test, y_train, y_test = train_test_split(df_correndo_e_caindo[['acelX', 'acelY', 'acelZ', 'MAGNITUDE_ACEL']], df_correndo_e_caindo['idTipoMovimento'], test_size=0.2, random_state=42)\n",
    "\n",
    "# scaler = StandardScaler()\n",
    "# X_train = scaler.fit_transform(X_train)\n",
    "# X_test = scaler.transform(X_test)\n",
    "\n",
    "# knn = KNeighborsClassifier(n_neighbors=7)\n",
    "# knn.fit(X_train, y_train)\n",
    "\n",
    "# y_pred = knn.predict(X_test)\n",
    "\n",
    "# print(confusion_matrix(y_test, y_pred))\n",
    "# print(classification_report(y_test, y_pred))\n",
    "\n",
    "# cm = confusion_matrix(y_test, y_pred)\n",
    "\n",
    "# disp = ConfusionMatrixDisplay(confusion_matrix=cm)\n",
    "# disp.plot()\n",
    "# plt.savefig('C:\\\\classificador-de-padroes-de-mobilidade\\\\results\\\\graphs\\\\knn_matriz_confusao_correndo_caindo.png', dpi=300, bbox_inches='tight')"
   ]
  },
  {
   "cell_type": "markdown",
   "metadata": {},
   "source": [
    "### Treinamento e teste do modelo (todas as mobilidades)"
   ]
  },
  {
   "cell_type": "code",
   "execution_count": 171,
   "metadata": {},
   "outputs": [
    {
     "name": "stdout",
     "output_type": "stream",
     "text": [
      "[[345   2   0]\n",
      " [  5  70  19]\n",
      " [  3  23  73]]\n",
      "              precision    recall  f1-score   support\n",
      "\n",
      "     Andando       0.98      0.99      0.99       347\n",
      "      Caindo       0.74      0.74      0.74        94\n",
      "    Correndo       0.79      0.74      0.76        99\n",
      "\n",
      "    accuracy                           0.90       540\n",
      "   macro avg       0.84      0.83      0.83       540\n",
      "weighted avg       0.90      0.90      0.90       540\n",
      "\n"
     ]
    },
    {
     "data": {
      "image/png": "[encoded data removed]",
      "text/plain": [
       "<Figure size 640x480 with 2 Axes>"
      ]
     },
     "metadata": {},
     "output_type": "display_data"
    }
   ],
   "source": [
    "df_todos_os_movimentos = pd.concat([df_andando, df_correndo, df_caindo])\n",
    "\n",
    "X_train, X_test, y_train, y_test = train_test_split(df_todos_os_movimentos[['acelX', 'acelY', 'acelZ','MAGNITUDE_ACEL']], df_todos_os_movimentos['idTipoMovimento'], test_size=0.2, random_state=42)\n",
    "\n",
    "scaler = StandardScaler()\n",
    "X_train = scaler.fit_transform(X_train)\n",
    "X_test = scaler.transform(X_test)\n",
    "\n",
    "knn = KNeighborsClassifier(n_neighbors=7)\n",
    "knn.fit(X_train, y_train)\n",
    "\n",
    "y_pred = knn.predict(X_test)\n",
    "\n",
    "print(confusion_matrix(y_test, y_pred))\n",
    "print(classification_report(y_test, y_pred))\n",
    "\n",
    "cm = confusion_matrix(y_test, y_pred)\n",
    "\n",
    "disp = ConfusionMatrixDisplay(confusion_matrix=cm)\n",
    "disp.plot()\n",
    "plt.savefig('C:\\\\classificador-de-padroes-de-mobilidade\\\\results\\\\graphs\\\\knn_matriz_confusao_todos_os_movimentos.png', dpi=300, bbox_inches='tight')\n",
    "\n",
    "with open('modelos/knn_model.pkl', 'wb') as file:\n",
    "    pickle.dump(knn, file)"
   ]
  },
  {
   "cell_type": "code",
   "execution_count": 170,
   "metadata": {},
   "outputs": [
    {
     "name": "stderr",
     "output_type": "stream",
     "text": [
      "c:\\Users\\julia\\anaconda3\\Lib\\site-packages\\sklearn\\base.py:432: UserWarning: X has feature names, but KNeighborsClassifier was fitted without feature names\n",
      "  warnings.warn(\n"
     ]
    },
    {
     "name": "stdout",
     "output_type": "stream",
     "text": [
      "Previsões:  ['Caindo' 'Caindo' 'Correndo' ... 'Caindo' 'Correndo' 'Caindo']\n",
      "Previsões salvas no arquivo 'predicoes.txt'\n"
     ]
    }
   ],
   "source": [
    "df_teste_modelo = df_todos_os_movimentos\n",
    "df_teste_modelo = df_teste_modelo.drop(columns=['idTipoMovimento'])\n",
    "    \n",
    "with open('modelos/knn_model.pkl', 'rb') as file:\n",
    "    knn_loaded = pickle.load(file)\n",
    "    \n",
    "X_test = df_teste_modelo\n",
    "\n",
    "y_pred = knn_loaded.predict(X_test)\n",
    "\n",
    "print(\"Previsões: \", y_pred)\n",
    "\n",
    "with open('predicoes/knn_predicoes.txt', 'w') as f:\n",
    "    for pred in y_pred:\n",
    "        f.write(f\"{pred}\\n\")\n",
    "\n",
    "print(\"Previsões salvas no arquivo 'predicoes/knn_predicoes.txt'\")"
   ]
  }
 ],
 "metadata": {
  "kernelspec": {
   "display_name": "base",
   "language": "python",
   "name": "python3"
  },
  "language_info": {
   "codemirror_mode": {
    "name": "ipython",
    "version": 3
   },
   "file_extension": ".py",
   "mimetype": "text/x-python",
   "name": "python",
   "nbconvert_exporter": "python",
   "pygments_lexer": "ipython3",
   "version": "3.11.7"
  }
 },
 "nbformat": 4,
 "nbformat_minor": 2
}
