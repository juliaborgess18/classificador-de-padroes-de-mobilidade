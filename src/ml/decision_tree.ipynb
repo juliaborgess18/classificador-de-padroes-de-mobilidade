{
 "cells": [
  {
   "cell_type": "markdown",
   "metadata": {},
   "source": [
    "### Import das bibliotecas utilizadas"
   ]
  },
  {
   "cell_type": "code",
   "execution_count": 22,
   "metadata": {},
   "outputs": [],
   "source": [
    "import pandas as pd\n",
    "import numpy as np\n",
    "from sklearn.model_selection import train_test_split\n",
    "from sklearn.preprocessing import StandardScaler\n",
    "from sklearn.tree import DecisionTreeClassifier\n",
    "from sklearn.metrics import classification_report, confusion_matrix, ConfusionMatrixDisplay\n",
    "import matplotlib.pyplot as plt\n",
    "import pickle\n",
    "from joblib import dump, load"
   ]
  },
  {
   "cell_type": "markdown",
   "metadata": {},
   "source": [
    "### Seleciona acelX, acelY, acelZ e atividade"
   ]
  },
  {
   "cell_type": "code",
   "execution_count": 23,
   "metadata": {},
   "outputs": [],
   "source": [
    "df_andando = pd.read_csv(\"C:\\\\classificador-de-padroes-de-mobilidade\\\\dataset\\\\raw\\\\Andando-PausasNãoMarcadas.csv\")\n",
    "df_correndo = pd.read_excel(\"C:\\\\classificador-de-padroes-de-mobilidade\\\\dataset\\\\raw\\\\Todas_as_Corridas.xlsx\")\n",
    "df_caindo = pd.read_excel(\"C:\\\\classificador-de-padroes-de-mobilidade\\\\dataset\\\\raw\\\\Todas_as_Quedas.xlsx\")\n",
    "\n",
    "colunas_selecionadas = ['acelX', 'acelY', 'acelZ', 'idTipoMovimento']\n",
    "\n",
    "df_andando   = df_andando[colunas_selecionadas]\n",
    "df_caindo    = df_caindo[colunas_selecionadas]\n",
    "df_correndo  = df_correndo[colunas_selecionadas]\n",
    "\n",
    "# df_andando['idTipoMovimento'] = 'Andando'\n",
    "# df_correndo['idTipoMovimento'] = 'Correndo'\n",
    "# df_caindo['idTipoMovimento'] = 'Caindo'\n",
    "\n",
    "# Selecionando somente as 500 primeiras linhas de cada dataset\n",
    "# df_andando   = df_andando.head(500)\n",
    "# df_caindo    = df_caindo.head(500)\n",
    "# df_correndo  = df_correndo.head(500)"
   ]
  },
  {
   "cell_type": "markdown",
   "metadata": {},
   "source": [
    "### Mensurar volume do dataset"
   ]
  },
  {
   "cell_type": "code",
   "execution_count": 24,
   "metadata": {},
   "outputs": [
    {
     "data": {
      "image/png": "[encoded data removed]",
      "text/plain": [
       "<Figure size 640x480 with 1 Axes>"
      ]
     },
     "metadata": {},
     "output_type": "display_data"
    }
   ],
   "source": [
    "id_andando  = df_andando['idTipoMovimento'][0]\n",
    "id_correndo = df_correndo['idTipoMovimento'][0]\n",
    "id_caindo   = df_caindo['idTipoMovimento'][0]\n",
    "\n",
    "eixo_x = [id_andando, id_correndo, id_caindo]\n",
    "contagem = [len(df_andando),len(df_correndo),len(df_caindo)]\n",
    "cores_barras = ['blue','orange','red']\n",
    "legenda_barras = ['andando','correndo','caindo']\n",
    "\n",
    "fig, ax = plt.subplots()\n",
    "\n",
    "bar_container = ax.bar(eixo_x, contagem, label=legenda_barras, color=cores_barras)\n",
    "ax.bar_label(bar_container, fmt='{:.0f}')\n",
    "ax.set_title('Volume do dataset x Mobilidade')\n",
    "# ax.set_xlabel('Mobilidade')\n",
    "ax.set_ylabel('Volume')\n",
    "# ax.legend()\n",
    "plt.yticks([]) # Remover escala do eixo y\n",
    "plt.xticks(eixo_x)\n",
    "plt.savefig('C:\\\\classificador-de-padroes-de-mobilidade\\\\results\\\\graphs\\\\volume_dataset_por_mobilidade.png')\n",
    "plt.show()"
   ]
  },
  {
   "cell_type": "markdown",
   "metadata": {},
   "source": [
    "### Adiciona cálculo da magnitude da aceleração"
   ]
  },
  {
   "cell_type": "code",
   "execution_count": 25,
   "metadata": {},
   "outputs": [],
   "source": [
    "df_andando['MAGNITUDE_ACEL']   = np.sqrt(df_andando['acelX']**2 + df_andando['acelY']**2 + df_andando['acelZ']**2)\n",
    "df_correndo['MAGNITUDE_ACEL']  = np.sqrt(df_correndo['acelX']**2 + df_correndo['acelY']**2 + df_correndo['acelZ']**2)\n",
    "df_caindo['MAGNITUDE_ACEL']    = np.sqrt(df_caindo['acelX']**2 + df_caindo['acelY']**2 + df_caindo['acelZ']**2)\n"
   ]
  },
  {
   "cell_type": "markdown",
   "metadata": {},
   "source": [
    "### Treinamento e teste do modelo (andando e correndo)"
   ]
  },
  {
   "cell_type": "code",
   "execution_count": 26,
   "metadata": {},
   "outputs": [],
   "source": [
    "# df_andando_e_correndo = pd.concat([df_andando, df_correndo])\n",
    "\n",
    "# X_train, X_test, y_train, y_test = train_test_split(df_andando_e_correndo[['acelX', 'acelY', 'acelZ', 'MAGNITUDE_ACEL']], df_andando_e_correndo['idTipoMovimento'], test_size=0.2, random_state=42)\n",
    "\n",
    "# scaler = StandardScaler()\n",
    "# X_train = scaler.fit_transform(X_train)\n",
    "# X_test = scaler.transform(X_test)\n",
    "\n",
    "# tree = DecisionTreeClassifier(random_state=42)\n",
    "# tree.fit(X_train, y_train)\n",
    "\n",
    "# y_pred = tree.predict(X_test)\n",
    "\n",
    "# print(confusion_matrix(y_test, y_pred))\n",
    "# print(classification_report(y_test, y_pred))\n",
    "\n",
    "# cm = confusion_matrix(y_test, y_pred)\n",
    "\n",
    "# disp = ConfusionMatrixDisplay(confusion_matrix=cm)\n",
    "# disp.plot()\n",
    "# plt.savefig('C:\\\\classificador-de-padroes-de-mobilidade\\\\results\\\\graphs\\\\dt_matriz_confusao_andando_correndo.png', dpi=300, bbox_inches='tight')"
   ]
  },
  {
   "cell_type": "markdown",
   "metadata": {},
   "source": [
    "### Treinamento e teste do modelo (andando e caindo)"
   ]
  },
  {
   "cell_type": "code",
   "execution_count": 27,
   "metadata": {},
   "outputs": [],
   "source": [
    "# df_andando_e_caindo = pd.concat([df_andando, df_caindo])\n",
    "\n",
    "# X_train, X_test, y_train, y_test = train_test_split(df_andando_e_caindo[['acelX', 'acelY', 'acelZ', 'MAGNITUDE_ACEL']], df_andando_e_caindo['idTipoMovimento'], test_size=0.2, random_state=42)\n",
    "\n",
    "# scaler = StandardScaler()\n",
    "# X_train = scaler.fit_transform(X_train)\n",
    "# X_test = scaler.transform(X_test)\n",
    "\n",
    "# tree = DecisionTreeClassifier(random_state=42)\n",
    "# tree.fit(X_train, y_train)\n",
    "\n",
    "# y_pred = tree.predict(X_test)\n",
    "\n",
    "# print(confusion_matrix(y_test, y_pred))\n",
    "# print(classification_report(y_test, y_pred))\n",
    "\n",
    "# cm = confusion_matrix(y_test, y_pred)\n",
    "\n",
    "# disp = ConfusionMatrixDisplay(confusion_matrix=cm)\n",
    "# disp.plot()\n",
    "# plt.savefig('C:\\\\classificador-de-padroes-de-mobilidade\\\\results\\\\graphs\\\\dt_matriz_confusao_andando_caindo.png', dpi=300, bbox_inches='tight')"
   ]
  },
  {
   "cell_type": "markdown",
   "metadata": {},
   "source": [
    "### Treinamento e teste do modelo (correndo e caindo)"
   ]
  },
  {
   "cell_type": "code",
   "execution_count": 28,
   "metadata": {},
   "outputs": [],
   "source": [
    "# df_correndo_e_caindo = pd.concat([df_correndo, df_caindo])\n",
    "\n",
    "# X_train, X_test, y_train, y_test = train_test_split(df_correndo_e_caindo[['acelX', 'acelY', 'acelZ', 'MAGNITUDE_ACEL']], df_correndo_e_caindo['idTipoMovimento'], test_size=0.2, random_state=42)\n",
    "\n",
    "# scaler = StandardScaler()\n",
    "# X_train = scaler.fit_transform(X_train)\n",
    "# X_test = scaler.transform(X_test)\n",
    "\n",
    "# tree = DecisionTreeClassifier(random_state=42)\n",
    "# tree.fit(X_train, y_train)\n",
    "\n",
    "# y_pred = tree.predict(X_test)\n",
    "\n",
    "# print(confusion_matrix(y_test, y_pred))\n",
    "# print(classification_report(y_test, y_pred))\n",
    "\n",
    "# cm = confusion_matrix(y_test, y_pred)\n",
    "\n",
    "# disp = ConfusionMatrixDisplay(confusion_matrix=cm)\n",
    "# disp.plot()\n",
    "# plt.savefig('C:\\\\classificador-de-padroes-de-mobilidade\\\\results\\\\graphs\\\\dt_matriz_confusao_correndo_e_caindo.png', dpi=300, bbox_inches='tight')"
   ]
  },
  {
   "cell_type": "markdown",
   "metadata": {},
   "source": [
    "### Treinamento e teste do modelo (todos os movimentos)"
   ]
  },
  {
   "cell_type": "code",
   "execution_count": 29,
   "metadata": {},
   "outputs": [
    {
     "name": "stdout",
     "output_type": "stream",
     "text": [
      "[[ 76   2  21]\n",
      " [  2 338   7]\n",
      " [ 21   5  68]]\n",
      "              precision    recall  f1-score   support\n",
      "\n",
      "           1       0.77      0.77      0.77        99\n",
      "           2       0.98      0.97      0.98       347\n",
      "           3       0.71      0.72      0.72        94\n",
      "\n",
      "    accuracy                           0.89       540\n",
      "   macro avg       0.82      0.82      0.82       540\n",
      "weighted avg       0.89      0.89      0.89       540\n",
      "\n"
     ]
    },
    {
     "data": {
      "image/png": "[encoded data removed]",
      "text/plain": [
       "<Figure size 640x480 with 2 Axes>"
      ]
     },
     "metadata": {},
     "output_type": "display_data"
    }
   ],
   "source": [
    "df_todos_os_movimentos = pd.concat([df_andando,df_correndo, df_caindo])\n",
    "\n",
    "X_train, X_test, y_train, y_test = train_test_split(df_todos_os_movimentos[['acelX', 'acelY', 'acelZ', 'MAGNITUDE_ACEL']], df_todos_os_movimentos['idTipoMovimento'], test_size=0.2, random_state=42)\n",
    "\n",
    "scaler = StandardScaler()\n",
    "X_train = scaler.fit_transform(X_train)\n",
    "X_test = scaler.transform(X_test)\n",
    "\n",
    "tree = DecisionTreeClassifier(random_state=42)\n",
    "tree.fit(X_train, y_train)\n",
    "\n",
    "y_pred = tree.predict(X_test)\n",
    "\n",
    "print(confusion_matrix(y_test, y_pred))\n",
    "print(classification_report(y_test, y_pred))\n",
    "\n",
    "cm = confusion_matrix(y_test, y_pred)\n",
    "\n",
    "disp = ConfusionMatrixDisplay(confusion_matrix=cm)\n",
    "disp.plot()\n",
    "plt.savefig('C:\\\\classificador-de-padroes-de-mobilidade\\\\results\\\\graphs\\\\dt_matriz_confusao_todos_os_movimentos.png', dpi=300, bbox_inches='tight')\n",
    "\n",
    "with open('modelos/dt_model.joblib', 'wb') as file:\n",
    "    dump(tree, file)"
   ]
  },
  {
   "cell_type": "code",
   "execution_count": 30,
   "metadata": {},
   "outputs": [
    {
     "name": "stdout",
     "output_type": "stream",
     "text": [
      "Previsões:  [3 3 3 ... 3 1 3]\n",
      "Previsões salvas no arquivo 'predicoes/dt_predicoes.txt'\n"
     ]
    },
    {
     "name": "stderr",
     "output_type": "stream",
     "text": [
      "c:\\Users\\julia\\anaconda3\\Lib\\site-packages\\sklearn\\base.py:432: UserWarning: X has feature names, but DecisionTreeClassifier was fitted without feature names\n",
      "  warnings.warn(\n"
     ]
    }
   ],
   "source": [
    "df_teste_modelo = df_todos_os_movimentos\n",
    "df_teste_modelo = df_teste_modelo.drop(columns=['idTipoMovimento'])\n",
    "    \n",
    "with open('modelos/dt_model.joblib', 'rb') as file:\n",
    "    dt_loaded = load(file)\n",
    "    \n",
    "X_test = df_teste_modelo\n",
    "\n",
    "y_pred = dt_loaded.predict(X_test)\n",
    "\n",
    "print(\"Previsões: \", y_pred)\n",
    "\n",
    "with open('predicoes/dt_predicoes.txt', 'w') as f:\n",
    "    for pred in y_pred:\n",
    "        f.write(f\"{pred}\\n\")\n",
    "\n",
    "print(\"Previsões salvas no arquivo 'predicoes/dt_predicoes.txt'\")"
   ]
  }
 ],
 "metadata": {
  "kernelspec": {
   "display_name": "base",
   "language": "python",
   "name": "python3"
  },
  "language_info": {
   "codemirror_mode": {
    "name": "ipython",
    "version": 3
   },
   "file_extension": ".py",
   "mimetype": "text/x-python",
   "name": "python",
   "nbconvert_exporter": "python",
   "pygments_lexer": "ipython3",
   "version": "3.11.7"
  }
 },
 "nbformat": 4,
 "nbformat_minor": 2
}
