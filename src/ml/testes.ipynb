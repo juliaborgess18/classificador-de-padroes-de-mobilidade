{
 "cells": [
  {
   "cell_type": "markdown",
   "metadata": {},
   "source": [
    "### Import das bibliotecas utilizadas"
   ]
  },
  {
   "cell_type": "code",
   "execution_count": 59,
   "metadata": {},
   "outputs": [],
   "source": [
    "import pandas as pd \n",
    "import pickle\n",
    "import matplotlib.pyplot as plt\n",
    "import numpy as np"
   ]
  },
  {
   "cell_type": "markdown",
   "metadata": {},
   "source": [
    "### Seleciona acelX, acelY, acelZ e atividade"
   ]
  },
  {
   "cell_type": "code",
   "execution_count": 53,
   "metadata": {},
   "outputs": [],
   "source": [
    "df = pd.read_excel(\"C:\\\\classificador-de-padroes-de-mobilidade\\\\dataset\\\\raw\\\\Comparativo_Alterado.xlsx\")\n",
    "df = df.rename(columns={\"angle(X,gravityMean)\":\"acelX\", \"angle(Y,gravityMean)\":\"acelY\", \"angle(Z,gravityMean)\":\"acelZ\", \"Activity\":\"idTipoMovimento\"})\n",
    "filtro  = df['idTipoMovimento'] == \"WALKING\"\n",
    "df = df[filtro]\n",
    "df['idTipoMovimento'] = \"Andando\"\n",
    "\n",
    "colunas_selecionadas = ['acelX', 'acelY', 'acelZ', 'idTipoMovimento']\n",
    "\n",
    "df_andando = df[colunas_selecionadas]"
   ]
  },
  {
   "cell_type": "markdown",
   "metadata": {},
   "source": [
    "### Mensurar volume do dataset"
   ]
  },
  {
   "cell_type": "code",
   "execution_count": 58,
   "metadata": {},
   "outputs": [
    {
     "data": {
      "image/png": "[encoded data removed]",
      "text/plain": [
       "<Figure size 640x480 with 1 Axes>"
      ]
     },
     "metadata": {},
     "output_type": "display_data"
    }
   ],
   "source": [
    "id_andando  = df_andando['idTipoMovimento']\n",
    "\n",
    "eixo_x = id_andando\n",
    "contagem = len(df_andando)\n",
    "cores_barras = 'blue'\n",
    "legenda_barras = 'andando'\n",
    "\n",
    "fig, ax = plt.subplots()\n",
    "\n",
    "bar_container = ax.bar(eixo_x, contagem, label=legenda_barras, color=cores_barras)\n",
    "ax.bar_label(bar_container, fmt='{:.0f}')\n",
    "ax.set_title('Volume do dataset x Mobilidade')\n",
    "# ax.set_xlabel('Mobilidade')\n",
    "ax.set_ylabel('Volume')\n",
    "# ax.legend()\n",
    "plt.yticks([]) # Remover escala do eixo y\n",
    "plt.xticks(eixo_x)\n",
    "plt.savefig('C:\\\\classificador-de-padroes-de-mobilidade\\\\results\\\\graphs\\\\volume_dataset_comparativo_por_mobilidade.png')\n",
    "plt.show()"
   ]
  },
  {
   "cell_type": "markdown",
   "metadata": {},
   "source": [
    "### Adiciona cálculo da magnitude da aceleração"
   ]
  },
  {
   "cell_type": "code",
   "execution_count": 60,
   "metadata": {},
   "outputs": [],
   "source": [
    "df_andando['MAGNITUDE_ACEL']   = np.sqrt(df_andando['acelX']**2 + df_andando['acelY']**2 + df_andando['acelZ']**2)"
   ]
  },
  {
   "cell_type": "markdown",
   "metadata": {},
   "source": [
    "### Teste do modelo"
   ]
  },
  {
   "cell_type": "code",
   "execution_count": 62,
   "metadata": {},
   "outputs": [
    {
     "name": "stdout",
     "output_type": "stream",
     "text": [
      "Previsões:  ['Andando' 'Andando' 'Andando' 'Andando' 'Andando' 'Andando' 'Andando'\n",
      " 'Andando' 'Andando' 'Andando' 'Andando' 'Andando' 'Andando' 'Andando'\n",
      " 'Andando' 'Andando' 'Andando' 'Andando' 'Andando' 'Andando' 'Andando'\n",
      " 'Andando' 'Andando' 'Andando' 'Andando' 'Andando' 'Andando' 'Andando'\n",
      " 'Andando' 'Andando' 'Andando' 'Andando' 'Andando' 'Andando' 'Andando'\n",
      " 'Andando' 'Andando' 'Andando' 'Andando' 'Andando' 'Andando' 'Andando'\n",
      " 'Andando' 'Andando' 'Andando' 'Andando' 'Andando' 'Andando' 'Andando'\n",
      " 'Andando' 'Andando' 'Andando' 'Andando' 'Andando' 'Andando' 'Andando'\n",
      " 'Andando' 'Andando' 'Andando' 'Andando' 'Andando' 'Andando' 'Andando'\n",
      " 'Andando' 'Andando' 'Andando' 'Andando' 'Andando' 'Andando' 'Andando'\n",
      " 'Andando' 'Andando' 'Andando' 'Andando' 'Andando' 'Andando' 'Andando'\n",
      " 'Andando' 'Andando' 'Andando' 'Andando' 'Andando' 'Andando' 'Andando'\n",
      " 'Andando' 'Andando' 'Andando' 'Andando' 'Andando' 'Andando' 'Andando'\n",
      " 'Andando' 'Andando' 'Andando' 'Andando' 'Andando' 'Andando' 'Andando'\n",
      " 'Andando' 'Andando' 'Andando' 'Andando' 'Andando' 'Andando' 'Andando'\n",
      " 'Andando' 'Andando' 'Andando' 'Andando' 'Andando' 'Andando' 'Andando'\n",
      " 'Andando' 'Andando' 'Andando' 'Andando' 'Andando' 'Andando' 'Andando'\n",
      " 'Andando' 'Andando' 'Andando' 'Andando' 'Andando' 'Andando' 'Andando'\n",
      " 'Andando' 'Andando' 'Andando' 'Andando' 'Andando' 'Andando' 'Andando'\n",
      " 'Andando' 'Andando' 'Andando' 'Andando' 'Andando' 'Andando' 'Andando'\n",
      " 'Andando' 'Andando' 'Andando' 'Andando' 'Andando' 'Caindo' 'Caindo'\n",
      " 'Caindo' 'Caindo' 'Caindo' 'Caindo' 'Caindo' 'Caindo' 'Caindo' 'Caindo'\n",
      " 'Caindo' 'Caindo' 'Caindo' 'Caindo' 'Caindo' 'Caindo' 'Caindo' 'Caindo'\n",
      " 'Caindo' 'Caindo' 'Caindo' 'Caindo' 'Caindo' 'Caindo' 'Caindo' 'Caindo'\n",
      " 'Andando' 'Andando' 'Andando' 'Andando' 'Andando' 'Andando' 'Andando'\n",
      " 'Andando' 'Andando' 'Andando' 'Andando' 'Andando' 'Andando' 'Andando'\n",
      " 'Andando' 'Andando' 'Andando' 'Andando' 'Andando' 'Andando' 'Andando'\n",
      " 'Andando' 'Andando' 'Andando' 'Andando' 'Andando' 'Andando' 'Andando'\n",
      " 'Andando' 'Andando' 'Andando' 'Andando' 'Andando' 'Andando' 'Andando'\n",
      " 'Andando' 'Andando' 'Andando' 'Andando' 'Andando' 'Andando' 'Andando'\n",
      " 'Andando' 'Andando' 'Andando' 'Andando' 'Andando' 'Andando' 'Andando'\n",
      " 'Andando' 'Andando' 'Andando' 'Andando' 'Andando' 'Andando' 'Andando'\n",
      " 'Andando' 'Andando' 'Andando' 'Andando' 'Andando' 'Andando' 'Andando'\n",
      " 'Andando' 'Andando' 'Andando' 'Andando' 'Andando' 'Andando' 'Andando'\n",
      " 'Andando' 'Andando' 'Andando' 'Andando' 'Andando' 'Andando' 'Andando'\n",
      " 'Andando' 'Andando' 'Andando' 'Andando' 'Andando' 'Andando' 'Andando'\n",
      " 'Andando' 'Andando' 'Andando' 'Andando' 'Andando' 'Andando' 'Andando'\n",
      " 'Andando' 'Andando' 'Andando' 'Andando' 'Andando' 'Andando' 'Andando'\n",
      " 'Andando' 'Andando' 'Andando' 'Andando' 'Andando' 'Caindo' 'Caindo'\n",
      " 'Caindo' 'Caindo' 'Caindo' 'Caindo' 'Caindo' 'Caindo' 'Caindo' 'Caindo'\n",
      " 'Caindo' 'Caindo' 'Caindo' 'Caindo' 'Caindo' 'Caindo' 'Caindo' 'Caindo'\n",
      " 'Caindo' 'Caindo' 'Caindo' 'Caindo' 'Caindo' 'Caindo' 'Caindo' 'Caindo'\n",
      " 'Caindo' 'Caindo' 'Caindo' 'Caindo' 'Andando' 'Andando' 'Andando'\n",
      " 'Andando' 'Andando' 'Andando' 'Andando' 'Andando' 'Andando' 'Andando'\n",
      " 'Andando' 'Andando' 'Andando' 'Andando' 'Andando' 'Andando' 'Andando'\n",
      " 'Andando' 'Andando' 'Andando' 'Andando' 'Andando' 'Andando' 'Andando'\n",
      " 'Andando' 'Andando' 'Andando' 'Andando' 'Andando' 'Andando' 'Andando'\n",
      " 'Andando' 'Andando' 'Andando' 'Andando' 'Andando' 'Andando' 'Andando'\n",
      " 'Andando' 'Andando' 'Andando' 'Andando' 'Andando' 'Andando' 'Andando'\n",
      " 'Andando' 'Andando' 'Andando' 'Andando' 'Andando' 'Andando' 'Andando'\n",
      " 'Andando' 'Andando' 'Andando' 'Andando' 'Caindo' 'Caindo' 'Caindo'\n",
      " 'Caindo' 'Caindo' 'Caindo' 'Caindo' 'Caindo' 'Caindo' 'Caindo' 'Caindo'\n",
      " 'Caindo' 'Caindo' 'Caindo' 'Caindo' 'Caindo' 'Caindo' 'Caindo' 'Caindo'\n",
      " 'Caindo' 'Caindo' 'Caindo' 'Caindo' 'Caindo' 'Caindo' 'Caindo' 'Caindo'\n",
      " 'Andando' 'Andando' 'Andando' 'Andando' 'Andando' 'Andando' 'Andando'\n",
      " 'Andando' 'Andando' 'Andando' 'Andando' 'Andando' 'Andando' 'Andando'\n",
      " 'Andando' 'Andando' 'Andando' 'Andando' 'Andando' 'Andando' 'Andando'\n",
      " 'Andando' 'Andando' 'Andando' 'Andando' 'Caindo' 'Caindo' 'Andando'\n",
      " 'Andando' 'Andando' 'Andando' 'Andando' 'Andando' 'Andando' 'Andando'\n",
      " 'Andando' 'Andando' 'Andando' 'Andando' 'Andando' 'Andando' 'Andando'\n",
      " 'Andando' 'Andando' 'Andando' 'Andando' 'Andando' 'Andando' 'Andando'\n",
      " 'Andando' 'Andando' 'Andando' 'Andando' 'Andando' 'Andando' 'Andando'\n",
      " 'Andando' 'Andando' 'Andando' 'Andando' 'Andando' 'Andando' 'Andando'\n",
      " 'Andando' 'Andando' 'Andando' 'Andando' 'Andando' 'Andando' 'Andando'\n",
      " 'Andando' 'Andando' 'Andando' 'Andando' 'Andando' 'Andando' 'Andando'\n",
      " 'Andando' 'Andando' 'Andando' 'Andando' 'Andando' 'Andando' 'Andando'\n",
      " 'Andando' 'Andando' 'Andando' 'Andando' 'Caindo' 'Caindo' 'Caindo'\n",
      " 'Andando' 'Andando' 'Andando' 'Andando' 'Andando' 'Andando' 'Andando'\n",
      " 'Andando' 'Andando' 'Andando' 'Andando' 'Andando' 'Andando' 'Andando'\n",
      " 'Andando' 'Andando' 'Andando' 'Andando']\n",
      "Previsões salvas no arquivo 'predicoes/dt_predicoes.txt'\n"
     ]
    },
    {
     "name": "stderr",
     "output_type": "stream",
     "text": [
      "c:\\Users\\julia\\anaconda3\\Lib\\site-packages\\sklearn\\base.py:432: UserWarning: X has feature names, but SVC was fitted without feature names\n",
      "  warnings.warn(\n"
     ]
    }
   ],
   "source": [
    "df_teste_modelo = df_andando\n",
    "df_teste_modelo = df_teste_modelo.drop(columns=['idTipoMovimento'])\n",
    "    \n",
    "with open('modelos/svm_model.pkl', 'rb') as file:\n",
    "    knn_loaded = pickle.load(file)\n",
    "    \n",
    "X_test = df_teste_modelo\n",
    "\n",
    "y_pred = knn_loaded.predict(X_test)\n",
    "\n",
    "print(\"Previsões: \", y_pred)\n",
    "\n",
    "with open('predicoes/svm_comparativo_predicoes.txt', 'w') as f:\n",
    "    for pred in y_pred:\n",
    "        f.write(f\"{pred}\\n\")\n",
    "\n",
    "print(\"Previsões salvas no arquivo 'predicoes/dt_predicoes.txt'\")"
   ]
  }
 ],
 "metadata": {
  "kernelspec": {
   "display_name": "base",
   "language": "python",
   "name": "python3"
  },
  "language_info": {
   "codemirror_mode": {
    "name": "ipython",
    "version": 3
   },
   "file_extension": ".py",
   "mimetype": "text/x-python",
   "name": "python",
   "nbconvert_exporter": "python",
   "pygments_lexer": "ipython3",
   "version": "3.11.7"
  }
 },
 "nbformat": 4,
 "nbformat_minor": 2
}
