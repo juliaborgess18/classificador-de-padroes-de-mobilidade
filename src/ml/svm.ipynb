{
 "cells": [
  {
   "cell_type": "markdown",
   "metadata": {},
   "source": [
    "### Import das bibliotecas utilizadas"
   ]
  },
  {
   "cell_type": "code",
   "execution_count": 87,
   "metadata": {},
   "outputs": [],
   "source": [
    "import pandas as pd\n",
    "import numpy as np\n",
    "from   sklearn.model_selection import train_test_split\n",
    "from   sklearn.metrics import accuracy_score\n",
    "from   sklearn.preprocessing import StandardScaler\n",
    "from   sklearn import svm\n",
    "from   sklearn.svm import SVC\n",
    "from   sklearn.metrics import classification_report, confusion_matrix, ConfusionMatrixDisplay\n",
    "import pickle\n",
    "import matplotlib.pyplot as plt\n",
    "import seaborn as sns\n",
    "from joblib import dump\n",
    "from joblib import load\n",
    "import os "
   ]
  },
  {
   "cell_type": "markdown",
   "metadata": {},
   "source": [
    "### Seleciona acelX, acelY, acelZ e atividade"
   ]
  },
  {
   "cell_type": "code",
   "execution_count": 91,
   "metadata": {},
   "outputs": [
    {
     "data": {
      "text/plain": [
       "array(['D01', 'F01', 'D02'], dtype=object)"
      ]
     },
     "execution_count": 91,
     "metadata": {},
     "output_type": "execute_result"
    }
   ],
   "source": [
    "dfs = []\n",
    "\n",
    "base_path = \"C:\\\\classificador-de-padroes-de-mobilidade\\\\dataset\\\\raw\\\\Dataset-FallWatch\"\n",
    "for i in range(1,6):\n",
    "    folder_name_avd = f\"U{i:02d}\\\\AVD's\"\n",
    "    folder_name_fall = f\"U{i:02d}\\\\Falls\"\n",
    "    \n",
    "    folder_path_avd = os.path.join(base_path, folder_name_avd)\n",
    "    folder_path_fall = os.path.join(base_path, folder_name_fall)\n",
    "    \n",
    "    for j in range(1, 12):\n",
    "        file_name_avd = f'U{i:02d} - D{j:02d}.csv'\n",
    "        file_path_avd = os.path.join(folder_path_avd, file_name_avd)\n",
    "        \n",
    "        file_name_fall = f'U{i:02d} - F{j:02d}.csv'\n",
    "        file_path_fall = os.path.join(folder_path_fall, file_name_fall)\n",
    "        \n",
    "        if os.path.exists(file_path_avd):\n",
    "            df = pd.read_csv(file_path_avd)\n",
    "            df['idTipoMovimento'] = f'D{j:02d}'\n",
    "            dfs.append(df)\n",
    "            \n",
    "        if os.path.exists(file_path_fall):\n",
    "            df = pd.read_csv(file_path_fall)\n",
    "            df['idTipoMovimento'] = f'F{j:02d}'\n",
    "            dfs.append(df)\n",
    "\n",
    "dataframe = pd.concat(dfs, ignore_index=True)\n",
    "\n",
    "movimentos_formatados = {\"D01\":\"Caminhando\",\n",
    "\"D02\":\"Correndo\",\n",
    "\"D03\":\"Subindo e descendo escadas\",\n",
    "\"D04\":\"Sentando em uma cadeira, esperar um momento e levantar-se\",\n",
    "\"D05\":\"Sentado por um momento, tentar levantar-se e cair na cadeira\",\n",
    "\"D06\":\"Agachando (dobrando os joelhos), amarrar sapatos e levantar-se\",\n",
    "\"D07\":\"Tropeçar enquanto caminha\",\n",
    "\"D08\":\"Pular suavemente sem cair(tentando alcançar um objeto)\",\n",
    "\"D09\":\"Bater na mesa com a mão\",\n",
    "\"D10\":\"Batendo palmas\",\n",
    "\"F01\":\"Queda para frente ao caminhar causada por escorregão\",\n",
    "\"F02\":\"Queda lateral ao caminhar causada por escorregão\",\n",
    "\"F03\":\"Queda para trás ao caminhar causada por escorregão\",\n",
    "\"F04\":\"Queda para frente ao caminhar causada por tropeço\",\n",
    "\"F05\":\"Queda para trás ao tentar sentar-se\",\n",
    "\"F06\":\"Queda para frente enquanto sentado, causada por desmaio ou adormecimento\",\n",
    "\"F07\":\"Queda para trás enquanto sentado, causada por desmaio ou adormecimento\",\n",
    "\"F08\":\"Queda lateral enquanto sentado, causada por desmaio ou adormecimento\",\n",
    "}\n",
    "\n",
    "colunas_selecionadas = ['acelX', 'acelY', 'acelZ' ,'idTipoMovimento']\n",
    "dataframe = dataframe[colunas_selecionadas]\n",
    "dataframe['MAGNITUDE_ACEL']   = np.sqrt(dataframe['acelX']**2 + dataframe['acelY']**2 + dataframe['acelZ']**2)\n",
    "dataframe = dataframe[dataframe['idTipoMovimento'].isin(['D01', 'D02', 'F01'])]"
   ]
  },
  {
   "cell_type": "markdown",
   "metadata": {},
   "source": [
    "### Mensura volume do dataset"
   ]
  },
  {
   "cell_type": "code",
   "execution_count": 89,
   "metadata": {},
   "outputs": [
    {
     "data": {
      "image/png": "[encoded data removed]",
      "text/plain": [
       "<Figure size 640x480 with 1 Axes>"
      ]
     },
     "metadata": {},
     "output_type": "display_data"
    }
   ],
   "source": [
    "eixo_x = dataframe['idTipoMovimento'].unique()\n",
    "contagem = len(dataframe)\n",
    "cores_barras = ['blue','orange','red']\n",
    "\n",
    "fig, ax = plt.subplots()\n",
    "\n",
    "bar_container = ax.bar(eixo_x, contagem, color=cores_barras)\n",
    "ax.bar_label(bar_container, fmt='{:.0f}')\n",
    "ax.set_title('Volume do dataset x Mobilidade')\n",
    "# ax.set_xlabel('Mobilidade')\n",
    "ax.set_ylabel('Volume')\n",
    "# ax.legend()\n",
    "plt.yticks([]) # Remover escala do eixo y\n",
    "plt.xticks(eixo_x)\n",
    "# plt.savefig('C:\\\\classificador-de-padroes-de-mobilidade\\\\results\\\\graphs\\\\volume_dataset_por_mobilidade.png')\n",
    "plt.show()"
   ]
  },
  {
   "cell_type": "markdown",
   "metadata": {},
   "source": [
    "### Treinamendo do teste do modelo (todas as mobilidades)"
   ]
  },
  {
   "cell_type": "code",
   "execution_count": 114,
   "metadata": {},
   "outputs": [
    {
     "name": "stdout",
     "output_type": "stream",
     "text": [
      "[[179  27 306]\n",
      " [ 78 370  64]\n",
      " [ 34  16 429]]\n",
      "              precision    recall  f1-score   support\n",
      "\n",
      "         D01       0.62      0.35      0.45       512\n",
      "         D02       0.90      0.72      0.80       512\n",
      "         F01       0.54      0.90      0.67       479\n",
      "\n",
      "    accuracy                           0.65      1503\n",
      "   macro avg       0.68      0.66      0.64      1503\n",
      "weighted avg       0.69      0.65      0.64      1503\n",
      "\n"
     ]
    },
    {
     "data": {
      "image/png": "[encoded data removed]",
      "text/plain": [
       "<Figure size 640x480 with 2 Axes>"
      ]
     },
     "metadata": {},
     "output_type": "display_data"
    }
   ],
   "source": [
    "X_train, X_test, y_train, y_test = train_test_split(dataframe[['MAGNITUDE_ACEL']], dataframe['idTipoMovimento'], test_size=0.2, random_state=42)\n",
    "\n",
    "scaler = StandardScaler()\n",
    "X_train = scaler.fit_transform(X_train)\n",
    "X_test = scaler.transform(X_test)\n",
    "\n",
    "model = SVC(kernel='rbf')  \n",
    "model.fit(X_train, y_train)\n",
    "\n",
    "y_pred = model.predict(X_test)\n",
    "\n",
    "print(confusion_matrix(y_test, y_pred))\n",
    "print(classification_report(y_test, y_pred))\n",
    "\n",
    "cm = confusion_matrix(y_test, y_pred)\n",
    "\n",
    "disp = ConfusionMatrixDisplay(confusion_matrix=cm)\n",
    "disp.plot()\n",
    "plt.savefig('C:\\\\classificador-de-padroes-de-mobilidade\\\\results\\\\graphs\\\\svm_matriz_todos_os_movimentos.png', dpi=300, bbox_inches='tight')\n",
    "\n",
    "with open('modelos/svm_model.joblib', 'wb') as file:\n",
    "    dump(model, file)"
   ]
  },
  {
   "cell_type": "code",
   "execution_count": 115,
   "metadata": {},
   "outputs": [
    {
     "name": "stderr",
     "output_type": "stream",
     "text": [
      "c:\\Users\\julia\\anaconda3\\Lib\\site-packages\\sklearn\\base.py:432: UserWarning: X has feature names, but SVC was fitted without feature names\n",
      "  warnings.warn(\n"
     ]
    },
    {
     "name": "stdout",
     "output_type": "stream",
     "text": [
      "Previsões:  ['D02' 'D02' 'D02' ... 'D02' 'D02' 'D02']\n"
     ]
    }
   ],
   "source": [
    "df_teste_modelo = dataframe[dataframe['idTipoMovimento'].isin(['F01'])]\n",
    "df_teste_modelo = df_teste_modelo.drop(columns=['acelX','acelY','acelZ','idTipoMovimento'])\n",
    "    \n",
    "with open('modelos/svm_model.joblib', 'rb') as file:\n",
    "    svm_loaded = load(file)\n",
    "    \n",
    "X_test = df_teste_modelo\n",
    "\n",
    "y_pred = svm_loaded.predict(X_test)\n",
    "\n",
    "print(\"Previsões: \", y_pred)\n",
    "\n",
    "# with open('predicoes/svm_predicoes.txt', 'w') as f:\n",
    "#     for pred in y_pred:\n",
    "#         f.write(f\"{pred}\\n\")\n",
    "\n",
    "# print(\"Previsões salvas no arquivo 'predicoes/svm_predicoes.txt'\")"
   ]
  }
 ],
 "metadata": {
  "kernelspec": {
   "display_name": "base",
   "language": "python",
   "name": "python3"
  },
  "language_info": {
   "codemirror_mode": {
    "name": "ipython",
    "version": 3
   },
   "file_extension": ".py",
   "mimetype": "text/x-python",
   "name": "python",
   "nbconvert_exporter": "python",
   "pygments_lexer": "ipython3",
   "version": "3.11.7"
  }
 },
 "nbformat": 4,
 "nbformat_minor": 2
}
