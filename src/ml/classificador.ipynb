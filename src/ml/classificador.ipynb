{
 "cells": [
  {
   "cell_type": "markdown",
   "metadata": {},
   "source": [
    "# Divide a base de dados entre 80% treinamento e 20% teste"
   ]
  },
  {
   "cell_type": "code",
   "execution_count": 6,
   "metadata": {},
   "outputs": [],
   "source": [
    "import pandas as pd\n",
    "from sklearn.model_selection import train_test_split\n",
    "\n",
    "df = pd.read_excel('C:\\\\classificador-de-padroes-de-mobilidade\\\\results\\\\planilhas\\\\andando_correndo\\\\dados.xlsx')\n",
    "\n",
    "df_train, df_test = train_test_split(df, test_size=0.2, random_state=42)\n",
    "\n",
    "df_train.to_excel('C:\\\\classificador-de-padroes-de-mobilidade\\\\results\\\\ml\\\\andando_correndo\\\\planilha_treinamento.xlsx', index=False)\n",
    "df_test.to_excel('C:\\\\classificador-de-padroes-de-mobilidade\\\\results\\\\ml\\\\andando_correndo\\\\planilha_teste.xlsx', index=False)"
   ]
  },
  {
   "cell_type": "code",
   "execution_count": 10,
   "metadata": {},
   "outputs": [
    {
     "name": "stdout",
     "output_type": "stream",
     "text": [
      "[[267   1]\n",
      " [  1  24]]\n",
      "              precision    recall  f1-score   support\n",
      "\n",
      "     ANDANDO       1.00      1.00      1.00       268\n",
      "    CORRENDO       0.96      0.96      0.96        25\n",
      "\n",
      "    accuracy                           0.99       293\n",
      "   macro avg       0.98      0.98      0.98       293\n",
      "weighted avg       0.99      0.99      0.99       293\n",
      "\n"
     ]
    }
   ],
   "source": [
    "from sklearn.metrics import accuracy_score\n",
    "from sklearn.preprocessing import StandardScaler\n",
    "from sklearn import svm\n",
    "from sklearn.svm import SVC\n",
    "from sklearn.metrics import classification_report, confusion_matrix\n",
    "\n",
    "X_train, X_test, y_train, y_test = train_test_split(df_train[['X', 'Y', 'Z']], df_train['ATIVIDADE'], test_size=0.2, random_state=42)\n",
    "\n",
    "# Normalize os dados\n",
    "scaler = StandardScaler()\n",
    "X_train = scaler.fit_transform(X_train)\n",
    "X_test = scaler.transform(X_test)\n",
    "\n",
    "# Passo 3: Treinamento do Modelo SVM\n",
    "model = SVC(kernel='linear')  \n",
    "model.fit(X_train, y_train)\n",
    "\n",
    "# Passo 4: Avaliação do Modelo\n",
    "y_pred = model.predict(X_test)\n",
    "\n",
    "print(confusion_matrix(y_test, y_pred))\n",
    "print(classification_report(y_test, y_pred))"
   ]
  }
 ],
 "metadata": {
  "kernelspec": {
   "display_name": "base",
   "language": "python",
   "name": "python3"
  },
  "language_info": {
   "codemirror_mode": {
    "name": "ipython",
    "version": 3
   },
   "file_extension": ".py",
   "mimetype": "text/x-python",
   "name": "python",
   "nbconvert_exporter": "python",
   "pygments_lexer": "ipython3",
   "version": "3.11.7"
  }
 },
 "nbformat": 4,
 "nbformat_minor": 2
}
